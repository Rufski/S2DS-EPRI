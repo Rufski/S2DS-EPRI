{
 "cells": [
  {
   "cell_type": "code",
   "execution_count": 1,
   "metadata": {},
   "outputs": [],
   "source": [
    "# In the root of the repo run \"pip install --editable .\"\n",
    "\n",
    "# OPTIONAL: Load the \"autoreload\" extension so that code can change\n",
    "%load_ext autoreload\n",
    "\n",
    "# OPTIONAL: always reload modules so that as you change code in src, it gets loaded\n",
    "%autoreload 2"
   ]
  },
  {
   "cell_type": "markdown",
   "metadata": {},
   "source": [
    "# Normalization of Power Signal\n",
    "\n",
    "Author: Clemens Jochum"
   ]
  },
  {
   "cell_type": "code",
   "execution_count": 2,
   "metadata": {},
   "outputs": [],
   "source": [
    "import pandas as pd\n",
    "import matplotlib.pyplot as plt\n",
    "import numpy as np\n",
    "from src.data.import_data import import_df_from_zip_pkl, import_df_info_from_zip\n",
    "from src.features.performance_index import normalize_power_signal\n",
    "from src.data.make_dataset import downsample_dataframe"
   ]
  },
  {
   "cell_type": "code",
   "execution_count": 3,
   "metadata": {},
   "outputs": [],
   "source": [
    "from warnings import filterwarnings\n",
    "filterwarnings('ignore')\n",
    "\n",
    "#plt.rcParams[\"figure.figsize\"] = [10, 5]\n",
    "#plt.rcParams['figure.dpi'] = 250\n",
    "#'font.size': 10, 'savefig.dpi': 72, 'figure.subplot.bottom': 0.125"
   ]
  },
  {
   "cell_type": "markdown",
   "metadata": {},
   "source": [
    "### Import Datasets\n",
    "\n",
    "Import a range of datasets for each type of synthetic data."
   ]
  },
  {
   "cell_type": "code",
   "execution_count": 7,
   "metadata": {},
   "outputs": [],
   "source": [
    "data_key = 'weather'\n",
    "\n",
    "n_samples = 100\n",
    "path_to_data_raw = '../data/raw/'\n",
    "path_to_dataset = '{0:s}/synthetic_{1:s}_extra.zip'.format(path_to_data_raw, data_key)"
   ]
  },
  {
   "cell_type": "code",
   "execution_count": 8,
   "metadata": {},
   "outputs": [],
   "source": [
    "poa_reference_02 = pd.read_pickle('../data/raw/clear_sky_CO.pkl', compression='gzip')\n",
    "\n",
    "t_begin = pd.Timestamp('2015-01-01 00:00:00').tz_localize('Etc/GMT+7')\n",
    "t_final = pd.Timestamp('2019-12-31 23:59:00').tz_localize('Etc/GMT+7')\n",
    "datetime_01 = pd.date_range(t_begin, poa_reference_02.index[0], freq='min')[:-1]\n",
    "datetime_03 = pd.date_range(poa_reference_02.index[-1], t_final, freq='min')[1:]\n",
    "\n",
    "poa_reference_01 = pd.Series(data=0., index=datetime_01, name='POAcs')\n",
    "poa_reference_03 = pd.Series(data=0., index=datetime_03, name='POAcs')\n",
    "\n",
    "poa_reference_co = pd.concat((poa_reference_01, poa_reference_02, poa_reference_03))\n",
    "\n",
    "#print(pd.Timedelta(poa_reference_02.index[0] - t_begin).seconds / 60)\n",
    "#print(pd.Timedelta(t_final - poa_reference_02.index[-1]).seconds / 60)\n",
    "#print(pd.date_range(t_begin, poa_reference_02.index[0], freq='min')[:-1].size)\n",
    "#print(pd.date_range(poa_reference_02.index[-1], t_final, freq='min')[1:].size)\n",
    "\n",
    "#poa_reference[:7*1440].plot()\n",
    "#print(df.POA.size - poa_reference.size)\n"
   ]
  },
  {
   "cell_type": "code",
   "execution_count": 9,
   "metadata": {},
   "outputs": [
    {
     "ename": "FileNotFoundError",
     "evalue": "[Errno 2] No such file or directory: '../data/raw//synthetic_weather_extra.zip'",
     "output_type": "error",
     "traceback": [
      "\u001b[0;31m---------------------------------------------------------------------------\u001b[0m",
      "\u001b[0;31mFileNotFoundError\u001b[0m                         Traceback (most recent call last)",
      "\u001b[0;32m<ipython-input-9-b963a63c1289>\u001b[0m in \u001b[0;36m<module>\u001b[0;34m\u001b[0m\n\u001b[1;32m      1\u001b[0m \u001b[0;32mfor\u001b[0m \u001b[0mindex\u001b[0m \u001b[0;32min\u001b[0m \u001b[0mrange\u001b[0m\u001b[0;34m(\u001b[0m\u001b[0mn_samples\u001b[0m\u001b[0;34m)\u001b[0m\u001b[0;34m:\u001b[0m\u001b[0;34m\u001b[0m\u001b[0;34m\u001b[0m\u001b[0m\n\u001b[0;32m----> 2\u001b[0;31m     \u001b[0mdf\u001b[0m \u001b[0;34m=\u001b[0m \u001b[0mimport_df_from_zip_pkl\u001b[0m\u001b[0;34m(\u001b[0m\u001b[0mpath_to_dataset\u001b[0m\u001b[0;34m,\u001b[0m \u001b[0mindex\u001b[0m\u001b[0;34m)\u001b[0m\u001b[0;34m\u001b[0m\u001b[0;34m\u001b[0m\u001b[0m\n\u001b[0m\u001b[1;32m      3\u001b[0m \u001b[0;34m\u001b[0m\u001b[0m\n\u001b[1;32m      4\u001b[0m     \u001b[0moutlier_threshold\u001b[0m \u001b[0;34m=\u001b[0m \u001b[0;36m0.0\u001b[0m\u001b[0;34m\u001b[0m\u001b[0;34m\u001b[0m\u001b[0m\n\u001b[1;32m      5\u001b[0m \u001b[0;34m\u001b[0m\u001b[0m\n",
      "\u001b[0;32m~/s2ds/code/Aug20_Epri/src/data/import_data.py\u001b[0m in \u001b[0;36mimport_df_from_zip_pkl\u001b[0;34m(path_to_zip, index, verbose, minofday)\u001b[0m\n\u001b[1;32m    134\u001b[0m     \u001b[0;31m# unpickle df from within within zip\u001b[0m\u001b[0;34m\u001b[0m\u001b[0;34m\u001b[0m\u001b[0;34m\u001b[0m\u001b[0m\n\u001b[1;32m    135\u001b[0m     \u001b[0mtime_00\u001b[0m \u001b[0;34m=\u001b[0m \u001b[0mtime\u001b[0m\u001b[0;34m.\u001b[0m\u001b[0mtime\u001b[0m\u001b[0;34m(\u001b[0m\u001b[0;34m)\u001b[0m\u001b[0;34m\u001b[0m\u001b[0;34m\u001b[0m\u001b[0m\n\u001b[0;32m--> 136\u001b[0;31m     \u001b[0mzip_file\u001b[0m \u001b[0;34m=\u001b[0m \u001b[0mzf\u001b[0m\u001b[0;34m.\u001b[0m\u001b[0mZipFile\u001b[0m\u001b[0;34m(\u001b[0m\u001b[0mpath_to_zip\u001b[0m\u001b[0;34m)\u001b[0m\u001b[0;34m\u001b[0m\u001b[0;34m\u001b[0m\u001b[0m\n\u001b[0m\u001b[1;32m    137\u001b[0m     \u001b[0mlist_fileinfos\u001b[0m \u001b[0;34m=\u001b[0m \u001b[0mzip_file\u001b[0m\u001b[0;34m.\u001b[0m\u001b[0mfilelist\u001b[0m\u001b[0;34m\u001b[0m\u001b[0;34m\u001b[0m\u001b[0m\n\u001b[1;32m    138\u001b[0m     list_filenames = [file_in_zip.filename for file_in_zip\n",
      "\u001b[0;32m/usr/lib/python3.6/zipfile.py\u001b[0m in \u001b[0;36m__init__\u001b[0;34m(self, file, mode, compression, allowZip64)\u001b[0m\n\u001b[1;32m   1111\u001b[0m             \u001b[0;32mwhile\u001b[0m \u001b[0;32mTrue\u001b[0m\u001b[0;34m:\u001b[0m\u001b[0;34m\u001b[0m\u001b[0;34m\u001b[0m\u001b[0m\n\u001b[1;32m   1112\u001b[0m                 \u001b[0;32mtry\u001b[0m\u001b[0;34m:\u001b[0m\u001b[0;34m\u001b[0m\u001b[0;34m\u001b[0m\u001b[0m\n\u001b[0;32m-> 1113\u001b[0;31m                     \u001b[0mself\u001b[0m\u001b[0;34m.\u001b[0m\u001b[0mfp\u001b[0m \u001b[0;34m=\u001b[0m \u001b[0mio\u001b[0m\u001b[0;34m.\u001b[0m\u001b[0mopen\u001b[0m\u001b[0;34m(\u001b[0m\u001b[0mfile\u001b[0m\u001b[0;34m,\u001b[0m \u001b[0mfilemode\u001b[0m\u001b[0;34m)\u001b[0m\u001b[0;34m\u001b[0m\u001b[0;34m\u001b[0m\u001b[0m\n\u001b[0m\u001b[1;32m   1114\u001b[0m                 \u001b[0;32mexcept\u001b[0m \u001b[0mOSError\u001b[0m\u001b[0;34m:\u001b[0m\u001b[0;34m\u001b[0m\u001b[0;34m\u001b[0m\u001b[0m\n\u001b[1;32m   1115\u001b[0m                     \u001b[0;32mif\u001b[0m \u001b[0mfilemode\u001b[0m \u001b[0;32min\u001b[0m \u001b[0mmodeDict\u001b[0m\u001b[0;34m:\u001b[0m\u001b[0;34m\u001b[0m\u001b[0;34m\u001b[0m\u001b[0m\n",
      "\u001b[0;31mFileNotFoundError\u001b[0m: [Errno 2] No such file or directory: '../data/raw//synthetic_weather_extra.zip'"
     ]
    }
   ],
   "source": [
    "for index in range(n_samples):\n",
    "    df = import_df_from_zip_pkl(path_to_dataset, index)\n",
    "    \n",
    "    outlier_threshold = 0.0\n",
    "    \n",
    "    if data_key in ['basic', 'soil']:\n",
    "        clearsky = False\n",
    "    else:\n",
    "        clearsky = True\n",
    "    \n",
    "    if data_key in ['basic', 'soil']:\n",
    "        poa_reference = None\n",
    "    elif data_key in ['soil_weather', 'weather']:\n",
    "        poa_reference = poa_reference_co\n",
    "    \n",
    "    p_norm_daily_clipping_basic = normalize_power_signal(df, poa_reference, clearsky=clearsky, nighttime=True, clipping='basic', verbose=True, outlier_threshold = outlier_threshold)\n",
    "    p_norm_daily_clipping_flexible = normalize_power_signal(df, poa_reference, clearsky=clearsky, nighttime=True, clipping='flexible', verbose=True, outlier_threshold = outlier_threshold)\n",
    "    p_norm_daily_clipping_universal = normalize_power_signal(df, poa_reference, clearsky=clearsky, nighttime=True, clipping='universal', verbose=True, outlier_threshold = outlier_threshold)\n",
    "       \n",
    "    df_pkl = downsample_dataframe(df)\n",
    "    df_pkl['PI_clipping_basic'] = p_norm_daily_clipping_basic\n",
    "    df_pkl['PI_clipping_flexible'] = p_norm_daily_clipping_flexible\n",
    "    df_pkl['PI_clipping_universal'] = p_norm_daily_clipping_universal\n",
    "    df_pkl.to_pickle('../data/synthetic_{:s}_pi_daily_{:s}.pkl'.format(data_key, str(index+1).zfill(3)), compression = 'gzip', protocol = 3)"
   ]
  },
  {
   "cell_type": "code",
   "execution_count": null,
   "metadata": {},
   "outputs": [],
   "source": []
  },
  {
   "cell_type": "code",
   "execution_count": null,
   "metadata": {},
   "outputs": [],
   "source": []
  },
  {
   "cell_type": "code",
   "execution_count": null,
   "metadata": {},
   "outputs": [],
   "source": [
    "# test\n",
    "df_pi = pd.read_pickle('../data/raw/synthetic_basic_pi_daily/synthetic_basic_pi_daily_001.pkl', compression = 'gzip')\n",
    "df_pi.PI.plot()"
   ]
  },
  {
   "cell_type": "code",
   "execution_count": null,
   "metadata": {},
   "outputs": [],
   "source": []
  }
 ],
 "metadata": {
  "kernelspec": {
   "display_name": "Python 3",
   "language": "python",
   "name": "python3"
  },
  "language_info": {
   "codemirror_mode": {
    "name": "ipython",
    "version": 3
   },
   "file_extension": ".py",
   "mimetype": "text/x-python",
   "name": "python",
   "nbconvert_exporter": "python",
   "pygments_lexer": "ipython3",
   "version": "3.6.9"
  }
 },
 "nbformat": 4,
 "nbformat_minor": 4
}
