{
 "cells": [
  {
   "cell_type": "code",
   "execution_count": null,
   "metadata": {},
   "outputs": [],
   "source": [
    "# In the root of the repo run \"pip install --editable .\"\n",
    "\n",
    "# OPTIONAL: Load the \"autoreload\" extension so that code can change\n",
    "%load_ext autoreload\n",
    "\n",
    "# OPTIONAL: always reload modules so that as you change code in src, it gets loaded\n",
    "%autoreload 2"
   ]
  },
  {
   "cell_type": "markdown",
   "metadata": {},
   "source": [
    "# Cleaning Event Detection\n",
    "\n",
    "Author: Clemens Jochum"
   ]
  },
  {
   "cell_type": "code",
   "execution_count": null,
   "metadata": {},
   "outputs": [],
   "source": [
    "import pandas as pd\n",
    "import matplotlib.pyplot as plt\n",
    "import numpy as np\n",
    "\n",
    "from src.data.import_data import import_df_from_zip_pkl\n",
    "from src.data.make_dataset import remove_clipping_with_flexible_window, remove_clipping_with_universal_window\n",
    "\n",
    "from src.features.detect_soiling import detect_cleaning_events_with_rollling_avg"
   ]
  },
  {
   "cell_type": "code",
   "execution_count": null,
   "metadata": {},
   "outputs": [],
   "source": [
    "from warnings import filterwarnings\n",
    "filterwarnings('ignore')\n",
    "\n",
    "#plt.rcParams[\"figure.figsize\"] = [10, 5]\n",
    "#plt.rcParams['figure.dpi'] = 250\n",
    "#'font.size': 10, 'savefig.dpi': 72, 'figure.subplot.bottom': 0.125"
   ]
  },
  {
   "cell_type": "markdown",
   "metadata": {},
   "source": [
    "### Import Datasets\n",
    "\n",
    "Use a random dataset for each type of synthetic data."
   ]
  },
  {
   "cell_type": "code",
   "execution_count": null,
   "metadata": {},
   "outputs": [],
   "source": [
    "path_to_data_raw = '../data/raw/'\n",
    "\n",
    "list_data_keys = ['basic', 'soil', 'soil_weather_locations']\n",
    "list_index_random = np.ones(len(list_data_keys), dtype=np.int)\n",
    "#list_index_random = np.random.randint(50, size=len(list_data_keys))\n",
    "\n",
    "dict_index_dataset = {}\n",
    "for (data_key, dataset_index) in zip(list_data_keys, list_index_random):\n",
    "    dict_index_dataset[data_key] = dataset_index\n",
    "    \n",
    "dict_data_paths = {}\n",
    "for data_key in list_data_keys:\n",
    "    dict_data_paths[data_key] = '{0:s}/synthetic_{1:s}.zip'.format(path_to_data_raw, data_key)"
   ]
  },
  {
   "cell_type": "code",
   "execution_count": null,
   "metadata": {},
   "outputs": [],
   "source": [
    "dict_df = {}\n",
    "for data_key in list_data_keys:\n",
    "    dict_df[data_key] = {}\n",
    "    dict_df[data_key]['T'] = import_df_from_zip_pkl(dict_data_paths[data_key], dict_index_dataset[data_key])"
   ]
  },
  {
   "cell_type": "markdown",
   "metadata": {},
   "source": [
    "### Resample Datasets\n",
    "\n",
    "Downsample minutes ('T') to hours ('H'), days ('D'), weeks ('W'), months ('MS'), and years ('AS') using mean."
   ]
  },
  {
   "cell_type": "code",
   "execution_count": null,
   "metadata": {},
   "outputs": [],
   "source": [
    "list_resample_rules = ['H', 'D', 'W', 'MS', 'AS']\n",
    "\n",
    "dict_label_resample_rules = {\n",
    "    'T' : 'minute',\n",
    "    'H' : 'hour',\n",
    "    'D' : 'day',\n",
    "    'W' : 'week',\n",
    "    'MS' : 'month',\n",
    "    'AS' : 'year',\n",
    "}\n",
    "\n",
    "dict_timeunits_per_year = {\n",
    "    'MS' : 12,\n",
    "    'W' : 52,\n",
    "    'D' : 365,\n",
    "    'H' : 24 * 365,\n",
    "    'T' : 60 * 24 * 365,\n",
    "}"
   ]
  },
  {
   "cell_type": "code",
   "execution_count": null,
   "metadata": {},
   "outputs": [],
   "source": [
    "for data_key in list_data_keys:\n",
    "    for resample_rule in list_resample_rules:\n",
    "        dict_df[data_key]['T'] = remove_clipping_with_universal_window(dict_df[data_key]['T'])\n",
    "        dict_df[data_key][resample_rule] = dict_df[data_key]['T'].resample(resample_rule).mean()"
   ]
  },
  {
   "cell_type": "code",
   "execution_count": null,
   "metadata": {},
   "outputs": [],
   "source": [
    "df = dict_df['soil']['D']\n",
    "cleaning_profile, cleaning_events = detect_cleaning_events_with_rollling_avg(df['Power'])\n",
    "\n",
    "plt.rcParams[\"figure.figsize\"] = [10, 10]\n",
    "fig, axarr = plt.subplots(4)\n",
    "\n",
    "axarr[0].plot(df['Soiling'].to_numpy())\n",
    "axarr[1].plot(cleaning_profile)\n",
    "axarr[2].plot(np.diff(cleaning_profile))\n",
    "axarr[3].plot(df['Power'].to_numpy())\n",
    "\n",
    "for pos in cleaning_events:\n",
    "    axarr[0].axvline(x=pos-0.0, color='k', linestyle='--', linewidth=0.5)\n",
    "    axarr[1].axvline(x=pos-1.0, color='k', linestyle='--', linewidth=0.5)\n",
    "    axarr[2].axvline(x=pos-1.5, color='k', linestyle='--', linewidth=0.5)\n",
    "    axarr[3].axvline(x=pos-2.0, color='k', linestyle='--', linewidth=0.5)\n",
    "\n",
    "xmin, xmax = 0, df['Power'].size\n",
    "#xmin, xmax = 1000, 1100\n",
    "#xmin, xmax = 1270, 1280\n",
    "axarr[0].set_xlim([xmin, xmax])\n",
    "axarr[1].set_xlim([xmin, xmax])\n",
    "axarr[2].set_xlim([xmin, xmax])\n",
    "axarr[3].set_xlim([xmin, xmax])\n",
    "\n",
    "plt.show()"
   ]
  },
  {
   "cell_type": "code",
   "execution_count": null,
   "metadata": {},
   "outputs": [],
   "source": [
    "#cleaning_events = np.where(np.diff(cleaning_profile, 2) <= -0.020)[0]\n",
    "#cleaning_events += 1 #np.ones(cleaning_events.shape)\n",
    "#print(cleaning_events)\n",
    "#np.mean(cleaning_events[i + (window_size - 1)], cleaning_events[i - (window_size - 1)])\n",
    "#cleaning_events = np.where(cleaning_profile \n",
    "#cleaning_events += 1 #np.ones(cleaning_events.shape)\n",
    "#print(cleaning_events)\n",
    "#print(df['Power'].to_numpy()[0:10], df['Power'].to_numpy()[-10:])\n",
    "#print(cleaning_profile[0:10], cleaning_profile[-10:])"
   ]
  }
 ],
 "metadata": {
  "kernelspec": {
   "display_name": "Python 3",
   "language": "python",
   "name": "python3"
  },
  "language_info": {
   "codemirror_mode": {
    "name": "ipython",
    "version": 3
   },
   "file_extension": ".py",
   "mimetype": "text/x-python",
   "name": "python",
   "nbconvert_exporter": "python",
   "pygments_lexer": "ipython3",
   "version": "3.8.2"
  }
 },
 "nbformat": 4,
 "nbformat_minor": 4
}
