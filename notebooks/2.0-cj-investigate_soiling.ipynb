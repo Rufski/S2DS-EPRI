{
 "cells": [
  {
   "cell_type": "code",
   "execution_count": null,
   "metadata": {},
   "outputs": [],
   "source": [
    "# In the root of the repo run \"pip install --editable .\"\n",
    "\n",
    "# OPTIONAL: Load the \"autoreload\" extension so that code can change\n",
    "%load_ext autoreload\n",
    "\n",
    "# OPTIONAL: always reload modules so that as you change code in src, it gets loaded\n",
    "%autoreload 2"
   ]
  },
  {
   "cell_type": "markdown",
   "metadata": {},
   "source": [
    "# Cleaning Event Detection\n",
    "\n",
    "Author: Clemens Jochum"
   ]
  },
  {
   "cell_type": "code",
   "execution_count": null,
   "metadata": {},
   "outputs": [],
   "source": [
    "import pandas as pd\n",
    "import matplotlib.pyplot as plt\n",
    "import numpy as np\n",
    "\n",
    "from src.data.import_data import import_df_from_zip_pkl\n",
    "from src.data.make_dataset import downsample_dataframe\n",
    "from src.features.build_features import find_true_cleaning_events\n",
    "from src.models.detect_soiling import detect_cleaning_events_with_rolling_avg, get_accuracy_of_predicted_cleaning_events"
   ]
  },
  {
   "cell_type": "code",
   "execution_count": null,
   "metadata": {},
   "outputs": [],
   "source": [
    "from warnings import filterwarnings\n",
    "filterwarnings('ignore')\n",
    "\n",
    "#plt.rcParams[\"figure.figsize\"] = [10, 5]\n",
    "#plt.rcParams['figure.dpi'] = 250\n",
    "#'font.size': 10, 'savefig.dpi': 72, 'figure.subplot.bottom': 0.125"
   ]
  },
  {
   "cell_type": "markdown",
   "metadata": {},
   "source": [
    "### Import Datasets\n",
    "\n",
    "Use one (random) dataset for each type of synthetic data."
   ]
  },
  {
   "cell_type": "code",
   "execution_count": null,
   "metadata": {},
   "outputs": [],
   "source": [
    "path_to_data_raw = '../data/raw/'\n",
    "\n",
    "list_data_keys = ['basic', 'soil', 'soil_weather', 'weather']\n",
    "list_index_random = [1] * len(list_data_keys)\n",
    "#list_index_random = np.random.randint(50, size=len(list_data_keys))\n",
    "\n",
    "dict_index_dataset = {}\n",
    "for (data_key, dataset_index) in zip(list_data_keys, list_index_random):\n",
    "    dict_index_dataset[data_key] = dataset_index\n",
    "    \n",
    "dict_data_paths = {}\n",
    "for data_key in list_data_keys:\n",
    "    dict_data_paths[data_key] = '{0:s}/synthetic_{1:s}.zip'.format(path_to_data_raw, data_key)"
   ]
  },
  {
   "cell_type": "code",
   "execution_count": null,
   "metadata": {},
   "outputs": [],
   "source": [
    "dict_df = {}\n",
    "for data_key in list_data_keys:\n",
    "    dict_df[data_key] = {}\n",
    "    dict_df[data_key]['T'] = import_df_from_zip_pkl(dict_data_paths[data_key], dict_index_dataset[data_key])"
   ]
  },
  {
   "cell_type": "markdown",
   "metadata": {},
   "source": [
    "### Resample Datasets\n",
    "\n",
    "Downsample minutes ('T') to hours ('H'), days ('D'), weeks ('W'), months ('MS'), and years ('AS') using mean."
   ]
  },
  {
   "cell_type": "code",
   "execution_count": null,
   "metadata": {},
   "outputs": [],
   "source": [
    "list_resample_rules = ['H', 'D', 'W', 'MS', 'AS']\n",
    "\n",
    "dict_label_resample_rules = {\n",
    "    'T' : 'minute',\n",
    "    'H' : 'hour',\n",
    "    'D' : 'day',\n",
    "    'W' : 'week',\n",
    "    'MS' : 'month',\n",
    "    'AS' : 'year',\n",
    "}\n",
    "\n",
    "dict_timeunits_per_year = {\n",
    "    'MS' : 12,\n",
    "    'W' : 52,\n",
    "    'D' : 365,\n",
    "    'H' : 24 * 365,\n",
    "    'T' : 60 * 24 * 365,\n",
    "}"
   ]
  },
  {
   "cell_type": "code",
   "execution_count": null,
   "metadata": {},
   "outputs": [],
   "source": [
    "for data_key in list_data_keys:\n",
    "    for resample_rule in list_resample_rules:\n",
    "        #dict_df[data_key]['T'] = remove_clipping_with_universal_window(dict_df[data_key]['T'])\n",
    "        dict_df[data_key][resample_rule] = downsample_dataframe(dict_df[data_key]['T'],\n",
    "                                                                clip_method = 'universal',\n",
    "                                                                night_method = 'basic',\n",
    "                                                                offset = resample_rule,)"
   ]
  },
  {
   "cell_type": "markdown",
   "metadata": {},
   "source": [
    "### Detect cleaning events\n",
    "\n",
    "Detect the cleaning event from a 'synthetic_soil' time-series. Does not work on 'synthetic_soil_weather'."
   ]
  },
  {
   "cell_type": "code",
   "execution_count": null,
   "metadata": {},
   "outputs": [],
   "source": [
    "df = dict_df['soil']['D']\n",
    "#df = dict_df['soil_weather']['D']\n",
    "cleaning_profile, cleaning_events_index, cleaning_events_height = detect_cleaning_events_with_rolling_avg(df['Power'])\n",
    "\n",
    "plt.rcParams[\"figure.figsize\"] = [10, 10]\n",
    "fig, axarr = plt.subplots(4, sharex=True)\n",
    "\n",
    "axarr[0].plot(df['Soiling'].to_numpy())\n",
    "axarr[1].plot(cleaning_profile)\n",
    "axarr[2].plot(np.diff(cleaning_profile))\n",
    "axarr[3].plot(df['Power'].to_numpy())\n",
    "\n",
    "for pos in cleaning_events_index:\n",
    "    axarr[0].axvline(x=pos-0.0, color='k', linestyle='--', linewidth=0.5)\n",
    "    axarr[1].axvline(x=pos-1.0, color='k', linestyle='--', linewidth=0.5)\n",
    "    axarr[2].axvline(x=pos-1.5, color='k', linestyle='--', linewidth=0.5)\n",
    "    axarr[3].axvline(x=pos-0.0, color='k', linestyle='--', linewidth=0.5)\n",
    "\n",
    "xmin, xmax = 0, df['Power'].size\n",
    "#xmin, xmax = 1000, 1100\n",
    "#xmin, xmax = 1270, 1280\n",
    "\n",
    "\n",
    "list_ylabel = ['soiling ratio', 'cleaning profile', 'd(cleaning profile)/dt', 'Power [kW]']\n",
    "for i in range(4): \n",
    "    axarr[i].set_xlim([xmin, xmax])\n",
    "    axarr[i].set_ylabel(list_ylabel[i])\n",
    "     \n",
    "axarr[3].set_xlabel('time [d]')\n",
    "        \n",
    "axarr[1].set_xlim([xmin, xmax])\n",
    "axarr[2].set_xlim([xmin, xmax])\n",
    "axarr[3].set_xlim([xmin, xmax])\n",
    "\n",
    "plt.show()"
   ]
  },
  {
   "cell_type": "code",
   "execution_count": null,
   "metadata": {},
   "outputs": [],
   "source": [
    "help(detect_cleaning_events_with_rolling_avg)"
   ]
  },
  {
   "cell_type": "markdown",
   "metadata": {},
   "source": [
    "### Get accuracy from cleaning events\n",
    "\n",
    "Detect the cleaning event from a 'synthetic_soil' time-series. Does not work on 'synthetic_soil_weather'."
   ]
  },
  {
   "cell_type": "code",
   "execution_count": null,
   "metadata": {},
   "outputs": [],
   "source": [
    "dict_accuracy = get_accuracy_of_predicted_cleaning_events(df)"
   ]
  },
  {
   "cell_type": "code",
   "execution_count": null,
   "metadata": {},
   "outputs": [],
   "source": [
    "dict_accuracy"
   ]
  },
  {
   "cell_type": "code",
   "execution_count": null,
   "metadata": {},
   "outputs": [],
   "source": [
    "help(get_accuracy_of_predicted_cleaning_events)"
   ]
  },
  {
   "cell_type": "code",
   "execution_count": null,
   "metadata": {},
   "outputs": [],
   "source": []
  },
  {
   "cell_type": "code",
   "execution_count": null,
   "metadata": {},
   "outputs": [],
   "source": []
  },
  {
   "cell_type": "code",
   "execution_count": null,
   "metadata": {},
   "outputs": [],
   "source": []
  },
  {
   "cell_type": "code",
   "execution_count": null,
   "metadata": {},
   "outputs": [],
   "source": []
  },
  {
   "cell_type": "code",
   "execution_count": null,
   "metadata": {},
   "outputs": [],
   "source": []
  }
 ],
 "metadata": {
  "kernelspec": {
   "display_name": "Python 3",
   "language": "python",
   "name": "python3"
  },
  "language_info": {
   "codemirror_mode": {
    "name": "ipython",
    "version": 3
   },
   "file_extension": ".py",
   "mimetype": "text/x-python",
   "name": "python",
   "nbconvert_exporter": "python",
   "pygments_lexer": "ipython3",
   "version": "3.8.2"
  }
 },
 "nbformat": 4,
 "nbformat_minor": 4
}
