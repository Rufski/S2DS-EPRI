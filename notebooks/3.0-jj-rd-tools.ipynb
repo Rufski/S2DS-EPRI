{
 "cells": [
  {
   "cell_type": "code",
   "execution_count": 1,
   "metadata": {},
   "outputs": [],
   "source": [
    "# In the root of the repo run \"pip install --editable .\"\n",
    "\n",
    "# OPTIONAL: Load the \"autoreload\" extension so that code can change\n",
    "%load_ext autoreload\n",
    "\n",
    "# OPTIONAL: always reload modules so that as you change code in src, it gets loaded\n",
    "%autoreload 2\n",
    "\n",
    "# Replace sample_func_dir by the name of directory in src/ and replace sample_func_file the\n",
    "# file name in src/sample_func_dir"
   ]
  },
  {
   "cell_type": "code",
   "execution_count": 2,
   "metadata": {},
   "outputs": [],
   "source": [
    "# import the function\n",
    "from src.data.import_data import import_df_from_zip_pkl\n",
    "from src.data.make_dataset import *\n",
    "\n",
    "import matplotlib.pyplot as plt\n",
    "\n",
    "from rdtools.soiling import soiling_srr"
   ]
  },
  {
   "cell_type": "markdown",
   "metadata": {},
   "source": [
    "# Soiling function of rdTools"
   ]
  },
  {
   "cell_type": "code",
   "execution_count": 3,
   "metadata": {},
   "outputs": [],
   "source": [
    "# path to the zip-archive\n",
    "path_to_zip_pkl = '../data/raw/synthetic_soil.zip' "
   ]
  },
  {
   "cell_type": "code",
   "execution_count": 4,
   "metadata": {},
   "outputs": [
    {
     "name": "stdout",
     "output_type": "stream",
     "text": [
      "time for importing dataframe: 0.72 seconds\n"
     ]
    }
   ],
   "source": [
    "df = import_df_from_zip_pkl(path_to_zip_pkl, index=15, verbose=True)"
   ]
  },
  {
   "cell_type": "code",
   "execution_count": 5,
   "metadata": {},
   "outputs": [],
   "source": [
    "df_down = downsample_dataframe(df)"
   ]
  },
  {
   "cell_type": "code",
   "execution_count": 6,
   "metadata": {},
   "outputs": [
    {
     "data": {
      "text/html": [
       "<div>\n",
       "<style scoped>\n",
       "    .dataframe tbody tr th:only-of-type {\n",
       "        vertical-align: middle;\n",
       "    }\n",
       "\n",
       "    .dataframe tbody tr th {\n",
       "        vertical-align: top;\n",
       "    }\n",
       "\n",
       "    .dataframe thead th {\n",
       "        text-align: right;\n",
       "    }\n",
       "</style>\n",
       "<table border=\"1\" class=\"dataframe\">\n",
       "  <thead>\n",
       "    <tr style=\"text-align: right;\">\n",
       "      <th></th>\n",
       "      <th>Power</th>\n",
       "      <th>POA</th>\n",
       "      <th>Tamb</th>\n",
       "      <th>Wind</th>\n",
       "      <th>Degradation</th>\n",
       "      <th>Soiling</th>\n",
       "      <th>Faults</th>\n",
       "      <th>minute_of_day</th>\n",
       "    </tr>\n",
       "    <tr>\n",
       "      <th>datetime</th>\n",
       "      <th></th>\n",
       "      <th></th>\n",
       "      <th></th>\n",
       "      <th></th>\n",
       "      <th></th>\n",
       "      <th></th>\n",
       "      <th></th>\n",
       "      <th></th>\n",
       "    </tr>\n",
       "  </thead>\n",
       "  <tbody>\n",
       "    <tr>\n",
       "      <th>2015-01-01 00:00:00-05:00</th>\n",
       "      <td>306.363889</td>\n",
       "      <td>122.879861</td>\n",
       "      <td>6.325347</td>\n",
       "      <td>0.0</td>\n",
       "      <td>0.999984</td>\n",
       "      <td>0.998523</td>\n",
       "      <td>1.0</td>\n",
       "      <td>719.5</td>\n",
       "    </tr>\n",
       "    <tr>\n",
       "      <th>2015-01-02 00:00:00-05:00</th>\n",
       "      <td>307.875000</td>\n",
       "      <td>123.457639</td>\n",
       "      <td>6.283333</td>\n",
       "      <td>0.0</td>\n",
       "      <td>0.999952</td>\n",
       "      <td>0.998351</td>\n",
       "      <td>1.0</td>\n",
       "      <td>719.5</td>\n",
       "    </tr>\n",
       "    <tr>\n",
       "      <th>2015-01-03 00:00:00-05:00</th>\n",
       "      <td>309.203472</td>\n",
       "      <td>124.077083</td>\n",
       "      <td>6.237153</td>\n",
       "      <td>0.0</td>\n",
       "      <td>0.999920</td>\n",
       "      <td>0.997251</td>\n",
       "      <td>1.0</td>\n",
       "      <td>719.5</td>\n",
       "    </tr>\n",
       "    <tr>\n",
       "      <th>2015-01-04 00:00:00-05:00</th>\n",
       "      <td>310.650694</td>\n",
       "      <td>124.736111</td>\n",
       "      <td>6.194306</td>\n",
       "      <td>0.0</td>\n",
       "      <td>0.999888</td>\n",
       "      <td>0.996151</td>\n",
       "      <td>1.0</td>\n",
       "      <td>719.5</td>\n",
       "    </tr>\n",
       "    <tr>\n",
       "      <th>2015-01-05 00:00:00-05:00</th>\n",
       "      <td>312.223611</td>\n",
       "      <td>125.452778</td>\n",
       "      <td>6.150417</td>\n",
       "      <td>0.0</td>\n",
       "      <td>0.999856</td>\n",
       "      <td>0.995051</td>\n",
       "      <td>1.0</td>\n",
       "      <td>719.5</td>\n",
       "    </tr>\n",
       "  </tbody>\n",
       "</table>\n",
       "</div>"
      ],
      "text/plain": [
       "                                Power         POA      Tamb  Wind  \\\n",
       "datetime                                                            \n",
       "2015-01-01 00:00:00-05:00  306.363889  122.879861  6.325347   0.0   \n",
       "2015-01-02 00:00:00-05:00  307.875000  123.457639  6.283333   0.0   \n",
       "2015-01-03 00:00:00-05:00  309.203472  124.077083  6.237153   0.0   \n",
       "2015-01-04 00:00:00-05:00  310.650694  124.736111  6.194306   0.0   \n",
       "2015-01-05 00:00:00-05:00  312.223611  125.452778  6.150417   0.0   \n",
       "\n",
       "                           Degradation   Soiling  Faults  minute_of_day  \n",
       "datetime                                                                 \n",
       "2015-01-01 00:00:00-05:00     0.999984  0.998523     1.0          719.5  \n",
       "2015-01-02 00:00:00-05:00     0.999952  0.998351     1.0          719.5  \n",
       "2015-01-03 00:00:00-05:00     0.999920  0.997251     1.0          719.5  \n",
       "2015-01-04 00:00:00-05:00     0.999888  0.996151     1.0          719.5  \n",
       "2015-01-05 00:00:00-05:00     0.999856  0.995051     1.0          719.5  "
      ]
     },
     "execution_count": 6,
     "metadata": {},
     "output_type": "execute_result"
    }
   ],
   "source": [
    "df_down.head()"
   ]
  },
  {
   "cell_type": "markdown",
   "metadata": {},
   "source": [
    "Use the rdTools function with all the default parameters with the power signal normalised by the POA we have."
   ]
  },
  {
   "cell_type": "code",
   "execution_count": 7,
   "metadata": {},
   "outputs": [
    {
     "name": "stdout",
     "output_type": "stream",
     "text": [
      "CPU times: user 45.5 s, sys: 31.5 ms, total: 45.6 s\n",
      "Wall time: 45.5 s\n"
     ]
    }
   ],
   "source": [
    "%%time\n",
    "soiling_profile = soiling_srr(df_down.Power/df_down.POA, df_down.POA)"
   ]
  },
  {
   "cell_type": "code",
   "execution_count": 8,
   "metadata": {},
   "outputs": [
    {
     "name": "stderr",
     "output_type": "stream",
     "text": [
      "/home/julius/Aug20_Epri/.env/lib/python3.6/site-packages/pandas/plotting/_matplotlib/converter.py:103: FutureWarning: Using an implicitly registered datetime converter for a matplotlib plotting method. The converter was registered by pandas on import. Future versions of pandas will require you to explicitly register matplotlib converters.\n",
      "\n",
      "To register the converters:\n",
      "\t>>> from pandas.plotting import register_matplotlib_converters\n",
      "\t>>> register_matplotlib_converters()\n",
      "  warnings.warn(msg, FutureWarning)\n"
     ]
    },
    {
     "data": {
      "text/plain": [
       "<matplotlib.legend.Legend at 0x7f8436613f98>"
      ]
     },
     "execution_count": 8,
     "metadata": {},
     "output_type": "execute_result"
    },
    {
     "data": {
      "image/png": "[encoded data removed]",
      "text/plain": [
       "<Figure size 720x360 with 1 Axes>"
      ]
     },
     "metadata": {
      "needs_background": "light"
     },
     "output_type": "display_data"
    }
   ],
   "source": [
    "_, ax = plt.subplots(figsize=(10, 5))\n",
    "\n",
    "ax.plot(soiling_profile[2]['soiling_ratio_perfect_clean'], label=\"rdTools predicted\")\n",
    "ax.plot(df.Soiling, label=\"Actual\")\n",
    "ax.legend()"
   ]
  },
  {
   "cell_type": "markdown",
   "metadata": {},
   "source": []
  }
 ],
 "metadata": {
  "kernelspec": {
   "display_name": "Python 3",
   "language": "python",
   "name": "python3"
  },
  "language_info": {
   "codemirror_mode": {
    "name": "ipython",
    "version": 3
   },
   "file_extension": ".py",
   "mimetype": "text/x-python",
   "name": "python",
   "nbconvert_exporter": "python",
   "pygments_lexer": "ipython3",
   "version": "3.6.9"
  }
 },
 "nbformat": 4,
 "nbformat_minor": 4
}
