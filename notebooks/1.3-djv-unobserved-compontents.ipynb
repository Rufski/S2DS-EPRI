{
 "cells": [
  {
   "cell_type": "markdown",
   "metadata": {},
   "source": [
    "## Time series models\n",
    "\n",
    "###### Additive\n",
    "\n",
    "$$ Y^A_t = T_t + C_t + S_t + I_t $$\n",
    "\n",
    "##### Multiplicative\n",
    "\n",
    "$$ Y^M_t = T_t \\times C_t \\times S_t \\times I_t $$\n",
    "\n",
    "Time series can be made up of a number of components which combine additively or multiplicative\n",
    "\n",
    "The components are:\n",
    "- __Trend__ - $T_t$: any long term increase or drease in the data\n",
    "- __Seasonal__ - $S_t$:fixed periodic patterns usually relating to times of day, week, year etc.\n",
    "- __Cyclic__ - $C_t$: occurs when data shows rises and falls that are repeated but __not__ of a __fixed__ frequency. Examples include business cycles which will not have fixed periods. Often used for cycles longer than yearly, however I wonder if it is possible to use for short term cycles such as soiling\n",
    "- __Irregular__ - $I_t$: Noise or residual left in signal\n",
    "\n",
    "### Powerput from PV plants\n",
    "The power output from PV plants is muliplicative in nature the trend is of the form:\n",
    "\n",
    "$$T_t = P_O(1 + r)^{t/365}$$\n",
    "\n",
    "where $P_0$ is the irradiance, $r$ is the decompostion rate (assumed to be negative) and $t$ is in units of days.\n",
    "\n",
    "Many methods for time series decomposition are  more suited to dealing with additive models\n",
    "\n",
    "We can convert our multiplicative model to an additive model by using logarithms.\n",
    "\n",
    "$$ y_t = log(Y^M_t) $$\n",
    "$$ y_t = log( T_t \\times C_t \\times S_t \\times I_t) $$\n",
    "$$ y_t = log(T_t) + log(C_t) + log(S_t) + log(I_t) $$\n",
    "\n",
    "If we consider the form of our trend we see that:\n",
    "$$log(T_t) = log(P_O(1 + r)^{t/365}) $$\n",
    "$$log(T_t) = log(P_O) + \\frac{t}{365}log(1+r) $$\n",
    "\n",
    "We should get a linear trend line with a slope of $\\frac{log(1+r)}{365}\n",
    "One Method for dealing with additive time series is Unobserved Components\n",
    "\n",
    "\n",
    "\n",
    "### Unobserved Components\n",
    "\n",
    "Assuming a time series can be broken into an number of additive effects; Trends, Seasons, Cycles and Regerssion effects\n",
    "\n",
    "The model looks like:\n",
    "\n",
    "$$y_t = \\underbrace{u_t}_{\\text{trend}} + \\underbrace{\\lambda_t}_{\\text{seasonal}} + \\underbrace{c_t}_{cycle} + \\sum^{k}_{j=1}\\underbrace{\\beta_j x_{jt}}_{\\text{explanatory}} + \\underbrace{\\epsilon_t}_{irregular}$$\n",
    "\n",
    "Confusingly the trend is made of of two parts; the level and the trend. They are given by:\n",
    "$$\\underbrace{\\mu_t}_{level} = $$"
   ]
  },
  {
   "cell_type": "code",
   "execution_count": null,
   "metadata": {},
   "outputs": [],
   "source": []
  }
 ],
 "metadata": {
  "kernelspec": {
   "display_name": "Python 3",
   "language": "python",
   "name": "python3"
  },
  "language_info": {
   "codemirror_mode": {
    "name": "ipython",
    "version": 3
   },
   "file_extension": ".py",
   "mimetype": "text/x-python",
   "name": "python",
   "nbconvert_exporter": "python",
   "pygments_lexer": "ipython3",
   "version": "3.7.8"
  }
 },
 "nbformat": 4,
 "nbformat_minor": 4
}
