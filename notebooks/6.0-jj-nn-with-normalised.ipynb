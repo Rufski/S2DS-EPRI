{
 "cells": [
  {
   "cell_type": "markdown",
   "metadata": {},
   "source": [
    "This notebook is based on `5.0-ayw-neural-network.ipynb`"
   ]
  },
  {
   "cell_type": "markdown",
   "metadata": {},
   "source": [
    "### Imports"
   ]
  },
  {
   "cell_type": "code",
   "execution_count": 1,
   "metadata": {},
   "outputs": [],
   "source": [
    "%load_ext autoreload\n",
    "%autoreload 2\n",
    "%load_ext tensorboard\n",
    "\n",
    "import os\n",
    "import datetime\n",
    "\n",
    "import pandas as pd\n",
    "import numpy as np\n",
    "from matplotlib import pyplot as plt\n",
    "%matplotlib inline\n",
    "\n",
    "from sklearn.metrics import mean_squared_error\n",
    "\n",
    "import tensorflow as tf\n",
    "\n",
    "from src.models.prepare_model import load_PI_data, split_data_training, create_fully_connected_model\n",
    "from src.models.train_model import train_model\n",
    "from src.models.predict_model import load_and_predict_model\n",
    "\n",
    "tf.random.set_seed(42)\n",
    "np.random.seed(42)"
   ]
  },
  {
   "cell_type": "markdown",
   "metadata": {},
   "source": [
    "### Loading and preparing the data for the neural network"
   ]
  },
  {
   "cell_type": "code",
   "execution_count": 2,
   "metadata": {},
   "outputs": [],
   "source": [
    "# Relevant paths:\n",
    "# '../data/processed/synthetic_basic_pi_daily.zip'\n",
    "# '../data/processed/synthetic_soil_pi_daily.zip'\n",
    "# '../data/processed/synthetic_weather_pi_daily.zip'\n",
    "# '../data/processed/synthetic_soil_weather_pi_daily.zip'\n",
    "X, y = load_PI_data('../data/processed/synthetic_basic_pi_daily.zip', 50, 5)\n",
    "X_train, X_valid, X_test, y_train, y_valid, y_test = split_data_training(X, y)\n"
   ]
  },
  {
   "cell_type": "code",
   "execution_count": null,
   "metadata": {},
   "outputs": [],
   "source": [
    "# Check that the data looks like what you expect,\n",
    "X = X_train\n",
    "y = y_train\n",
    "\n",
    "plt.figure(figsize=(15,20))\n",
    "plt.suptitle(\"Examples of the loaded data: input\")\n",
    "for i in range(0, 10):\n",
    "    plt.xlabel(\"Time steps\")\n",
    "    plt.ylabel(\"PI\")\n",
    "    plt.subplot(5,2,i+1)\n",
    "    plt.plot(X[i])\n",
    "plt.show()\n",
    "\n",
    "plt.figure()\n",
    "plt.title(\"Examples of the loaded data: target\")\n",
    "plt.xlabel(\"Time steps\")\n",
    "plt.ylabel(\"Degradation factor\")\n",
    "for i in range(0, 10):\n",
    "    plt.plot(y[i])\n",
    "plt.show()"
   ]
  },
  {
   "cell_type": "markdown",
   "metadata": {},
   "source": [
    "# Create and train the model"
   ]
  },
  {
   "cell_type": "code",
   "execution_count": null,
   "metadata": {},
   "outputs": [],
   "source": [
    "# First create a model \n",
    "signal_length = 1825\n",
    "model = create_fully_connected_model(signal_length, signal_length, [signal_length] * 5)\n",
    "model_name = \"fc_6layers\""
   ]
  },
  {
   "cell_type": "code",
   "execution_count": null,
   "metadata": {},
   "outputs": [],
   "source": [
    "# Get run number \n",
    "run_index_path = \"./checkpoint/run_index\"\n",
    "\n",
    "with open(run_index_path, 'r') as f:\n",
    "    run_index = int(f.readline())\n",
    "run_index += 1\n",
    "with open(run_index_path, 'w') as f:\n",
    "    f.write(str(run_index))\n",
    "    \n",
    "checpoint_path = train_model(model,\n",
    "                             X_train,\n",
    "                             y_train,\n",
    "                             X_valid,\n",
    "                             y_valid,\n",
    "                             run_index,\n",
    "                             model_name,\n",
    "                             \"./log/basic\",\n",
    "                             \"./checkpoint/basic\",\n",
    "                             1000)"
   ]
  },
  {
   "cell_type": "code",
   "execution_count": null,
   "metadata": {},
   "outputs": [],
   "source": [
    "# Loading the best parameters and generating a list of predictions.\n",
    "prediction = load_and_predict_model(\"checkpoint/basic/fc_6layers_run001.h5\", X_test)"
   ]
  },
  {
   "cell_type": "code",
   "execution_count": null,
   "metadata": {},
   "outputs": [],
   "source": [
    "# Visualizing the predictions.\n",
    "plt.figure(figsize=(10,6))\n",
    "plt.tight_layout()\n",
    "plt.suptitle(\"Degradation factor vs time step\")\n",
    "for i in range(0, min(len(prediction), 9)):\n",
    "    plt.subplot(3,3,i+1)\n",
    "    plt.ylim(0.94,1.01)\n",
    "    plt.plot([x for x in prediction[i]])\n",
    "    plt.plot([x for x in y_test[i]])\n",
    "plt.legend(['NN prediction','Actual degradation'])\n",
    "plt.show()\n",
    "\n",
    "plt.figure(figsize=(10,3))\n",
    "plt.suptitle(\"Degradation factor vs timestep: predicted (left) vs target (right)\")\n",
    "plt.subplot(1,2,1)\n",
    "plt.ylim(0.90,1)\n",
    "for i in range(0,len(prediction)):\n",
    "    plt.plot(prediction[i])\n",
    "plt.subplot(1,2,2)\n",
    "plt.ylim(0.90,1)\n",
    "for i in range(0,len(y_test)):\n",
    "    plt.plot(y_test[i])\n",
    "plt.show()"
   ]
  },
  {
   "cell_type": "code",
   "execution_count": null,
   "metadata": {},
   "outputs": [],
   "source": [
    "# To convert a decay series into a decay rate.\n",
    "def extract_yr_degrad(avg_power_decay):\n",
    "    x = np.array([i/365 for i in range(0,len(avg_power_decay))])\n",
    "    y = np.array(avg_power_decay)\n",
    "    return np.polyfit(x,y,1)[0]\n",
    "\n",
    "# Computing the decay rates from the prediction and target, and\n",
    "# computing the RMSE between those.\n",
    "model_pred = []\n",
    "degradation_rates_test = []\n",
    "for i in range(0, len(prediction)):\n",
    "    model_pred.append(extract_yr_degrad(prediction[i, 730:730+400]))\n",
    "    degradation_rates_test.append(extract_yr_degrad(y_test[i]))\n",
    "    \n",
    "mse = mean_squared_error(model_pred, degradation_rates_test)\n",
    "np.sqrt(mse)"
   ]
  },
  {
   "cell_type": "code",
   "execution_count": null,
   "metadata": {},
   "outputs": [],
   "source": [
    "# Plotting decay rate (predicted vs target)\n",
    "\n",
    "plt.figure(figsize=(13,3))\n",
    "plt.plot(degradation_rates_test[2:50], 'o')\n",
    "plt.plot(model_pred[2:50], 'o')\n",
    "plt.xlabel(\"Time series sample #\")\n",
    "plt.ylabel(\"Yearly decay rate\")\n",
    "plt.title(\"NN prediction vs actual yearly decay rate\")\n",
    "plt.legend([\"Actual\",\"NN predicted\"])\n",
    "plt.show()"
   ]
  },
  {
   "cell_type": "code",
   "execution_count": null,
   "metadata": {},
   "outputs": [],
   "source": []
  }
 ],
 "metadata": {
  "kernelspec": {
   "display_name": "Python 3",
   "language": "python",
   "name": "python3"
  },
  "language_info": {
   "codemirror_mode": {
    "name": "ipython",
    "version": 3
   },
   "file_extension": ".py",
   "mimetype": "text/x-python",
   "name": "python",
   "nbconvert_exporter": "python",
   "pygments_lexer": "ipython3",
   "version": "3.6.9"
  }
 },
 "nbformat": 4,
 "nbformat_minor": 4
}
