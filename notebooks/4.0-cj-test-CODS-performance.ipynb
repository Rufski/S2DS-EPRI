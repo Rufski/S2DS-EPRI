{
 "cells": [
  {
   "cell_type": "code",
   "execution_count": 7,
   "metadata": {},
   "outputs": [],
   "source": [
    "import pandas as pd\n",
    "import matplotlib.pyplot as plt\n",
    "import numpy as np\n",
    "from rdtools.soiling import cods_analysis\n",
    "\n",
    "from src.data.import_data import import_df_from_zip_pkl, import_df_info_from_zip\n",
    "from src.data.make_dataset import downsample_dataframe, remove_clipping_with_universal_window, remove_night_time_data"
   ]
  },
  {
   "cell_type": "code",
   "execution_count": null,
   "metadata": {},
   "outputs": [],
   "source": []
  },
  {
   "cell_type": "code",
   "execution_count": 10,
   "metadata": {},
   "outputs": [],
   "source": [
    "def test_cods(path_to_pkl_dir, path_to_info, nr_files, dataset_name, offset=0):\n",
    "    df_info = import_df_info_from_zip(path_to_info)\n",
    "    residuals = np.array([])\n",
    "    for i in range(nr_files):\n",
    "        df = pd.read_pickle(path_to_pkl_dir + \"/synthetic_{:s}_pi_daily_{:s}.pkl\".format(dataset_name, str(i+1).zfill(3)), compression = 'gzip')\n",
    "        df = df.iloc[offset:]\n",
    "        cods = cods_analysis(df.PI)\n",
    "        _, deg, *_ = cods.iterative_signal_decomposition(perfect_cleaning=True, order=['SC', 'SR', 'Rd'])\n",
    "        deg = deg / 100\n",
    "        residuals = np.append(residuals, (deg - df_info.Degradation_rate_linear.iloc[i]))\n",
    "        print(f\"The residual of {i+1}th dataset is {deg - df_info.Degradation_rate_linear.iloc[i]}\")\n",
    "    return residuals, np.sqrt(np.sum(residuals**2)/nr_files)"
   ]
  },
  {
   "cell_type": "code",
   "execution_count": null,
   "metadata": {},
   "outputs": [],
   "source": []
  },
  {
   "cell_type": "code",
   "execution_count": 11,
   "metadata": {},
   "outputs": [
    {
     "name": "stdout",
     "output_type": "stream",
     "text": [
      "The residual of 1th dataset is 0.0007384380739373468\n",
      "The residual of 2th dataset is -0.003097224461155854\n",
      "The residual of 3th dataset is 0.0063326174227221685\n",
      "The residual of 4th dataset is -0.010139289538045344\n",
      "The residual of 5th dataset is -0.007606597592575632\n",
      "The residual of 6th dataset is 0.006574162979364506\n",
      "The residual of 7th dataset is -0.0008829641482430654\n",
      "The residual of 8th dataset is 0.0001310513646923233\n",
      "The residual of 9th dataset is 0.006675255140127744\n",
      "The residual of 10th dataset is 0.003760446517872079\n",
      "The residual of 11th dataset is 0.005376347124814969\n",
      "The residual of 12th dataset is 0.003661321042182227\n",
      "The residual of 13th dataset is 0.0005498270991297917\n",
      "The residual of 14th dataset is 0.0059458710822247705\n",
      "The residual of 15th dataset is -0.00011182733630705002\n",
      "The residual of 16th dataset is 0.003180492439127691\n",
      "The residual of 17th dataset is 0.0008476508439532304\n",
      "The residual of 18th dataset is 0.013163951052129162\n",
      "The residual of 19th dataset is 0.0027415540772728368\n",
      "The residual of 20th dataset is 0.0064122760099338\n",
      "The residual of 21th dataset is 0.0024454093937678143\n",
      "The residual of 22th dataset is 0.008402840878056445\n",
      "The residual of 23th dataset is 0.002504709361086089\n",
      "The residual of 24th dataset is 0.0011696894383727216\n",
      "The residual of 25th dataset is 0.011729020499113176\n",
      "The residual of 26th dataset is -0.007969931179863242\n",
      "The residual of 27th dataset is -0.004425728385563666\n",
      "The residual of 28th dataset is -0.0051660757773246795\n",
      "The residual of 29th dataset is 0.0023857360719905527\n",
      "The residual of 30th dataset is -0.004335857580053859\n",
      "The residual of 31th dataset is -0.0025251567077042014\n",
      "The residual of 32th dataset is 0.001458279134283199\n",
      "The residual of 33th dataset is -0.0009369054632751908\n",
      "The residual of 34th dataset is 0.0024589429539535034\n",
      "The residual of 35th dataset is 0.00028853699581632766\n",
      "The residual of 36th dataset is -0.004938848361353047\n",
      "The residual of 37th dataset is 0.001071119623953315\n",
      "The residual of 38th dataset is 0.0013305207322793396\n",
      "The residual of 39th dataset is -0.006519372821521464\n",
      "The residual of 40th dataset is 0.004414360365099961\n",
      "The residual of 41th dataset is 0.006200079543112569\n",
      "The residual of 42th dataset is 0.0062162077254615915\n",
      "The residual of 43th dataset is -0.011045121456766975\n",
      "The residual of 44th dataset is -0.000743809842299944\n",
      "The residual of 45th dataset is 0.006956556440965489\n",
      "The residual of 46th dataset is -0.004748468933315047\n",
      "The residual of 47th dataset is 0.0017726087758366607\n",
      "The residual of 48th dataset is -0.0013659937018030248\n",
      "The residual of 49th dataset is 0.00409859775749738\n",
      "The residual of 50th dataset is 0.009813351571032185\n"
     ]
    },
    {
     "data": {
      "text/plain": [
       "(array([ 0.00073844, -0.00309722,  0.00633262, -0.01013929, -0.0076066 ,\n",
       "         0.00657416, -0.00088296,  0.00013105,  0.00667526,  0.00376045,\n",
       "         0.00537635,  0.00366132,  0.00054983,  0.00594587, -0.00011183,\n",
       "         0.00318049,  0.00084765,  0.01316395,  0.00274155,  0.00641228,\n",
       "         0.00244541,  0.00840284,  0.00250471,  0.00116969,  0.01172902,\n",
       "        -0.00796993, -0.00442573, -0.00516608,  0.00238574, -0.00433586,\n",
       "        -0.00252516,  0.00145828, -0.00093691,  0.00245894,  0.00028854,\n",
       "        -0.00493885,  0.00107112,  0.00133052, -0.00651937,  0.00441436,\n",
       "         0.00620008,  0.00621621, -0.01104512, -0.00074381,  0.00695656,\n",
       "        -0.00474847,  0.00177261, -0.00136599,  0.0040986 ,  0.00981335]),\n",
       " 0.005429425476163739)"
      ]
     },
     "execution_count": 11,
     "metadata": {},
     "output_type": "execute_result"
    }
   ],
   "source": [
    "path_to_pkl_dir = '../data/raw/synthetic_soil_weather_pi_daily'\n",
    "path_to_info = '../data/raw/synthetic_soil_weather.zip'\n",
    "n_files = 50\n",
    "\n",
    "test_cods(path_to_pkl_dir, path_to_info, n_files, dataset_name='soil_weather', offset=0)"
   ]
  },
  {
   "cell_type": "code",
   "execution_count": 12,
   "metadata": {},
   "outputs": [
    {
     "name": "stdout",
     "output_type": "stream",
     "text": [
      "The residual of 1th dataset is 0.003404914465057845\n",
      "The residual of 2th dataset is -0.004017531224411225\n",
      "The residual of 3th dataset is 0.009407229849597444\n",
      "The residual of 4th dataset is -0.009187710569460047\n",
      "The residual of 5th dataset is -0.008020396256129365\n",
      "The residual of 6th dataset is 0.004895510152395288\n",
      "The residual of 7th dataset is -0.0005223320860907928\n",
      "The residual of 8th dataset is -0.000721014102396578\n",
      "The residual of 9th dataset is 0.00737194396549082\n",
      "The residual of 10th dataset is 0.0035886550043174037\n",
      "The residual of 11th dataset is 0.005229346364636374\n",
      "The residual of 12th dataset is 0.0037319555093485463\n",
      "The residual of 13th dataset is -0.002638897595938909\n",
      "The residual of 14th dataset is 0.004314858663366613\n",
      "The residual of 15th dataset is 0.0020961997831282914\n",
      "The residual of 16th dataset is 0.0009886300100090326\n",
      "The residual of 17th dataset is -0.006254158170408081\n",
      "The residual of 18th dataset is 0.012165153565768009\n",
      "The residual of 19th dataset is -0.0022376315831458956\n",
      "The residual of 20th dataset is 0.006177302180441132\n",
      "The residual of 21th dataset is -0.003144404144824522\n",
      "The residual of 22th dataset is 0.006566983286799628\n",
      "The residual of 23th dataset is 0.003518182015966532\n",
      "The residual of 24th dataset is 0.005601237907634414\n",
      "The residual of 25th dataset is 0.013282372950687002\n",
      "The residual of 26th dataset is -0.006674318234468325\n",
      "The residual of 27th dataset is -0.010394840677251894\n",
      "The residual of 28th dataset is -0.005018733283715476\n",
      "The residual of 29th dataset is -0.0008390067885919953\n",
      "The residual of 30th dataset is -0.004668032176755011\n",
      "The residual of 31th dataset is 0.0038306507273394574\n",
      "The residual of 32th dataset is 0.004271909953238447\n",
      "The residual of 33th dataset is -0.0040142076119910886\n",
      "The residual of 34th dataset is -0.004012632621466455\n",
      "The residual of 35th dataset is -0.006339276559231496\n",
      "The residual of 36th dataset is -0.008830552375739258\n",
      "The residual of 37th dataset is 0.0008002757537299236\n",
      "The residual of 38th dataset is -0.0015823749414939949\n",
      "The residual of 39th dataset is -0.008359958890437471\n",
      "The residual of 40th dataset is 0.004602130684864096\n",
      "The residual of 41th dataset is 0.0052474637291089485\n",
      "The residual of 42th dataset is 0.0060131863545444374\n",
      "The residual of 43th dataset is -0.012530549807990758\n",
      "The residual of 44th dataset is 0.00180203392134472\n",
      "The residual of 45th dataset is 0.008673603066177149\n",
      "The residual of 46th dataset is -0.0015890914978303732\n",
      "The residual of 47th dataset is 0.002920336116844049\n",
      "The residual of 48th dataset is -0.0010349216122868717\n",
      "The residual of 49th dataset is 0.007610599451041343\n",
      "The residual of 50th dataset is 0.011244685902730287\n"
     ]
    },
    {
     "data": {
      "text/plain": [
       "(array([ 0.00340491, -0.00401753,  0.00940723, -0.00918771, -0.0080204 ,\n",
       "         0.00489551, -0.00052233, -0.00072101,  0.00737194,  0.00358866,\n",
       "         0.00522935,  0.00373196, -0.0026389 ,  0.00431486,  0.0020962 ,\n",
       "         0.00098863, -0.00625416,  0.01216515, -0.00223763,  0.0061773 ,\n",
       "        -0.0031444 ,  0.00656698,  0.00351818,  0.00560124,  0.01328237,\n",
       "        -0.00667432, -0.01039484, -0.00501873, -0.00083901, -0.00466803,\n",
       "         0.00383065,  0.00427191, -0.00401421, -0.00401263, -0.00633928,\n",
       "        -0.00883055,  0.00080028, -0.00158237, -0.00835996,  0.00460213,\n",
       "         0.00524746,  0.00601319, -0.01253055,  0.00180203,  0.0086736 ,\n",
       "        -0.00158909,  0.00292034, -0.00103492,  0.0076106 ,  0.01124469]),\n",
       " 0.006174319771631261)"
      ]
     },
     "execution_count": 12,
     "metadata": {},
     "output_type": "execute_result"
    }
   ],
   "source": [
    "path_to_pkl_dir = '../data/raw/synthetic_soil_weather_pi_daily'\n",
    "path_to_info = '../data/raw/synthetic_soil_weather.zip'\n",
    "n_files = 50\n",
    "\n",
    "test_cods(path_to_pkl_dir, path_to_info, n_files, dataset_name='soil_weather', offset=170)"
   ]
  },
  {
   "cell_type": "code",
   "execution_count": 13,
   "metadata": {},
   "outputs": [
    {
     "name": "stdout",
     "output_type": "stream",
     "text": [
      "The residual of 1th dataset is 0.0006652961381797932\n",
      "The residual of 2th dataset is 0.0008049030934398956\n",
      "The residual of 3th dataset is 0.0005536464376591967\n",
      "The residual of 4th dataset is 0.0006008919010772381\n",
      "The residual of 5th dataset is 0.0008432868550704836\n",
      "The residual of 6th dataset is 0.0005767075567422461\n",
      "The residual of 7th dataset is 0.0005441805889154468\n",
      "The residual of 8th dataset is 0.0005975474488587838\n",
      "The residual of 9th dataset is 0.0008628162676073223\n",
      "The residual of 10th dataset is 0.0006488362326904301\n",
      "The residual of 11th dataset is 0.0009386736551081649\n",
      "The residual of 12th dataset is 0.0007879871444592661\n",
      "The residual of 13th dataset is 0.0006352836579699653\n",
      "The residual of 14th dataset is 0.0004677835131885622\n",
      "The residual of 15th dataset is 0.0006292456375059305\n",
      "The residual of 16th dataset is 0.0006150992087401008\n",
      "The residual of 17th dataset is 0.0006157001790819232\n",
      "The residual of 18th dataset is 0.0005056858203232274\n",
      "The residual of 19th dataset is 0.0005538778101083445\n",
      "The residual of 20th dataset is 0.0005708463316865722\n",
      "The residual of 21th dataset is 0.0005008160925922102\n",
      "The residual of 22th dataset is 0.0003992509989279524\n",
      "The residual of 23th dataset is 0.0005201441045347838\n",
      "The residual of 24th dataset is 0.0005475164610377146\n",
      "The residual of 25th dataset is 0.0004779830783890604\n",
      "The residual of 26th dataset is 0.0009019346671277307\n",
      "The residual of 27th dataset is 0.0004780376176617227\n",
      "The residual of 28th dataset is 0.0005705356779968683\n",
      "The residual of 29th dataset is 0.0003948637448557297\n",
      "The residual of 30th dataset is 0.0005535843648419546\n",
      "The residual of 31th dataset is 0.0009235476095472862\n",
      "The residual of 32th dataset is 0.00047073032403651977\n",
      "The residual of 33th dataset is 0.0005453720966084544\n",
      "The residual of 34th dataset is 0.0006654644344621912\n",
      "The residual of 35th dataset is 0.0005701900898282715\n",
      "The residual of 36th dataset is 0.0006992391807762611\n",
      "The residual of 37th dataset is 0.0006477982416321394\n",
      "The residual of 38th dataset is 0.0006819056908071849\n",
      "The residual of 39th dataset is 0.0005460339536559593\n",
      "The residual of 40th dataset is 0.0005060348835456297\n",
      "The residual of 41th dataset is 0.0006567602391638044\n",
      "The residual of 42th dataset is 0.0005316146025574793\n",
      "The residual of 43th dataset is 0.0005782174539310393\n",
      "The residual of 44th dataset is 0.0007445185171390742\n",
      "The residual of 45th dataset is 0.0006889354932877612\n",
      "The residual of 46th dataset is 0.0005455135518605235\n",
      "The residual of 47th dataset is 0.0005744764222493891\n",
      "The residual of 48th dataset is 0.0004215544062955174\n",
      "The residual of 49th dataset is 0.0006959867037712678\n",
      "The residual of 50th dataset is 0.0005015368539267474\n"
     ]
    },
    {
     "data": {
      "text/plain": [
       "(array([0.0006653 , 0.0008049 , 0.00055365, 0.00060089, 0.00084329,\n",
       "        0.00057671, 0.00054418, 0.00059755, 0.00086282, 0.00064884,\n",
       "        0.00093867, 0.00078799, 0.00063528, 0.00046778, 0.00062925,\n",
       "        0.0006151 , 0.0006157 , 0.00050569, 0.00055388, 0.00057085,\n",
       "        0.00050082, 0.00039925, 0.00052014, 0.00054752, 0.00047798,\n",
       "        0.00090193, 0.00047804, 0.00057054, 0.00039486, 0.00055358,\n",
       "        0.00092355, 0.00047073, 0.00054537, 0.00066546, 0.00057019,\n",
       "        0.00069924, 0.0006478 , 0.00068191, 0.00054603, 0.00050603,\n",
       "        0.00065676, 0.00053161, 0.00057822, 0.00074452, 0.00068894,\n",
       "        0.00054551, 0.00057448, 0.00042155, 0.00069599, 0.00050154]),\n",
       " 0.0006246874806859876)"
      ]
     },
     "execution_count": 13,
     "metadata": {},
     "output_type": "execute_result"
    }
   ],
   "source": [
    "path_to_pkl_dir = '../data/raw/synthetic_basic_pi_daily'\n",
    "path_to_info = '../data/raw/synthetic_basic.zip'\n",
    "nr_files = 50\n",
    "test_cods(path_to_pkl_dir, path_to_info, nr_files, dataset_name='basic', offset=0)"
   ]
  },
  {
   "cell_type": "code",
   "execution_count": 15,
   "metadata": {},
   "outputs": [
    {
     "name": "stdout",
     "output_type": "stream",
     "text": [
      "The residual of 1th dataset is 0.0028706357545585717\n",
      "The residual of 2th dataset is -0.0009515945267655329\n",
      "The residual of 3th dataset is 0.005308834778936263\n",
      "The residual of 4th dataset is -6.729000651431016e-05\n",
      "The residual of 5th dataset is 0.0025387761368820686\n",
      "The residual of 6th dataset is -0.0003065904349163328\n",
      "The residual of 7th dataset is 0.0018848419483644893\n",
      "The residual of 8th dataset is 0.005542556154617739\n",
      "The residual of 9th dataset is 0.004981654046502875\n",
      "The residual of 10th dataset is 0.00015700866800175302\n",
      "The residual of 11th dataset is -0.0010210608411107668\n",
      "The residual of 12th dataset is 0.004864307472200742\n",
      "The residual of 13th dataset is 0.0035399258605088527\n",
      "The residual of 14th dataset is -0.006085781575929164\n",
      "The residual of 15th dataset is 0.00349480055598079\n",
      "The residual of 16th dataset is 0.0013221488087073185\n",
      "The residual of 17th dataset is -0.003059526363967684\n",
      "The residual of 18th dataset is 0.003771546062551003\n",
      "The residual of 19th dataset is 0.005422249622608849\n",
      "The residual of 20th dataset is 0.004946107221146145\n",
      "The residual of 21th dataset is 0.0030457526662618674\n",
      "The residual of 22th dataset is 0.0008752100441632663\n",
      "The residual of 23th dataset is 0.0018589503475107804\n",
      "The residual of 24th dataset is 0.0029923574764813762\n",
      "The residual of 25th dataset is 8.5869954544706e-05\n",
      "The residual of 26th dataset is 0.004214093640734232\n",
      "The residual of 27th dataset is 0.0034625985249828253\n",
      "The residual of 28th dataset is -0.0018328701238039336\n",
      "The residual of 29th dataset is -0.0006447757983835747\n",
      "The residual of 30th dataset is 0.004562650359722504\n",
      "The residual of 31th dataset is -0.000669150186419885\n",
      "The residual of 32th dataset is -0.0004370939345295626\n",
      "The residual of 33th dataset is 0.00440022007820874\n",
      "The residual of 34th dataset is 0.000527696503103808\n",
      "The residual of 35th dataset is -0.002764033849667849\n",
      "The residual of 36th dataset is 0.0037504825913903736\n",
      "The residual of 37th dataset is 0.002759356447266142\n",
      "The residual of 38th dataset is -0.0015137265502849686\n",
      "The residual of 39th dataset is 0.0025478484626770583\n",
      "The residual of 40th dataset is 0.0005352424215848747\n",
      "The residual of 41th dataset is -0.004150840124638622\n",
      "The residual of 42th dataset is 0.0022005506630711283\n",
      "The residual of 43th dataset is 0.002963760064060097\n",
      "The residual of 44th dataset is 0.0065344757313469375\n",
      "The residual of 45th dataset is -0.0002602628038283136\n",
      "The residual of 46th dataset is 0.0023546088782087186\n",
      "The residual of 47th dataset is 0.0028455266289629556\n",
      "The residual of 48th dataset is -0.003253967010390253\n",
      "The residual of 49th dataset is -0.00044160410564019446\n",
      "The residual of 50th dataset is 0.0002623256433761396\n"
     ]
    },
    {
     "data": {
      "text/plain": [
       "(array([ 2.87063575e-03, -9.51594527e-04,  5.30883478e-03, -6.72900065e-05,\n",
       "         2.53877614e-03, -3.06590435e-04,  1.88484195e-03,  5.54255615e-03,\n",
       "         4.98165405e-03,  1.57008668e-04, -1.02106084e-03,  4.86430747e-03,\n",
       "         3.53992586e-03, -6.08578158e-03,  3.49480056e-03,  1.32214881e-03,\n",
       "        -3.05952636e-03,  3.77154606e-03,  5.42224962e-03,  4.94610722e-03,\n",
       "         3.04575267e-03,  8.75210044e-04,  1.85895035e-03,  2.99235748e-03,\n",
       "         8.58699545e-05,  4.21409364e-03,  3.46259852e-03, -1.83287012e-03,\n",
       "        -6.44775798e-04,  4.56265036e-03, -6.69150186e-04, -4.37093935e-04,\n",
       "         4.40022008e-03,  5.27696503e-04, -2.76403385e-03,  3.75048259e-03,\n",
       "         2.75935645e-03, -1.51372655e-03,  2.54784846e-03,  5.35242422e-04,\n",
       "        -4.15084012e-03,  2.20055066e-03,  2.96376006e-03,  6.53447573e-03,\n",
       "        -2.60262804e-04,  2.35460888e-03,  2.84552663e-03, -3.25396701e-03,\n",
       "        -4.41604106e-04,  2.62325643e-04]),\n",
       " 0.0031694076647973165)"
      ]
     },
     "execution_count": 15,
     "metadata": {},
     "output_type": "execute_result"
    }
   ],
   "source": [
    "path_to_pkl_dir = '../data/raw/synthetic_weather_pi_daily'\n",
    "path_to_info = '../data/raw/synthetic_weather.zip'\n",
    "nr_files = 50\n",
    "test_cods(path_to_pkl_dir, path_to_info, nr_files, dataset_name='weather', offset=0)"
   ]
  },
  {
   "cell_type": "code",
   "execution_count": 16,
   "metadata": {},
   "outputs": [
    {
     "name": "stdout",
     "output_type": "stream",
     "text": [
      "The residual of 1th dataset is 0.002642847660073642\n",
      "The residual of 2th dataset is 0.00019915794312497584\n",
      "The residual of 3th dataset is 0.0004406987260185957\n",
      "The residual of 4th dataset is 0.004808275790369718\n",
      "The residual of 5th dataset is 0.0038436847885193392\n",
      "The residual of 6th dataset is 0.0029371902933214705\n",
      "The residual of 7th dataset is 0.002277213168170939\n",
      "The residual of 8th dataset is 0.0010699069363765447\n",
      "The residual of 9th dataset is 0.003952516395362246\n",
      "The residual of 10th dataset is 0.000290069949818535\n",
      "The residual of 11th dataset is 0.001034701752956212\n",
      "The residual of 12th dataset is 0.002033827375923671\n",
      "The residual of 13th dataset is 0.00894737374403961\n",
      "The residual of 14th dataset is 0.0007018265588630349\n",
      "The residual of 15th dataset is 0.004726630157454822\n",
      "The residual of 16th dataset is 0.0007188042700594869\n",
      "The residual of 17th dataset is 0.00279406103973384\n",
      "The residual of 18th dataset is 0.0019517745746555314\n",
      "The residual of 19th dataset is 0.0005880735175153064\n",
      "The residual of 20th dataset is 0.003492672105787924\n",
      "The residual of 21th dataset is -0.000935667284587589\n",
      "The residual of 22th dataset is 0.0010005027635143372\n",
      "The residual of 23th dataset is -0.00026460404759634775\n",
      "The residual of 24th dataset is -0.0002307007029874568\n",
      "The residual of 25th dataset is -0.001561464744877201\n",
      "The residual of 26th dataset is 0.0013688378476595618\n",
      "The residual of 27th dataset is 0.0014765371970252104\n",
      "The residual of 28th dataset is 0.001841581755443477\n",
      "The residual of 29th dataset is 0.001412265898603892\n",
      "The residual of 30th dataset is -0.0004359660284696046\n",
      "The residual of 31th dataset is -1.2194857830881076e-05\n",
      "The residual of 32th dataset is -7.989683043370388e-05\n",
      "The residual of 33th dataset is -0.0003812506018824602\n",
      "The residual of 34th dataset is 0.0011730006333401117\n",
      "The residual of 35th dataset is 0.0010351211378939393\n",
      "The residual of 36th dataset is 0.0033712764853864735\n",
      "The residual of 37th dataset is 0.001455391566857916\n",
      "The residual of 38th dataset is 0.0013009649797396054\n",
      "The residual of 39th dataset is -9.939407302856675e-05\n",
      "The residual of 40th dataset is 0.00024399798358001185\n",
      "The residual of 41th dataset is 0.0007340853341699632\n",
      "The residual of 42th dataset is -0.000516535336066765\n",
      "The residual of 43th dataset is 0.0012371186677873364\n",
      "The residual of 44th dataset is -0.001942679553350389\n",
      "The residual of 45th dataset is 0.0013296259765499946\n",
      "The residual of 46th dataset is 0.0007810317910940312\n",
      "The residual of 47th dataset is 0.0008941527857926571\n",
      "The residual of 48th dataset is 0.006311692440140635\n",
      "The residual of 49th dataset is 0.0012122624930798118\n",
      "The residual of 50th dataset is -0.00029147680707661706\n"
     ]
    },
    {
     "data": {
      "text/plain": [
       "(array([ 2.64284766e-03,  1.99157943e-04,  4.40698726e-04,  4.80827579e-03,\n",
       "         3.84368479e-03,  2.93719029e-03,  2.27721317e-03,  1.06990694e-03,\n",
       "         3.95251640e-03,  2.90069950e-04,  1.03470175e-03,  2.03382738e-03,\n",
       "         8.94737374e-03,  7.01826559e-04,  4.72663016e-03,  7.18804270e-04,\n",
       "         2.79406104e-03,  1.95177457e-03,  5.88073518e-04,  3.49267211e-03,\n",
       "        -9.35667285e-04,  1.00050276e-03, -2.64604048e-04, -2.30700703e-04,\n",
       "        -1.56146474e-03,  1.36883785e-03,  1.47653720e-03,  1.84158176e-03,\n",
       "         1.41226590e-03, -4.35966028e-04, -1.21948578e-05, -7.98968304e-05,\n",
       "        -3.81250602e-04,  1.17300063e-03,  1.03512114e-03,  3.37127649e-03,\n",
       "         1.45539157e-03,  1.30096498e-03, -9.93940730e-05,  2.43997984e-04,\n",
       "         7.34085334e-04, -5.16535336e-04,  1.23711867e-03, -1.94267955e-03,\n",
       "         1.32962598e-03,  7.81031791e-04,  8.94152786e-04,  6.31169244e-03,\n",
       "         1.21226249e-03, -2.91476807e-04]),\n",
       " 0.0024130553517099835)"
      ]
     },
     "execution_count": 16,
     "metadata": {},
     "output_type": "execute_result"
    }
   ],
   "source": [
    "path_to_pkl_dir = '../data/raw/synthetic_soil_pi_daily'\n",
    "path_to_info = '../data/raw/synthetic_soil.zip'\n",
    "nr_files = 50\n",
    "test_cods(path_to_pkl_dir, path_to_info, nr_files, dataset_name='soil', offset=0)"
   ]
  },
  {
   "cell_type": "code",
   "execution_count": null,
   "metadata": {},
   "outputs": [],
   "source": []
  }
 ],
 "metadata": {
  "kernelspec": {
   "display_name": "Python 3",
   "language": "python",
   "name": "python3"
  },
  "language_info": {
   "codemirror_mode": {
    "name": "ipython",
    "version": 3
   },
   "file_extension": ".py",
   "mimetype": "text/x-python",
   "name": "python",
   "nbconvert_exporter": "python",
   "pygments_lexer": "ipython3",
   "version": "3.8.2"
  }
 },
 "nbformat": 4,
 "nbformat_minor": 4
}
