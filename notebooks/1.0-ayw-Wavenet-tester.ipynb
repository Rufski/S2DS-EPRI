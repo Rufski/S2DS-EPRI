{
 "cells": [
  {
   "cell_type": "code",
   "execution_count": 152,
   "metadata": {},
   "outputs": [],
   "source": [
    "import pandas as pd\n",
    "from matplotlib import pyplot as plt\n",
    "import numpy as np\n",
    "import tensorflow as tf\n",
    "from tensorflow import keras\n",
    "import os\n",
    "from sklearn import metrics\n",
    "import math\n",
    "from tensorflow.keras import initializers\n",
    "\n",
    "tf.random.set_seed(42)\n",
    "np.random.seed(42)"
   ]
  },
  {
   "cell_type": "code",
   "execution_count": 250,
   "metadata": {},
   "outputs": [
    {
     "name": "stdout",
     "output_type": "stream",
     "text": [
      "Loading file #0\n",
      "Loading file #1\n",
      "Loading file #2\n",
      "Loading file #3\n",
      "Loading file #4\n",
      "Loading file #5\n",
      "Loading file #6\n",
      "Loading file #7\n",
      "Loading file #8\n",
      "Loading file #9\n",
      "Loading file #10\n",
      "Loading file #11\n",
      "Loading file #12\n",
      "Loading file #13\n",
      "Loading file #14\n",
      "Loading file #15\n",
      "Loading file #16\n",
      "Loading file #17\n",
      "Loading file #18\n",
      "Loading file #19\n",
      "Loading file #20\n",
      "Loading file #21\n",
      "Loading file #22\n",
      "Loading file #23\n",
      "Loading file #24\n",
      "Loading file #25\n",
      "Loading file #26\n",
      "Loading file #27\n",
      "Loading file #28\n",
      "Loading file #29\n",
      "Loading file #30\n",
      "Loading file #31\n",
      "Loading file #32\n",
      "Loading file #33\n",
      "Loading file #34\n",
      "Loading file #35\n",
      "Loading file #36\n",
      "Loading file #37\n",
      "Loading file #38\n",
      "Loading file #39\n",
      "Loading file #40\n",
      "Loading file #41\n",
      "Loading file #42\n",
      "Loading file #43\n",
      "Loading file #44\n",
      "Loading file #45\n",
      "Loading file #46\n",
      "Loading file #47\n",
      "Loading file #48\n",
      "Loading file #49\n"
     ]
    }
   ],
   "source": [
    "X = []\n",
    "Y = []\n",
    "\n",
    "for i in range(0,50):\n",
    "    print(\"Loading file #\"+str(i))\n",
    "    df = pd.read_csv(\"./data/raw/synthetic_basic/Synthetic_Basic_\"+str(i)+\".csv\")\n",
    "    degradation_rate = df.iloc[0].Degradation_rate_per_yr\n",
    "    \n",
    "    # Reducing to day by day data, picking the max\n",
    "#    df['Day'] = df['Unnamed: 0'].apply(lambda x: x.split(' ')[0])\n",
    "#    df = df.groupby('Day', as_index=False).Power.max()\n",
    "\n",
    "    # Reducing to hour by hour data, picking the mean\n",
    "    df['Time'] = df['Unnamed: 0'].apply(lambda x: x.split(':')[0])\n",
    "    df = df.groupby('Time', as_index=False).Power.max()\n",
    "   \n",
    "    # Option 1: sampling n random period of 3 years from each time series\n",
    "#    n_samples = 100\n",
    "#    for i in range(0, n_samples):\n",
    "#        first_index = int(np.random.uniform(0,len(df)-27000))\n",
    "#        X.append([x for x in df.Power[first_index:first_index+27000]])\n",
    "#        Y.append(degradation_rate)\n",
    "#        Y.append([degradation_rate]*len(X[-1]))\n",
    "        \n",
    "    # Option 2: taking the 5-year time series as a single sample\n",
    "    X.append([x/1827 for x in df.Power])\n",
    "    # If taking a single value for the degradation rate\n",
    "#    Y.append(degradation_rate)\n",
    "    # If taking a normalized value representing degradation\n",
    "    Y.append([np.power(1+degradation_rate,i/365.25/24)-1 for i in range(0,len(df))])"
   ]
  },
  {
   "cell_type": "code",
   "execution_count": 251,
   "metadata": {},
   "outputs": [],
   "source": [
    "# For option 1 of data selection\n",
    "#dataset_size = len(X)\n",
    "#X = np.array(X)\n",
    "#Y = np.array(Y)\n",
    "#shuffled_indices = np.random.permutation(dataset_size)\n",
    "#train_indices = shuffled_indices[:int(dataset_size*0.7)]\n",
    "#valid_indices = shuffled_indices[int(dataset_size*0.7):int(dataset_size*0.85)]\n",
    "#test_indices = shuffled_indices[int(dataset_size*0.85):]\n",
    "\n",
    "#X_train = np.array([x for x in X[train_indices]])\n",
    "#X_valid = np.array([x for x in X[valid_indices]])\n",
    "#X_test = np.array([x for x in X[test_indices]])\n",
    "#Y_train = np.array([x for x in Y[train_indices]])\n",
    "#Y_valid = np.array([x for x in Y[valid_indices]])\n",
    "#Y_test = np.array([x for x in Y[test_indices]])\n",
    "\n",
    "# For option 2 of data selection\n",
    "X_train = np.array([x for x in X[:30]])\n",
    "X_valid = np.array([x for x in X[30:40]])\n",
    "X_test = np.array([x for x in X[40:]])\n",
    "Y_train = np.array([x for x in Y[:30]])\n",
    "Y_valid = np.array([x for x in Y[30:40]])\n",
    "Y_test = np.array([x for x in Y[40:]])\n",
    "\n",
    "X_train = X_train.reshape((X_train.shape[0],X_train.shape[1], 1))\n",
    "X_test = X_test.reshape((X_test.shape[0],X_test.shape[1], 1))\n",
    "X_valid = X_valid.reshape((X_valid.shape[0],X_valid.shape[1], 1))"
   ]
  },
  {
   "cell_type": "code",
   "execution_count": 65,
   "metadata": {},
   "outputs": [],
   "source": [
    "K = keras.backend\n",
    "\n",
    "class ExponentialLearningRate(keras.callbacks.Callback):\n",
    "    def __init__(self, factor):\n",
    "        self.factor = factor\n",
    "        self.rates = []\n",
    "        self.losses = []\n",
    "    def on_batch_end(self, batch, logs):\n",
    "        self.rates.append(K.get_value(self.model.optimizer.lr))\n",
    "        self.losses.append(logs[\"loss\"])\n",
    "        K.set_value(self.model.optimizer.lr, self.model.optimizer.lr * self.factor)"
   ]
  },
  {
   "cell_type": "code",
   "execution_count": 256,
   "metadata": {},
   "outputs": [],
   "source": [
    "#expon_lr = ExponentialLearningRate(factor=1.05)\n",
    "early_stopping_cb = keras.callbacks.EarlyStopping(patience=100)\n",
    "\n",
    "run_index = 3\n",
    "run_logdir = os.path.join(os.curdir, \"wavenet_logs_0807\", \"run_{:03d}\".format(run_index))\n",
    "checkpoint_cb = keras.callbacks.ModelCheckpoint(\"wavenet_model_0807.h5\", save_best_only=True)\n",
    "tensorboard_cb = keras.callbacks.TensorBoard(run_logdir)"
   ]
  },
  {
   "cell_type": "code",
   "execution_count": 264,
   "metadata": {
    "scrolled": true
   },
   "outputs": [
    {
     "name": "stdout",
     "output_type": "stream",
     "text": [
      "Epoch 1/5000\n",
      "1/1 [==============================] - 11s 11s/step - loss: 0.0011 - root_mean_squared_error: 0.0332 - val_loss: 6.3574e-04 - val_root_mean_squared_error: 0.0252\n",
      "Epoch 2/5000\n",
      "1/1 [==============================] - 1s 1s/step - loss: 8.8498e-04 - root_mean_squared_error: 0.0297 - val_loss: 4.7093e-04 - val_root_mean_squared_error: 0.0217\n",
      "Epoch 3/5000\n",
      "1/1 [==============================] - 1s 1s/step - loss: 6.8143e-04 - root_mean_squared_error: 0.0261 - val_loss: 3.3702e-04 - val_root_mean_squared_error: 0.0184\n",
      "Epoch 4/5000\n",
      "1/1 [==============================] - 1s 1s/step - loss: 5.0578e-04 - root_mean_squared_error: 0.0225 - val_loss: 2.4894e-04 - val_root_mean_squared_error: 0.0158\n",
      "Epoch 5/5000\n",
      "1/1 [==============================] - 1s 1s/step - loss: 3.7576e-04 - root_mean_squared_error: 0.0194 - val_loss: 2.0661e-04 - val_root_mean_squared_error: 0.0144\n",
      "Epoch 6/5000\n",
      "1/1 [==============================] - 1s 1s/step - loss: 2.9113e-04 - root_mean_squared_error: 0.0171 - val_loss: 2.0998e-04 - val_root_mean_squared_error: 0.0145\n",
      "Epoch 7/5000\n",
      "1/1 [==============================] - 1s 1s/step - loss: 2.5233e-04 - root_mean_squared_error: 0.0159 - val_loss: 2.5016e-04 - val_root_mean_squared_error: 0.0158\n",
      "Epoch 8/5000\n",
      "1/1 [==============================] - 1s 1s/step - loss: 2.5423e-04 - root_mean_squared_error: 0.0159 - val_loss: 3.0775e-04 - val_root_mean_squared_error: 0.0175\n",
      "Epoch 9/5000\n",
      "1/1 [==============================] - 1s 1s/step - loss: 2.8046e-04 - root_mean_squared_error: 0.0167 - val_loss: 3.6156e-04 - val_root_mean_squared_error: 0.0190\n",
      "Epoch 10/5000\n",
      "1/1 [==============================] - 1s 1s/step - loss: 3.1163e-04 - root_mean_squared_error: 0.0177 - val_loss: 3.9261e-04 - val_root_mean_squared_error: 0.0198\n",
      "Epoch 11/5000\n",
      "1/1 [==============================] - 1s 1s/step - loss: 3.3018e-04 - root_mean_squared_error: 0.0182 - val_loss: 3.9369e-04 - val_root_mean_squared_error: 0.0198\n",
      "Epoch 12/5000\n",
      "1/1 [==============================] - 1s 1s/step - loss: 3.2845e-04 - root_mean_squared_error: 0.0181 - val_loss: 3.6975e-04 - val_root_mean_squared_error: 0.0192\n",
      "Epoch 13/5000\n",
      "1/1 [==============================] - 1s 1s/step - loss: 3.0955e-04 - root_mean_squared_error: 0.0176 - val_loss: 3.2966e-04 - val_root_mean_squared_error: 0.0182\n",
      "Epoch 14/5000\n",
      "1/1 [==============================] - 1s 1s/step - loss: 2.8050e-04 - root_mean_squared_error: 0.0167 - val_loss: 2.8363e-04 - val_root_mean_squared_error: 0.0168\n",
      "Epoch 15/5000\n",
      "1/1 [==============================] - 1s 1s/step - loss: 2.4948e-04 - root_mean_squared_error: 0.0158 - val_loss: 2.4027e-04 - val_root_mean_squared_error: 0.0155\n",
      "Epoch 16/5000\n",
      "1/1 [==============================] - 1s 1s/step - loss: 2.2324e-04 - root_mean_squared_error: 0.0149 - val_loss: 2.0580e-04 - val_root_mean_squared_error: 0.0143\n",
      "Epoch 17/5000\n",
      "1/1 [==============================] - 1s 1s/step - loss: 2.0589e-04 - root_mean_squared_error: 0.0143 - val_loss: 1.8096e-04 - val_root_mean_squared_error: 0.0135\n",
      "Epoch 18/5000\n",
      "1/1 [==============================] - 1s 1s/step - loss: 1.9689e-04 - root_mean_squared_error: 0.0140 - val_loss: 1.6426e-04 - val_root_mean_squared_error: 0.0128\n",
      "Epoch 19/5000\n",
      "1/1 [==============================] - 1s 1s/step - loss: 1.9385e-04 - root_mean_squared_error: 0.0139 - val_loss: 1.5332e-04 - val_root_mean_squared_error: 0.0124\n",
      "Epoch 20/5000\n",
      "1/1 [==============================] - 1s 1s/step - loss: 1.9366e-04 - root_mean_squared_error: 0.0139 - val_loss: 1.4568e-04 - val_root_mean_squared_error: 0.0121\n",
      "Epoch 21/5000\n",
      "1/1 [==============================] - 1s 1s/step - loss: 1.9290e-04 - root_mean_squared_error: 0.0139 - val_loss: 1.3888e-04 - val_root_mean_squared_error: 0.0118\n",
      "Epoch 22/5000\n",
      "1/1 [==============================] - 1s 1s/step - loss: 1.8778e-04 - root_mean_squared_error: 0.0137 - val_loss: 1.3242e-04 - val_root_mean_squared_error: 0.0115\n",
      "Epoch 23/5000\n",
      "1/1 [==============================] - 1s 1s/step - loss: 1.7866e-04 - root_mean_squared_error: 0.0134 - val_loss: 1.2602e-04 - val_root_mean_squared_error: 0.0112\n",
      "Epoch 24/5000\n",
      "1/1 [==============================] - 1s 1s/step - loss: 1.6365e-04 - root_mean_squared_error: 0.0128 - val_loss: 1.2354e-04 - val_root_mean_squared_error: 0.0111\n",
      "Epoch 25/5000\n",
      "1/1 [==============================] - 1s 1s/step - loss: 1.4907e-04 - root_mean_squared_error: 0.0122 - val_loss: 1.2580e-04 - val_root_mean_squared_error: 0.0112\n",
      "Epoch 26/5000\n",
      "1/1 [==============================] - 1s 1s/step - loss: 1.3813e-04 - root_mean_squared_error: 0.0118 - val_loss: 1.3331e-04 - val_root_mean_squared_error: 0.0115\n",
      "Epoch 27/5000\n",
      "1/1 [==============================] - 1s 1s/step - loss: 1.3003e-04 - root_mean_squared_error: 0.0114 - val_loss: 1.4716e-04 - val_root_mean_squared_error: 0.0121\n",
      "Epoch 28/5000\n",
      "1/1 [==============================] - 1s 1s/step - loss: 1.2691e-04 - root_mean_squared_error: 0.0113 - val_loss: 1.6396e-04 - val_root_mean_squared_error: 0.0128\n",
      "Epoch 29/5000\n",
      "1/1 [==============================] - 1s 1s/step - loss: 1.2864e-04 - root_mean_squared_error: 0.0113 - val_loss: 1.7133e-04 - val_root_mean_squared_error: 0.0131\n",
      "Epoch 30/5000\n",
      "1/1 [==============================] - 1s 1s/step - loss: 1.2933e-04 - root_mean_squared_error: 0.0114 - val_loss: 1.6153e-04 - val_root_mean_squared_error: 0.0127\n",
      "Epoch 31/5000\n",
      "1/1 [==============================] - 1s 1s/step - loss: 1.2418e-04 - root_mean_squared_error: 0.0111 - val_loss: 1.4281e-04 - val_root_mean_squared_error: 0.0120\n",
      "Epoch 32/5000\n",
      "1/1 [==============================] - 1s 1s/step - loss: 1.1730e-04 - root_mean_squared_error: 0.0108 - val_loss: 1.2602e-04 - val_root_mean_squared_error: 0.0112\n",
      "Epoch 33/5000\n",
      "1/1 [==============================] - 1s 1s/step - loss: 1.1355e-04 - root_mean_squared_error: 0.0107 - val_loss: 1.1503e-04 - val_root_mean_squared_error: 0.0107\n",
      "Epoch 34/5000\n",
      "1/1 [==============================] - 1s 1s/step - loss: 1.1286e-04 - root_mean_squared_error: 0.0106 - val_loss: 1.0891e-04 - val_root_mean_squared_error: 0.0104\n",
      "Epoch 35/5000\n",
      "1/1 [==============================] - 1s 1s/step - loss: 1.1327e-04 - root_mean_squared_error: 0.0106 - val_loss: 1.0677e-04 - val_root_mean_squared_error: 0.0103\n",
      "Epoch 36/5000\n",
      "1/1 [==============================] - 1s 1s/step - loss: 1.1266e-04 - root_mean_squared_error: 0.0106 - val_loss: 1.0788e-04 - val_root_mean_squared_error: 0.0104\n",
      "Epoch 37/5000\n",
      "1/1 [==============================] - 1s 1s/step - loss: 1.1050e-04 - root_mean_squared_error: 0.0105 - val_loss: 1.1212e-04 - val_root_mean_squared_error: 0.0106\n",
      "Epoch 38/5000\n",
      "1/1 [==============================] - 1s 1s/step - loss: 1.0799e-04 - root_mean_squared_error: 0.0104 - val_loss: 1.1889e-04 - val_root_mean_squared_error: 0.0109\n",
      "Epoch 39/5000\n",
      "1/1 [==============================] - 1s 1s/step - loss: 1.0669e-04 - root_mean_squared_error: 0.0103 - val_loss: 1.2668e-04 - val_root_mean_squared_error: 0.0113\n",
      "Epoch 40/5000\n",
      "1/1 [==============================] - 1s 1s/step - loss: 1.0684e-04 - root_mean_squared_error: 0.0103 - val_loss: 1.3236e-04 - val_root_mean_squared_error: 0.0115\n",
      "Epoch 41/5000\n",
      "1/1 [==============================] - 1s 1s/step - loss: 1.0755e-04 - root_mean_squared_error: 0.0104 - val_loss: 1.3303e-04 - val_root_mean_squared_error: 0.0115\n",
      "Epoch 42/5000\n",
      "1/1 [==============================] - 1s 1s/step - loss: 1.0744e-04 - root_mean_squared_error: 0.0104 - val_loss: 1.2904e-04 - val_root_mean_squared_error: 0.0114\n",
      "Epoch 43/5000\n",
      "1/1 [==============================] - 1s 1s/step - loss: 1.0636e-04 - root_mean_squared_error: 0.0103 - val_loss: 1.2239e-04 - val_root_mean_squared_error: 0.0111\n",
      "Epoch 44/5000\n",
      "1/1 [==============================] - 1s 1s/step - loss: 1.0514e-04 - root_mean_squared_error: 0.0103 - val_loss: 1.1579e-04 - val_root_mean_squared_error: 0.0108\n",
      "Epoch 45/5000\n",
      "1/1 [==============================] - 1s 1s/step - loss: 1.0457e-04 - root_mean_squared_error: 0.0102 - val_loss: 1.1114e-04 - val_root_mean_squared_error: 0.0105\n",
      "Epoch 46/5000\n",
      "1/1 [==============================] - 1s 1s/step - loss: 1.0451e-04 - root_mean_squared_error: 0.0102 - val_loss: 1.0924e-04 - val_root_mean_squared_error: 0.0105\n",
      "Epoch 47/5000\n"
     ]
    },
    {
     "name": "stdout",
     "output_type": "stream",
     "text": [
      "1/1 [==============================] - 1s 1s/step - loss: 1.0417e-04 - root_mean_squared_error: 0.0102 - val_loss: 1.0989e-04 - val_root_mean_squared_error: 0.0105\n",
      "Epoch 48/5000\n",
      "1/1 [==============================] - 1s 1s/step - loss: 1.0315e-04 - root_mean_squared_error: 0.0102 - val_loss: 1.1270e-04 - val_root_mean_squared_error: 0.0106\n",
      "Epoch 49/5000\n",
      "1/1 [==============================] - 1s 1s/step - loss: 1.0186e-04 - root_mean_squared_error: 0.0101 - val_loss: 1.1677e-04 - val_root_mean_squared_error: 0.0108\n",
      "Epoch 50/5000\n",
      "1/1 [==============================] - 1s 1s/step - loss: 1.0093e-04 - root_mean_squared_error: 0.0100 - val_loss: 1.2058e-04 - val_root_mean_squared_error: 0.0110\n",
      "Epoch 51/5000\n",
      "1/1 [==============================] - 1s 1s/step - loss: 1.0048e-04 - root_mean_squared_error: 0.0100 - val_loss: 1.2226e-04 - val_root_mean_squared_error: 0.0111\n",
      "Epoch 52/5000\n",
      "1/1 [==============================] - 1s 1s/step - loss: 1.0004e-04 - root_mean_squared_error: 0.0100 - val_loss: 1.2083e-04 - val_root_mean_squared_error: 0.0110\n",
      "Epoch 53/5000\n",
      "1/1 [==============================] - 1s 1s/step - loss: 9.9275e-05 - root_mean_squared_error: 0.0100 - val_loss: 1.1717e-04 - val_root_mean_squared_error: 0.0108\n",
      "Epoch 54/5000\n",
      "1/1 [==============================] - 1s 1s/step - loss: 9.8398e-05 - root_mean_squared_error: 0.0099 - val_loss: 1.1292e-04 - val_root_mean_squared_error: 0.0106\n",
      "Epoch 55/5000\n",
      "1/1 [==============================] - 1s 1s/step - loss: 9.7807e-05 - root_mean_squared_error: 0.0099 - val_loss: 1.0960e-04 - val_root_mean_squared_error: 0.0105\n",
      "Epoch 56/5000\n",
      "1/1 [==============================] - 1s 1s/step - loss: 9.7565e-05 - root_mean_squared_error: 0.0099 - val_loss: 1.0803e-04 - val_root_mean_squared_error: 0.0104\n",
      "Epoch 57/5000\n",
      "1/1 [==============================] - 1s 1s/step - loss: 9.7331e-05 - root_mean_squared_error: 0.0099 - val_loss: 1.0830e-04 - val_root_mean_squared_error: 0.0104\n",
      "Epoch 58/5000\n",
      "1/1 [==============================] - 1s 1s/step - loss: 9.6934e-05 - root_mean_squared_error: 0.0098 - val_loss: 1.0983e-04 - val_root_mean_squared_error: 0.0105\n",
      "Epoch 59/5000\n",
      "1/1 [==============================] - 1s 1s/step - loss: 9.6480e-05 - root_mean_squared_error: 0.0098 - val_loss: 1.1210e-04 - val_root_mean_squared_error: 0.0106\n",
      "Epoch 60/5000\n",
      "1/1 [==============================] - 1s 1s/step - loss: 9.6082e-05 - root_mean_squared_error: 0.0098 - val_loss: 1.1417e-04 - val_root_mean_squared_error: 0.0107\n",
      "Epoch 61/5000\n",
      "1/1 [==============================] - 1s 1s/step - loss: 9.5799e-05 - root_mean_squared_error: 0.0098 - val_loss: 1.1487e-04 - val_root_mean_squared_error: 0.0107\n",
      "Epoch 62/5000\n",
      "1/1 [==============================] - 1s 1s/step - loss: 9.5541e-05 - root_mean_squared_error: 0.0098 - val_loss: 1.1389e-04 - val_root_mean_squared_error: 0.0107\n",
      "Epoch 63/5000\n",
      "1/1 [==============================] - 1s 1s/step - loss: 9.5177e-05 - root_mean_squared_error: 0.0098 - val_loss: 1.1177e-04 - val_root_mean_squared_error: 0.0106\n",
      "Epoch 64/5000\n",
      "1/1 [==============================] - 1s 1s/step - loss: 9.4767e-05 - root_mean_squared_error: 0.0097 - val_loss: 1.0920e-04 - val_root_mean_squared_error: 0.0104\n",
      "Epoch 65/5000\n",
      "1/1 [==============================] - 1s 1s/step - loss: 9.4440e-05 - root_mean_squared_error: 0.0097 - val_loss: 1.0731e-04 - val_root_mean_squared_error: 0.0104\n",
      "Epoch 66/5000\n",
      "1/1 [==============================] - 1s 1s/step - loss: 9.4201e-05 - root_mean_squared_error: 0.0097 - val_loss: 1.0693e-04 - val_root_mean_squared_error: 0.0103\n",
      "Epoch 67/5000\n",
      "1/1 [==============================] - 1s 1s/step - loss: 9.3901e-05 - root_mean_squared_error: 0.0097 - val_loss: 1.0804e-04 - val_root_mean_squared_error: 0.0104\n",
      "Epoch 68/5000\n",
      "1/1 [==============================] - 1s 1s/step - loss: 9.3525e-05 - root_mean_squared_error: 0.0097 - val_loss: 1.0988e-04 - val_root_mean_squared_error: 0.0105\n",
      "Epoch 69/5000\n",
      "1/1 [==============================] - 1s 1s/step - loss: 9.3214e-05 - root_mean_squared_error: 0.0097 - val_loss: 1.1153e-04 - val_root_mean_squared_error: 0.0106\n",
      "Epoch 70/5000\n",
      "1/1 [==============================] - 1s 1s/step - loss: 9.3008e-05 - root_mean_squared_error: 0.0096 - val_loss: 1.1211e-04 - val_root_mean_squared_error: 0.0106\n",
      "Epoch 71/5000\n",
      "1/1 [==============================] - 1s 1s/step - loss: 9.2822e-05 - root_mean_squared_error: 0.0096 - val_loss: 1.1102e-04 - val_root_mean_squared_error: 0.0105\n",
      "Epoch 72/5000\n",
      "1/1 [==============================] - 1s 1s/step - loss: 9.2570e-05 - root_mean_squared_error: 0.0096 - val_loss: 1.0892e-04 - val_root_mean_squared_error: 0.0104\n",
      "Epoch 73/5000\n",
      "1/1 [==============================] - 1s 1s/step - loss: 9.2348e-05 - root_mean_squared_error: 0.0096 - val_loss: 1.0711e-04 - val_root_mean_squared_error: 0.0103\n",
      "Epoch 74/5000\n",
      "1/1 [==============================] - 1s 1s/step - loss: 9.2227e-05 - root_mean_squared_error: 0.0096 - val_loss: 1.0621e-04 - val_root_mean_squared_error: 0.0103\n",
      "Epoch 75/5000\n",
      "1/1 [==============================] - 1s 1s/step - loss: 9.2134e-05 - root_mean_squared_error: 0.0096 - val_loss: 1.0676e-04 - val_root_mean_squared_error: 0.0103\n",
      "Epoch 76/5000\n",
      "1/1 [==============================] - 1s 1s/step - loss: 9.1984e-05 - root_mean_squared_error: 0.0096 - val_loss: 1.0835e-04 - val_root_mean_squared_error: 0.0104\n",
      "Epoch 77/5000\n",
      "1/1 [==============================] - 1s 1s/step - loss: 9.1843e-05 - root_mean_squared_error: 0.0096 - val_loss: 1.0998e-04 - val_root_mean_squared_error: 0.0105\n",
      "Epoch 78/5000\n",
      "1/1 [==============================] - 1s 1s/step - loss: 9.1777e-05 - root_mean_squared_error: 0.0096 - val_loss: 1.1053e-04 - val_root_mean_squared_error: 0.0105\n",
      "Epoch 79/5000\n",
      "1/1 [==============================] - 1s 1s/step - loss: 9.1704e-05 - root_mean_squared_error: 0.0096 - val_loss: 1.0945e-04 - val_root_mean_squared_error: 0.0105\n",
      "Epoch 80/5000\n",
      "1/1 [==============================] - 1s 1s/step - loss: 9.1584e-05 - root_mean_squared_error: 0.0096 - val_loss: 1.0764e-04 - val_root_mean_squared_error: 0.0104\n",
      "Epoch 81/5000\n",
      "1/1 [==============================] - 1s 1s/step - loss: 9.1506e-05 - root_mean_squared_error: 0.0096 - val_loss: 1.0653e-04 - val_root_mean_squared_error: 0.0103\n",
      "Epoch 82/5000\n",
      "1/1 [==============================] - 1s 1s/step - loss: 9.1489e-05 - root_mean_squared_error: 0.0096 - val_loss: 1.0691e-04 - val_root_mean_squared_error: 0.0103\n",
      "Epoch 83/5000\n",
      "1/1 [==============================] - 1s 1s/step - loss: 9.1432e-05 - root_mean_squared_error: 0.0096 - val_loss: 1.0836e-04 - val_root_mean_squared_error: 0.0104\n",
      "Epoch 84/5000\n",
      "1/1 [==============================] - 1s 1s/step - loss: 9.1366e-05 - root_mean_squared_error: 0.0096 - val_loss: 1.0975e-04 - val_root_mean_squared_error: 0.0105\n",
      "Epoch 85/5000\n",
      "1/1 [==============================] - 1s 1s/step - loss: 9.1348e-05 - root_mean_squared_error: 0.0096 - val_loss: 1.0995e-04 - val_root_mean_squared_error: 0.0105\n",
      "Epoch 86/5000\n",
      "1/1 [==============================] - 1s 1s/step - loss: 9.1320e-05 - root_mean_squared_error: 0.0096 - val_loss: 1.0886e-04 - val_root_mean_squared_error: 0.0104\n",
      "Epoch 87/5000\n",
      "1/1 [==============================] - 1s 1s/step - loss: 9.1261e-05 - root_mean_squared_error: 0.0096 - val_loss: 1.0745e-04 - val_root_mean_squared_error: 0.0104\n",
      "Epoch 88/5000\n",
      "1/1 [==============================] - 1s 1s/step - loss: 9.1232e-05 - root_mean_squared_error: 0.0096 - val_loss: 1.0679e-04 - val_root_mean_squared_error: 0.0103\n",
      "Epoch 89/5000\n",
      "1/1 [==============================] - 1s 1s/step - loss: 9.1216e-05 - root_mean_squared_error: 0.0096 - val_loss: 1.0728e-04 - val_root_mean_squared_error: 0.0104\n",
      "Epoch 90/5000\n",
      "1/1 [==============================] - 1s 1s/step - loss: 9.1166e-05 - root_mean_squared_error: 0.0095 - val_loss: 1.0842e-04 - val_root_mean_squared_error: 0.0104\n",
      "Epoch 91/5000\n",
      "1/1 [==============================] - 1s 1s/step - loss: 9.1118e-05 - root_mean_squared_error: 0.0095 - val_loss: 1.0921e-04 - val_root_mean_squared_error: 0.0105\n",
      "Epoch 92/5000\n",
      "1/1 [==============================] - 1s 1s/step - loss: 9.1087e-05 - root_mean_squared_error: 0.0095 - val_loss: 1.0902e-04 - val_root_mean_squared_error: 0.0104\n",
      "Epoch 93/5000\n"
     ]
    },
    {
     "name": "stdout",
     "output_type": "stream",
     "text": [
      "1/1 [==============================] - 1s 1s/step - loss: 9.1035e-05 - root_mean_squared_error: 0.0095 - val_loss: 1.0808e-04 - val_root_mean_squared_error: 0.0104\n",
      "Epoch 94/5000\n",
      "1/1 [==============================] - 1s 1s/step - loss: 9.0970e-05 - root_mean_squared_error: 0.0095 - val_loss: 1.0713e-04 - val_root_mean_squared_error: 0.0104\n",
      "Epoch 95/5000\n",
      "1/1 [==============================] - 1s 1s/step - loss: 9.0926e-05 - root_mean_squared_error: 0.0095 - val_loss: 1.0686e-04 - val_root_mean_squared_error: 0.0103\n",
      "Epoch 96/5000\n",
      "1/1 [==============================] - 1s 1s/step - loss: 9.0880e-05 - root_mean_squared_error: 0.0095 - val_loss: 1.0738e-04 - val_root_mean_squared_error: 0.0104\n",
      "Epoch 97/5000\n",
      "1/1 [==============================] - 1s 1s/step - loss: 9.0821e-05 - root_mean_squared_error: 0.0095 - val_loss: 1.0806e-04 - val_root_mean_squared_error: 0.0104\n",
      "Epoch 98/5000\n",
      "1/1 [==============================] - 1s 1s/step - loss: 9.0786e-05 - root_mean_squared_error: 0.0095 - val_loss: 1.0821e-04 - val_root_mean_squared_error: 0.0104\n",
      "Epoch 99/5000\n",
      "1/1 [==============================] - 1s 1s/step - loss: 9.0740e-05 - root_mean_squared_error: 0.0095 - val_loss: 1.0788e-04 - val_root_mean_squared_error: 0.0104\n",
      "Epoch 100/5000\n",
      "1/1 [==============================] - 1s 1s/step - loss: 9.0688e-05 - root_mean_squared_error: 0.0095 - val_loss: 1.0742e-04 - val_root_mean_squared_error: 0.0104\n",
      "Epoch 101/5000\n",
      "1/1 [==============================] - 1s 1s/step - loss: 9.0637e-05 - root_mean_squared_error: 0.0095 - val_loss: 1.0731e-04 - val_root_mean_squared_error: 0.0104\n",
      "Epoch 102/5000\n",
      "1/1 [==============================] - 1s 1s/step - loss: 9.0586e-05 - root_mean_squared_error: 0.0095 - val_loss: 1.0755e-04 - val_root_mean_squared_error: 0.0104\n",
      "Epoch 103/5000\n",
      "1/1 [==============================] - 1s 1s/step - loss: 9.0530e-05 - root_mean_squared_error: 0.0095 - val_loss: 1.0781e-04 - val_root_mean_squared_error: 0.0104\n",
      "Epoch 104/5000\n",
      "1/1 [==============================] - 1s 1s/step - loss: 9.0476e-05 - root_mean_squared_error: 0.0095 - val_loss: 1.0777e-04 - val_root_mean_squared_error: 0.0104\n",
      "Epoch 105/5000\n",
      "1/1 [==============================] - 1s 1s/step - loss: 9.0420e-05 - root_mean_squared_error: 0.0095 - val_loss: 1.0745e-04 - val_root_mean_squared_error: 0.0104\n",
      "Epoch 106/5000\n",
      "1/1 [==============================] - 1s 1s/step - loss: 9.0356e-05 - root_mean_squared_error: 0.0095 - val_loss: 1.0718e-04 - val_root_mean_squared_error: 0.0104\n",
      "Epoch 107/5000\n",
      "1/1 [==============================] - 1s 1s/step - loss: 9.0290e-05 - root_mean_squared_error: 0.0095 - val_loss: 1.0720e-04 - val_root_mean_squared_error: 0.0104\n",
      "Epoch 108/5000\n",
      "1/1 [==============================] - 1s 1s/step - loss: 9.0220e-05 - root_mean_squared_error: 0.0095 - val_loss: 1.0724e-04 - val_root_mean_squared_error: 0.0104\n",
      "Epoch 109/5000\n",
      "1/1 [==============================] - 1s 1s/step - loss: 9.0134e-05 - root_mean_squared_error: 0.0095 - val_loss: 1.0721e-04 - val_root_mean_squared_error: 0.0104\n",
      "Epoch 110/5000\n",
      "1/1 [==============================] - 1s 1s/step - loss: 8.9958e-05 - root_mean_squared_error: 0.0095 - val_loss: 1.0811e-04 - val_root_mean_squared_error: 0.0104\n",
      "Epoch 111/5000\n",
      "1/1 [==============================] - 1s 1s/step - loss: 8.9697e-05 - root_mean_squared_error: 0.0095 - val_loss: 1.0751e-04 - val_root_mean_squared_error: 0.0104\n",
      "Epoch 112/5000\n",
      "1/1 [==============================] - 1s 1s/step - loss: 8.9556e-05 - root_mean_squared_error: 0.0095 - val_loss: 1.0564e-04 - val_root_mean_squared_error: 0.0103\n",
      "Epoch 113/5000\n",
      "1/1 [==============================] - 1s 1s/step - loss: 8.9322e-05 - root_mean_squared_error: 0.0095 - val_loss: 1.0490e-04 - val_root_mean_squared_error: 0.0102\n",
      "Epoch 114/5000\n",
      "1/1 [==============================] - 1s 1s/step - loss: 8.9044e-05 - root_mean_squared_error: 0.0094 - val_loss: 1.0593e-04 - val_root_mean_squared_error: 0.0103\n",
      "Epoch 115/5000\n",
      "1/1 [==============================] - 1s 1s/step - loss: 8.8691e-05 - root_mean_squared_error: 0.0094 - val_loss: 1.0758e-04 - val_root_mean_squared_error: 0.0104\n",
      "Epoch 116/5000\n",
      "1/1 [==============================] - 1s 1s/step - loss: 8.8363e-05 - root_mean_squared_error: 0.0094 - val_loss: 1.0725e-04 - val_root_mean_squared_error: 0.0104\n",
      "Epoch 117/5000\n",
      "1/1 [==============================] - 1s 1s/step - loss: 8.8036e-05 - root_mean_squared_error: 0.0094 - val_loss: 1.0479e-04 - val_root_mean_squared_error: 0.0102\n",
      "Epoch 118/5000\n",
      "1/1 [==============================] - 1s 1s/step - loss: 8.7681e-05 - root_mean_squared_error: 0.0094 - val_loss: 1.0386e-04 - val_root_mean_squared_error: 0.0102\n",
      "Epoch 119/5000\n",
      "1/1 [==============================] - 1s 1s/step - loss: 8.7359e-05 - root_mean_squared_error: 0.0093 - val_loss: 1.0551e-04 - val_root_mean_squared_error: 0.0103\n",
      "Epoch 120/5000\n",
      "1/1 [==============================] - 1s 1s/step - loss: 8.7156e-05 - root_mean_squared_error: 0.0093 - val_loss: 1.0471e-04 - val_root_mean_squared_error: 0.0102\n",
      "Epoch 121/5000\n",
      "1/1 [==============================] - 1s 1s/step - loss: 8.6938e-05 - root_mean_squared_error: 0.0093 - val_loss: 1.0338e-04 - val_root_mean_squared_error: 0.0102\n",
      "Epoch 122/5000\n",
      "1/1 [==============================] - 1s 1s/step - loss: 8.6785e-05 - root_mean_squared_error: 0.0093 - val_loss: 1.0488e-04 - val_root_mean_squared_error: 0.0102\n",
      "Epoch 123/5000\n",
      "1/1 [==============================] - 1s 1s/step - loss: 8.6658e-05 - root_mean_squared_error: 0.0093 - val_loss: 1.0662e-04 - val_root_mean_squared_error: 0.0103\n",
      "Epoch 124/5000\n",
      "1/1 [==============================] - 1s 1s/step - loss: 8.6612e-05 - root_mean_squared_error: 0.0093 - val_loss: 1.0509e-04 - val_root_mean_squared_error: 0.0103\n",
      "Epoch 125/5000\n",
      "1/1 [==============================] - 1s 1s/step - loss: 8.6518e-05 - root_mean_squared_error: 0.0093 - val_loss: 1.0443e-04 - val_root_mean_squared_error: 0.0102\n",
      "Epoch 126/5000\n",
      "1/1 [==============================] - 1s 1s/step - loss: 8.6406e-05 - root_mean_squared_error: 0.0093 - val_loss: 1.0548e-04 - val_root_mean_squared_error: 0.0103\n",
      "Epoch 127/5000\n",
      "1/1 [==============================] - 1s 1s/step - loss: 8.6286e-05 - root_mean_squared_error: 0.0093 - val_loss: 1.0440e-04 - val_root_mean_squared_error: 0.0102\n",
      "Epoch 128/5000\n",
      "1/1 [==============================] - 1s 1s/step - loss: 8.6183e-05 - root_mean_squared_error: 0.0093 - val_loss: 1.0378e-04 - val_root_mean_squared_error: 0.0102\n",
      "Epoch 129/5000\n",
      "1/1 [==============================] - 1s 1s/step - loss: 8.6106e-05 - root_mean_squared_error: 0.0093 - val_loss: 1.0533e-04 - val_root_mean_squared_error: 0.0103\n",
      "Epoch 130/5000\n",
      "1/1 [==============================] - 1s 1s/step - loss: 8.6067e-05 - root_mean_squared_error: 0.0093 - val_loss: 1.0377e-04 - val_root_mean_squared_error: 0.0102\n",
      "Epoch 131/5000\n",
      "1/1 [==============================] - 1s 1s/step - loss: 8.6053e-05 - root_mean_squared_error: 0.0093 - val_loss: 1.0507e-04 - val_root_mean_squared_error: 0.0103\n",
      "Epoch 132/5000\n",
      "1/1 [==============================] - 1s 1s/step - loss: 8.6020e-05 - root_mean_squared_error: 0.0093 - val_loss: 1.0441e-04 - val_root_mean_squared_error: 0.0102\n",
      "Epoch 133/5000\n",
      "1/1 [==============================] - 1s 1s/step - loss: 8.5972e-05 - root_mean_squared_error: 0.0093 - val_loss: 1.0372e-04 - val_root_mean_squared_error: 0.0102\n",
      "Epoch 134/5000\n",
      "1/1 [==============================] - 1s 1s/step - loss: 8.5939e-05 - root_mean_squared_error: 0.0093 - val_loss: 1.0518e-04 - val_root_mean_squared_error: 0.0103\n",
      "Epoch 135/5000\n",
      "1/1 [==============================] - 1s 1s/step - loss: 8.5923e-05 - root_mean_squared_error: 0.0093 - val_loss: 1.0306e-04 - val_root_mean_squared_error: 0.0102\n",
      "Epoch 136/5000\n",
      "1/1 [==============================] - 1s 1s/step - loss: 8.5907e-05 - root_mean_squared_error: 0.0093 - val_loss: 1.0580e-04 - val_root_mean_squared_error: 0.0103\n",
      "Epoch 137/5000\n",
      "1/1 [==============================] - 1s 1s/step - loss: 8.5888e-05 - root_mean_squared_error: 0.0093 - val_loss: 1.0361e-04 - val_root_mean_squared_error: 0.0102\n",
      "Epoch 138/5000\n",
      "1/1 [==============================] - 1s 1s/step - loss: 8.5877e-05 - root_mean_squared_error: 0.0093 - val_loss: 1.0547e-04 - val_root_mean_squared_error: 0.0103\n"
     ]
    },
    {
     "name": "stdout",
     "output_type": "stream",
     "text": [
      "Epoch 139/5000\n",
      "1/1 [==============================] - 1s 1s/step - loss: 8.5861e-05 - root_mean_squared_error: 0.0093 - val_loss: 1.0437e-04 - val_root_mean_squared_error: 0.0102\n",
      "Epoch 140/5000\n",
      "1/1 [==============================] - 1s 1s/step - loss: 8.5838e-05 - root_mean_squared_error: 0.0093 - val_loss: 1.0423e-04 - val_root_mean_squared_error: 0.0102\n",
      "Epoch 141/5000\n",
      "1/1 [==============================] - 1s 1s/step - loss: 8.5824e-05 - root_mean_squared_error: 0.0093 - val_loss: 1.0471e-04 - val_root_mean_squared_error: 0.0102\n",
      "Epoch 142/5000\n",
      "1/1 [==============================] - 1s 1s/step - loss: 8.5820e-05 - root_mean_squared_error: 0.0093 - val_loss: 1.0331e-04 - val_root_mean_squared_error: 0.0102\n",
      "Epoch 143/5000\n",
      "1/1 [==============================] - 1s 1s/step - loss: 8.5814e-05 - root_mean_squared_error: 0.0093 - val_loss: 1.0517e-04 - val_root_mean_squared_error: 0.0103\n",
      "Epoch 144/5000\n",
      "1/1 [==============================] - 1s 1s/step - loss: 8.5806e-05 - root_mean_squared_error: 0.0093 - val_loss: 1.0319e-04 - val_root_mean_squared_error: 0.0102\n",
      "Epoch 145/5000\n",
      "1/1 [==============================] - 1s 1s/step - loss: 8.5800e-05 - root_mean_squared_error: 0.0093 - val_loss: 1.0519e-04 - val_root_mean_squared_error: 0.0103\n",
      "Epoch 146/5000\n",
      "1/1 [==============================] - 1s 1s/step - loss: 8.5785e-05 - root_mean_squared_error: 0.0093 - val_loss: 1.0365e-04 - val_root_mean_squared_error: 0.0102\n",
      "Epoch 147/5000\n",
      "1/1 [==============================] - 1s 1s/step - loss: 8.5764e-05 - root_mean_squared_error: 0.0093 - val_loss: 1.0435e-04 - val_root_mean_squared_error: 0.0102\n",
      "Epoch 148/5000\n",
      "1/1 [==============================] - 1s 1s/step - loss: 8.5747e-05 - root_mean_squared_error: 0.0093 - val_loss: 1.0425e-04 - val_root_mean_squared_error: 0.0102\n",
      "Epoch 149/5000\n",
      "1/1 [==============================] - 1s 1s/step - loss: 8.5737e-05 - root_mean_squared_error: 0.0093 - val_loss: 1.0370e-04 - val_root_mean_squared_error: 0.0102\n",
      "Epoch 150/5000\n",
      "1/1 [==============================] - 1s 1s/step - loss: 8.5728e-05 - root_mean_squared_error: 0.0093 - val_loss: 1.0507e-04 - val_root_mean_squared_error: 0.0103\n",
      "Epoch 151/5000\n",
      "1/1 [==============================] - 1s 1s/step - loss: 8.5722e-05 - root_mean_squared_error: 0.0093 - val_loss: 1.0329e-04 - val_root_mean_squared_error: 0.0102\n",
      "Epoch 152/5000\n",
      "1/1 [==============================] - 1s 1s/step - loss: 8.5721e-05 - root_mean_squared_error: 0.0093 - val_loss: 1.0586e-04 - val_root_mean_squared_error: 0.0103\n",
      "Epoch 153/5000\n",
      "1/1 [==============================] - 1s 1s/step - loss: 8.5724e-05 - root_mean_squared_error: 0.0093 - val_loss: 1.0236e-04 - val_root_mean_squared_error: 0.0101\n",
      "Epoch 154/5000\n",
      "1/1 [==============================] - 1s 1s/step - loss: 8.5733e-05 - root_mean_squared_error: 0.0093 - val_loss: 1.0641e-04 - val_root_mean_squared_error: 0.0103\n",
      "Epoch 155/5000\n",
      "1/1 [==============================] - 1s 1s/step - loss: 8.5741e-05 - root_mean_squared_error: 0.0093 - val_loss: 1.0190e-04 - val_root_mean_squared_error: 0.0101\n",
      "Epoch 156/5000\n",
      "1/1 [==============================] - 1s 1s/step - loss: 8.5733e-05 - root_mean_squared_error: 0.0093 - val_loss: 1.0568e-04 - val_root_mean_squared_error: 0.0103\n",
      "Epoch 157/5000\n",
      "1/1 [==============================] - 1s 1s/step - loss: 8.5692e-05 - root_mean_squared_error: 0.0093 - val_loss: 1.0377e-04 - val_root_mean_squared_error: 0.0102\n",
      "Epoch 158/5000\n",
      "1/1 [==============================] - 1s 1s/step - loss: 8.5654e-05 - root_mean_squared_error: 0.0093 - val_loss: 1.0344e-04 - val_root_mean_squared_error: 0.0102\n",
      "Epoch 159/5000\n",
      "1/1 [==============================] - 1s 1s/step - loss: 8.5652e-05 - root_mean_squared_error: 0.0093 - val_loss: 1.0574e-04 - val_root_mean_squared_error: 0.0103\n",
      "Epoch 160/5000\n",
      "1/1 [==============================] - 1s 1s/step - loss: 8.5664e-05 - root_mean_squared_error: 0.0093 - val_loss: 1.0286e-04 - val_root_mean_squared_error: 0.0101\n",
      "Epoch 161/5000\n",
      "1/1 [==============================] - 1s 1s/step - loss: 8.5650e-05 - root_mean_squared_error: 0.0093 - val_loss: 1.0446e-04 - val_root_mean_squared_error: 0.0102\n",
      "Epoch 162/5000\n",
      "1/1 [==============================] - 1s 1s/step - loss: 8.5623e-05 - root_mean_squared_error: 0.0093 - val_loss: 1.0499e-04 - val_root_mean_squared_error: 0.0102\n",
      "Epoch 163/5000\n",
      "1/1 [==============================] - 1s 1s/step - loss: 8.5624e-05 - root_mean_squared_error: 0.0093 - val_loss: 1.0290e-04 - val_root_mean_squared_error: 0.0101\n",
      "Epoch 164/5000\n",
      "1/1 [==============================] - 1s 1s/step - loss: 8.5631e-05 - root_mean_squared_error: 0.0093 - val_loss: 1.0504e-04 - val_root_mean_squared_error: 0.0102\n",
      "Epoch 165/5000\n",
      "1/1 [==============================] - 1s 1s/step - loss: 8.5611e-05 - root_mean_squared_error: 0.0093 - val_loss: 1.0439e-04 - val_root_mean_squared_error: 0.0102\n",
      "Epoch 166/5000\n",
      "1/1 [==============================] - 1s 1s/step - loss: 8.5597e-05 - root_mean_squared_error: 0.0093 - val_loss: 1.0328e-04 - val_root_mean_squared_error: 0.0102\n",
      "Epoch 167/5000\n",
      "1/1 [==============================] - 1s 1s/step - loss: 8.5601e-05 - root_mean_squared_error: 0.0093 - val_loss: 1.0500e-04 - val_root_mean_squared_error: 0.0102\n",
      "Epoch 168/5000\n",
      "1/1 [==============================] - 1s 1s/step - loss: 8.5595e-05 - root_mean_squared_error: 0.0093 - val_loss: 1.0393e-04 - val_root_mean_squared_error: 0.0102\n",
      "Epoch 169/5000\n",
      "1/1 [==============================] - 1s 1s/step - loss: 8.5581e-05 - root_mean_squared_error: 0.0093 - val_loss: 1.0349e-04 - val_root_mean_squared_error: 0.0102\n",
      "Epoch 170/5000\n",
      "1/1 [==============================] - 1s 1s/step - loss: 8.5581e-05 - root_mean_squared_error: 0.0093 - val_loss: 1.0486e-04 - val_root_mean_squared_error: 0.0102\n",
      "Epoch 171/5000\n",
      "1/1 [==============================] - 1s 1s/step - loss: 8.5579e-05 - root_mean_squared_error: 0.0093 - val_loss: 1.0384e-04 - val_root_mean_squared_error: 0.0102\n",
      "Epoch 172/5000\n",
      "1/1 [==============================] - 1s 1s/step - loss: 8.5567e-05 - root_mean_squared_error: 0.0093 - val_loss: 1.0372e-04 - val_root_mean_squared_error: 0.0102\n",
      "Epoch 173/5000\n",
      "1/1 [==============================] - 1s 1s/step - loss: 8.5563e-05 - root_mean_squared_error: 0.0093 - val_loss: 1.0480e-04 - val_root_mean_squared_error: 0.0102\n",
      "Epoch 174/5000\n",
      "1/1 [==============================] - 1s 1s/step - loss: 8.5562e-05 - root_mean_squared_error: 0.0092 - val_loss: 1.0376e-04 - val_root_mean_squared_error: 0.0102\n",
      "Epoch 175/5000\n",
      "1/1 [==============================] - 1s 1s/step - loss: 8.5553e-05 - root_mean_squared_error: 0.0092 - val_loss: 1.0390e-04 - val_root_mean_squared_error: 0.0102\n",
      "Epoch 176/5000\n",
      "1/1 [==============================] - 1s 1s/step - loss: 8.5547e-05 - root_mean_squared_error: 0.0092 - val_loss: 1.0467e-04 - val_root_mean_squared_error: 0.0102\n",
      "Epoch 177/5000\n",
      "1/1 [==============================] - 1s 1s/step - loss: 8.5546e-05 - root_mean_squared_error: 0.0092 - val_loss: 1.0366e-04 - val_root_mean_squared_error: 0.0102\n",
      "Epoch 178/5000\n",
      "1/1 [==============================] - 1s 1s/step - loss: 8.5540e-05 - root_mean_squared_error: 0.0092 - val_loss: 1.0415e-04 - val_root_mean_squared_error: 0.0102\n",
      "Epoch 179/5000\n",
      "1/1 [==============================] - 1s 1s/step - loss: 8.5533e-05 - root_mean_squared_error: 0.0092 - val_loss: 1.0449e-04 - val_root_mean_squared_error: 0.0102\n",
      "Epoch 180/5000\n",
      "1/1 [==============================] - 1s 1s/step - loss: 8.5531e-05 - root_mean_squared_error: 0.0092 - val_loss: 1.0361e-04 - val_root_mean_squared_error: 0.0102\n",
      "Epoch 181/5000\n",
      "1/1 [==============================] - 1s 1s/step - loss: 8.5528e-05 - root_mean_squared_error: 0.0092 - val_loss: 1.0431e-04 - val_root_mean_squared_error: 0.0102\n",
      "Epoch 182/5000\n",
      "1/1 [==============================] - 1s 1s/step - loss: 8.5521e-05 - root_mean_squared_error: 0.0092 - val_loss: 1.0421e-04 - val_root_mean_squared_error: 0.0102\n",
      "Epoch 183/5000\n",
      "1/1 [==============================] - 2s 2s/step - loss: 8.5517e-05 - root_mean_squared_error: 0.0092 - val_loss: 1.0365e-04 - val_root_mean_squared_error: 0.0102\n",
      "Epoch 184/5000\n",
      "1/1 [==============================] - 1s 1s/step - loss: 8.5515e-05 - root_mean_squared_error: 0.0092 - val_loss: 1.0442e-04 - val_root_mean_squared_error: 0.0102\n"
     ]
    },
    {
     "name": "stdout",
     "output_type": "stream",
     "text": [
      "Epoch 185/5000\n",
      "1/1 [==============================] - 1s 1s/step - loss: 8.5510e-05 - root_mean_squared_error: 0.0092 - val_loss: 1.0398e-04 - val_root_mean_squared_error: 0.0102\n",
      "Epoch 186/5000\n",
      "1/1 [==============================] - 1s 1s/step - loss: 8.5505e-05 - root_mean_squared_error: 0.0092 - val_loss: 1.0386e-04 - val_root_mean_squared_error: 0.0102\n",
      "Epoch 187/5000\n",
      "1/1 [==============================] - 1s 1s/step - loss: 8.5502e-05 - root_mean_squared_error: 0.0092 - val_loss: 1.0444e-04 - val_root_mean_squared_error: 0.0102\n",
      "Epoch 188/5000\n",
      "1/1 [==============================] - 1s 1s/step - loss: 8.5499e-05 - root_mean_squared_error: 0.0092 - val_loss: 1.0379e-04 - val_root_mean_squared_error: 0.0102\n",
      "Epoch 189/5000\n",
      "1/1 [==============================] - 1s 1s/step - loss: 8.5495e-05 - root_mean_squared_error: 0.0092 - val_loss: 1.0409e-04 - val_root_mean_squared_error: 0.0102\n",
      "Epoch 190/5000\n",
      "1/1 [==============================] - 1s 1s/step - loss: 8.5490e-05 - root_mean_squared_error: 0.0092 - val_loss: 1.0427e-04 - val_root_mean_squared_error: 0.0102\n",
      "Epoch 191/5000\n",
      "1/1 [==============================] - 1s 1s/step - loss: 8.5488e-05 - root_mean_squared_error: 0.0092 - val_loss: 1.0375e-04 - val_root_mean_squared_error: 0.0102\n",
      "Epoch 192/5000\n",
      "1/1 [==============================] - 1s 1s/step - loss: 8.5485e-05 - root_mean_squared_error: 0.0092 - val_loss: 1.0430e-04 - val_root_mean_squared_error: 0.0102\n",
      "Epoch 193/5000\n",
      "1/1 [==============================] - 1s 1s/step - loss: 8.5481e-05 - root_mean_squared_error: 0.0092 - val_loss: 1.0400e-04 - val_root_mean_squared_error: 0.0102\n",
      "Epoch 194/5000\n",
      "1/1 [==============================] - 1s 1s/step - loss: 8.5478e-05 - root_mean_squared_error: 0.0092 - val_loss: 1.0390e-04 - val_root_mean_squared_error: 0.0102\n",
      "Epoch 195/5000\n",
      "1/1 [==============================] - 1s 1s/step - loss: 8.5475e-05 - root_mean_squared_error: 0.0092 - val_loss: 1.0429e-04 - val_root_mean_squared_error: 0.0102\n",
      "Epoch 196/5000\n",
      "1/1 [==============================] - 1s 1s/step - loss: 8.5472e-05 - root_mean_squared_error: 0.0092 - val_loss: 1.0379e-04 - val_root_mean_squared_error: 0.0102\n",
      "Epoch 197/5000\n",
      "1/1 [==============================] - 1s 1s/step - loss: 8.5469e-05 - root_mean_squared_error: 0.0092 - val_loss: 1.0420e-04 - val_root_mean_squared_error: 0.0102\n",
      "Epoch 198/5000\n",
      "1/1 [==============================] - 1s 1s/step - loss: 8.5466e-05 - root_mean_squared_error: 0.0092 - val_loss: 1.0403e-04 - val_root_mean_squared_error: 0.0102\n",
      "Epoch 199/5000\n",
      "1/1 [==============================] - 1s 1s/step - loss: 8.5463e-05 - root_mean_squared_error: 0.0092 - val_loss: 1.0394e-04 - val_root_mean_squared_error: 0.0102\n",
      "Epoch 200/5000\n",
      "1/1 [==============================] - 1s 1s/step - loss: 8.5460e-05 - root_mean_squared_error: 0.0092 - val_loss: 1.0425e-04 - val_root_mean_squared_error: 0.0102\n",
      "Epoch 201/5000\n",
      "1/1 [==============================] - 1s 1s/step - loss: 8.5458e-05 - root_mean_squared_error: 0.0092 - val_loss: 1.0382e-04 - val_root_mean_squared_error: 0.0102\n",
      "Epoch 202/5000\n",
      "1/1 [==============================] - 1s 1s/step - loss: 8.5455e-05 - root_mean_squared_error: 0.0092 - val_loss: 1.0424e-04 - val_root_mean_squared_error: 0.0102\n",
      "Epoch 203/5000\n",
      "1/1 [==============================] - 1s 1s/step - loss: 8.5452e-05 - root_mean_squared_error: 0.0092 - val_loss: 1.0390e-04 - val_root_mean_squared_error: 0.0102\n",
      "Epoch 204/5000\n",
      "1/1 [==============================] - 1s 1s/step - loss: 8.5449e-05 - root_mean_squared_error: 0.0092 - val_loss: 1.0406e-04 - val_root_mean_squared_error: 0.0102\n",
      "Epoch 205/5000\n",
      "1/1 [==============================] - 1s 1s/step - loss: 8.5447e-05 - root_mean_squared_error: 0.0092 - val_loss: 1.0407e-04 - val_root_mean_squared_error: 0.0102\n",
      "Epoch 206/5000\n"
     ]
    },
    {
     "ename": "KeyboardInterrupt",
     "evalue": "",
     "output_type": "error",
     "traceback": [
      "\u001b[0;31m---------------------------------------------------------------------------\u001b[0m",
      "\u001b[0;31mKeyboardInterrupt\u001b[0m                         Traceback (most recent call last)",
      "\u001b[0;32m<ipython-input-264-d66d8abc964b>\u001b[0m in \u001b[0;36m<module>\u001b[0;34m\u001b[0m\n\u001b[1;32m     17\u001b[0m               \u001b[0moptimizer\u001b[0m\u001b[0;34m=\u001b[0m\u001b[0mkeras\u001b[0m\u001b[0;34m.\u001b[0m\u001b[0moptimizers\u001b[0m\u001b[0;34m.\u001b[0m\u001b[0mAdam\u001b[0m\u001b[0;34m(\u001b[0m\u001b[0mlr\u001b[0m\u001b[0;34m=\u001b[0m\u001b[0;36m0.001\u001b[0m\u001b[0;34m)\u001b[0m\u001b[0;34m,\u001b[0m\u001b[0;34m\u001b[0m\u001b[0;34m\u001b[0m\u001b[0m\n\u001b[1;32m     18\u001b[0m               metrics=[tf.keras.metrics.RootMeanSquaredError()])\n\u001b[0;32m---> 19\u001b[0;31m history = model.fit(X_train,\n\u001b[0m\u001b[1;32m     20\u001b[0m                     \u001b[0mY_train\u001b[0m\u001b[0;34m,\u001b[0m\u001b[0;34m\u001b[0m\u001b[0;34m\u001b[0m\u001b[0m\n\u001b[1;32m     21\u001b[0m                     \u001b[0mepochs\u001b[0m\u001b[0;34m=\u001b[0m\u001b[0;36m5000\u001b[0m\u001b[0;34m,\u001b[0m\u001b[0;34m\u001b[0m\u001b[0;34m\u001b[0m\u001b[0m\n",
      "\u001b[0;32m~/ml/my_env/lib/python3.8/site-packages/tensorflow/python/keras/engine/training.py\u001b[0m in \u001b[0;36m_method_wrapper\u001b[0;34m(self, *args, **kwargs)\u001b[0m\n\u001b[1;32m     64\u001b[0m   \u001b[0;32mdef\u001b[0m \u001b[0m_method_wrapper\u001b[0m\u001b[0;34m(\u001b[0m\u001b[0mself\u001b[0m\u001b[0;34m,\u001b[0m \u001b[0;34m*\u001b[0m\u001b[0margs\u001b[0m\u001b[0;34m,\u001b[0m \u001b[0;34m**\u001b[0m\u001b[0mkwargs\u001b[0m\u001b[0;34m)\u001b[0m\u001b[0;34m:\u001b[0m\u001b[0;34m\u001b[0m\u001b[0;34m\u001b[0m\u001b[0m\n\u001b[1;32m     65\u001b[0m     \u001b[0;32mif\u001b[0m \u001b[0;32mnot\u001b[0m \u001b[0mself\u001b[0m\u001b[0;34m.\u001b[0m\u001b[0m_in_multi_worker_mode\u001b[0m\u001b[0;34m(\u001b[0m\u001b[0;34m)\u001b[0m\u001b[0;34m:\u001b[0m  \u001b[0;31m# pylint: disable=protected-access\u001b[0m\u001b[0;34m\u001b[0m\u001b[0;34m\u001b[0m\u001b[0m\n\u001b[0;32m---> 66\u001b[0;31m       \u001b[0;32mreturn\u001b[0m \u001b[0mmethod\u001b[0m\u001b[0;34m(\u001b[0m\u001b[0mself\u001b[0m\u001b[0;34m,\u001b[0m \u001b[0;34m*\u001b[0m\u001b[0margs\u001b[0m\u001b[0;34m,\u001b[0m \u001b[0;34m**\u001b[0m\u001b[0mkwargs\u001b[0m\u001b[0;34m)\u001b[0m\u001b[0;34m\u001b[0m\u001b[0;34m\u001b[0m\u001b[0m\n\u001b[0m\u001b[1;32m     67\u001b[0m \u001b[0;34m\u001b[0m\u001b[0m\n\u001b[1;32m     68\u001b[0m     \u001b[0;31m# Running inside `run_distribute_coordinator` already.\u001b[0m\u001b[0;34m\u001b[0m\u001b[0;34m\u001b[0m\u001b[0;34m\u001b[0m\u001b[0m\n",
      "\u001b[0;32m~/ml/my_env/lib/python3.8/site-packages/tensorflow/python/keras/engine/training.py\u001b[0m in \u001b[0;36mfit\u001b[0;34m(self, x, y, batch_size, epochs, verbose, callbacks, validation_split, validation_data, shuffle, class_weight, sample_weight, initial_epoch, steps_per_epoch, validation_steps, validation_batch_size, validation_freq, max_queue_size, workers, use_multiprocessing)\u001b[0m\n\u001b[1;32m    846\u001b[0m                 batch_size=batch_size):\n\u001b[1;32m    847\u001b[0m               \u001b[0mcallbacks\u001b[0m\u001b[0;34m.\u001b[0m\u001b[0mon_train_batch_begin\u001b[0m\u001b[0;34m(\u001b[0m\u001b[0mstep\u001b[0m\u001b[0;34m)\u001b[0m\u001b[0;34m\u001b[0m\u001b[0;34m\u001b[0m\u001b[0m\n\u001b[0;32m--> 848\u001b[0;31m               \u001b[0mtmp_logs\u001b[0m \u001b[0;34m=\u001b[0m \u001b[0mtrain_function\u001b[0m\u001b[0;34m(\u001b[0m\u001b[0miterator\u001b[0m\u001b[0;34m)\u001b[0m\u001b[0;34m\u001b[0m\u001b[0;34m\u001b[0m\u001b[0m\n\u001b[0m\u001b[1;32m    849\u001b[0m               \u001b[0;31m# Catch OutOfRangeError for Datasets of unknown size.\u001b[0m\u001b[0;34m\u001b[0m\u001b[0;34m\u001b[0m\u001b[0;34m\u001b[0m\u001b[0m\n\u001b[1;32m    850\u001b[0m               \u001b[0;31m# This blocks until the batch has finished executing.\u001b[0m\u001b[0;34m\u001b[0m\u001b[0;34m\u001b[0m\u001b[0;34m\u001b[0m\u001b[0m\n",
      "\u001b[0;32m~/ml/my_env/lib/python3.8/site-packages/tensorflow/python/eager/def_function.py\u001b[0m in \u001b[0;36m__call__\u001b[0;34m(self, *args, **kwds)\u001b[0m\n\u001b[1;32m    578\u001b[0m         \u001b[0mxla_context\u001b[0m\u001b[0;34m.\u001b[0m\u001b[0mExit\u001b[0m\u001b[0;34m(\u001b[0m\u001b[0;34m)\u001b[0m\u001b[0;34m\u001b[0m\u001b[0;34m\u001b[0m\u001b[0m\n\u001b[1;32m    579\u001b[0m     \u001b[0;32melse\u001b[0m\u001b[0;34m:\u001b[0m\u001b[0;34m\u001b[0m\u001b[0;34m\u001b[0m\u001b[0m\n\u001b[0;32m--> 580\u001b[0;31m       \u001b[0mresult\u001b[0m \u001b[0;34m=\u001b[0m \u001b[0mself\u001b[0m\u001b[0;34m.\u001b[0m\u001b[0m_call\u001b[0m\u001b[0;34m(\u001b[0m\u001b[0;34m*\u001b[0m\u001b[0margs\u001b[0m\u001b[0;34m,\u001b[0m \u001b[0;34m**\u001b[0m\u001b[0mkwds\u001b[0m\u001b[0;34m)\u001b[0m\u001b[0;34m\u001b[0m\u001b[0;34m\u001b[0m\u001b[0m\n\u001b[0m\u001b[1;32m    581\u001b[0m \u001b[0;34m\u001b[0m\u001b[0m\n\u001b[1;32m    582\u001b[0m     \u001b[0;32mif\u001b[0m \u001b[0mtracing_count\u001b[0m \u001b[0;34m==\u001b[0m \u001b[0mself\u001b[0m\u001b[0;34m.\u001b[0m\u001b[0m_get_tracing_count\u001b[0m\u001b[0;34m(\u001b[0m\u001b[0;34m)\u001b[0m\u001b[0;34m:\u001b[0m\u001b[0;34m\u001b[0m\u001b[0;34m\u001b[0m\u001b[0m\n",
      "\u001b[0;32m~/ml/my_env/lib/python3.8/site-packages/tensorflow/python/eager/def_function.py\u001b[0m in \u001b[0;36m_call\u001b[0;34m(self, *args, **kwds)\u001b[0m\n\u001b[1;32m    609\u001b[0m       \u001b[0;31m# In this case we have created variables on the first call, so we run the\u001b[0m\u001b[0;34m\u001b[0m\u001b[0;34m\u001b[0m\u001b[0;34m\u001b[0m\u001b[0m\n\u001b[1;32m    610\u001b[0m       \u001b[0;31m# defunned version which is guaranteed to never create variables.\u001b[0m\u001b[0;34m\u001b[0m\u001b[0;34m\u001b[0m\u001b[0;34m\u001b[0m\u001b[0m\n\u001b[0;32m--> 611\u001b[0;31m       \u001b[0;32mreturn\u001b[0m \u001b[0mself\u001b[0m\u001b[0;34m.\u001b[0m\u001b[0m_stateless_fn\u001b[0m\u001b[0;34m(\u001b[0m\u001b[0;34m*\u001b[0m\u001b[0margs\u001b[0m\u001b[0;34m,\u001b[0m \u001b[0;34m**\u001b[0m\u001b[0mkwds\u001b[0m\u001b[0;34m)\u001b[0m  \u001b[0;31m# pylint: disable=not-callable\u001b[0m\u001b[0;34m\u001b[0m\u001b[0;34m\u001b[0m\u001b[0m\n\u001b[0m\u001b[1;32m    612\u001b[0m     \u001b[0;32melif\u001b[0m \u001b[0mself\u001b[0m\u001b[0;34m.\u001b[0m\u001b[0m_stateful_fn\u001b[0m \u001b[0;32mis\u001b[0m \u001b[0;32mnot\u001b[0m \u001b[0;32mNone\u001b[0m\u001b[0;34m:\u001b[0m\u001b[0;34m\u001b[0m\u001b[0;34m\u001b[0m\u001b[0m\n\u001b[1;32m    613\u001b[0m       \u001b[0;31m# Release the lock early so that multiple threads can perform the call\u001b[0m\u001b[0;34m\u001b[0m\u001b[0;34m\u001b[0m\u001b[0;34m\u001b[0m\u001b[0m\n",
      "\u001b[0;32m~/ml/my_env/lib/python3.8/site-packages/tensorflow/python/eager/function.py\u001b[0m in \u001b[0;36m__call__\u001b[0;34m(self, *args, **kwargs)\u001b[0m\n\u001b[1;32m   2418\u001b[0m     \u001b[0;32mwith\u001b[0m \u001b[0mself\u001b[0m\u001b[0;34m.\u001b[0m\u001b[0m_lock\u001b[0m\u001b[0;34m:\u001b[0m\u001b[0;34m\u001b[0m\u001b[0;34m\u001b[0m\u001b[0m\n\u001b[1;32m   2419\u001b[0m       \u001b[0mgraph_function\u001b[0m\u001b[0;34m,\u001b[0m \u001b[0margs\u001b[0m\u001b[0;34m,\u001b[0m \u001b[0mkwargs\u001b[0m \u001b[0;34m=\u001b[0m \u001b[0mself\u001b[0m\u001b[0;34m.\u001b[0m\u001b[0m_maybe_define_function\u001b[0m\u001b[0;34m(\u001b[0m\u001b[0margs\u001b[0m\u001b[0;34m,\u001b[0m \u001b[0mkwargs\u001b[0m\u001b[0;34m)\u001b[0m\u001b[0;34m\u001b[0m\u001b[0;34m\u001b[0m\u001b[0m\n\u001b[0;32m-> 2420\u001b[0;31m     \u001b[0;32mreturn\u001b[0m \u001b[0mgraph_function\u001b[0m\u001b[0;34m.\u001b[0m\u001b[0m_filtered_call\u001b[0m\u001b[0;34m(\u001b[0m\u001b[0margs\u001b[0m\u001b[0;34m,\u001b[0m \u001b[0mkwargs\u001b[0m\u001b[0;34m)\u001b[0m  \u001b[0;31m# pylint: disable=protected-access\u001b[0m\u001b[0;34m\u001b[0m\u001b[0;34m\u001b[0m\u001b[0m\n\u001b[0m\u001b[1;32m   2421\u001b[0m \u001b[0;34m\u001b[0m\u001b[0m\n\u001b[1;32m   2422\u001b[0m   \u001b[0;34m@\u001b[0m\u001b[0mproperty\u001b[0m\u001b[0;34m\u001b[0m\u001b[0;34m\u001b[0m\u001b[0m\n",
      "\u001b[0;32m~/ml/my_env/lib/python3.8/site-packages/tensorflow/python/eager/function.py\u001b[0m in \u001b[0;36m_filtered_call\u001b[0;34m(self, args, kwargs)\u001b[0m\n\u001b[1;32m   1659\u001b[0m       \u001b[0;31m`\u001b[0m\u001b[0margs\u001b[0m\u001b[0;31m`\u001b[0m \u001b[0;32mand\u001b[0m\u001b[0;31m \u001b[0m\u001b[0;31m`\u001b[0m\u001b[0mkwargs\u001b[0m\u001b[0;31m`\u001b[0m\u001b[0;34m.\u001b[0m\u001b[0;34m\u001b[0m\u001b[0;34m\u001b[0m\u001b[0m\n\u001b[1;32m   1660\u001b[0m     \"\"\"\n\u001b[0;32m-> 1661\u001b[0;31m     return self._call_flat(\n\u001b[0m\u001b[1;32m   1662\u001b[0m         (t for t in nest.flatten((args, kwargs), expand_composites=True)\n\u001b[1;32m   1663\u001b[0m          if isinstance(t, (ops.Tensor,\n",
      "\u001b[0;32m~/ml/my_env/lib/python3.8/site-packages/tensorflow/python/eager/function.py\u001b[0m in \u001b[0;36m_call_flat\u001b[0;34m(self, args, captured_inputs, cancellation_manager)\u001b[0m\n\u001b[1;32m   1743\u001b[0m         and executing_eagerly):\n\u001b[1;32m   1744\u001b[0m       \u001b[0;31m# No tape is watching; skip to running the function.\u001b[0m\u001b[0;34m\u001b[0m\u001b[0;34m\u001b[0m\u001b[0;34m\u001b[0m\u001b[0m\n\u001b[0;32m-> 1745\u001b[0;31m       return self._build_call_outputs(self._inference_function.call(\n\u001b[0m\u001b[1;32m   1746\u001b[0m           ctx, args, cancellation_manager=cancellation_manager))\n\u001b[1;32m   1747\u001b[0m     forward_backward = self._select_forward_and_backward_functions(\n",
      "\u001b[0;32m~/ml/my_env/lib/python3.8/site-packages/tensorflow/python/eager/function.py\u001b[0m in \u001b[0;36mcall\u001b[0;34m(self, ctx, args, cancellation_manager)\u001b[0m\n\u001b[1;32m    591\u001b[0m       \u001b[0;32mwith\u001b[0m \u001b[0m_InterpolateFunctionError\u001b[0m\u001b[0;34m(\u001b[0m\u001b[0mself\u001b[0m\u001b[0;34m)\u001b[0m\u001b[0;34m:\u001b[0m\u001b[0;34m\u001b[0m\u001b[0;34m\u001b[0m\u001b[0m\n\u001b[1;32m    592\u001b[0m         \u001b[0;32mif\u001b[0m \u001b[0mcancellation_manager\u001b[0m \u001b[0;32mis\u001b[0m \u001b[0;32mNone\u001b[0m\u001b[0;34m:\u001b[0m\u001b[0;34m\u001b[0m\u001b[0;34m\u001b[0m\u001b[0m\n\u001b[0;32m--> 593\u001b[0;31m           outputs = execute.execute(\n\u001b[0m\u001b[1;32m    594\u001b[0m               \u001b[0mstr\u001b[0m\u001b[0;34m(\u001b[0m\u001b[0mself\u001b[0m\u001b[0;34m.\u001b[0m\u001b[0msignature\u001b[0m\u001b[0;34m.\u001b[0m\u001b[0mname\u001b[0m\u001b[0;34m)\u001b[0m\u001b[0;34m,\u001b[0m\u001b[0;34m\u001b[0m\u001b[0;34m\u001b[0m\u001b[0m\n\u001b[1;32m    595\u001b[0m               \u001b[0mnum_outputs\u001b[0m\u001b[0;34m=\u001b[0m\u001b[0mself\u001b[0m\u001b[0;34m.\u001b[0m\u001b[0m_num_outputs\u001b[0m\u001b[0;34m,\u001b[0m\u001b[0;34m\u001b[0m\u001b[0;34m\u001b[0m\u001b[0m\n",
      "\u001b[0;32m~/ml/my_env/lib/python3.8/site-packages/tensorflow/python/eager/execute.py\u001b[0m in \u001b[0;36mquick_execute\u001b[0;34m(op_name, num_outputs, inputs, attrs, ctx, name)\u001b[0m\n\u001b[1;32m     57\u001b[0m   \u001b[0;32mtry\u001b[0m\u001b[0;34m:\u001b[0m\u001b[0;34m\u001b[0m\u001b[0;34m\u001b[0m\u001b[0m\n\u001b[1;32m     58\u001b[0m     \u001b[0mctx\u001b[0m\u001b[0;34m.\u001b[0m\u001b[0mensure_initialized\u001b[0m\u001b[0;34m(\u001b[0m\u001b[0;34m)\u001b[0m\u001b[0;34m\u001b[0m\u001b[0;34m\u001b[0m\u001b[0m\n\u001b[0;32m---> 59\u001b[0;31m     tensors = pywrap_tfe.TFE_Py_Execute(ctx._handle, device_name, op_name,\n\u001b[0m\u001b[1;32m     60\u001b[0m                                         inputs, attrs, num_outputs)\n\u001b[1;32m     61\u001b[0m   \u001b[0;32mexcept\u001b[0m \u001b[0mcore\u001b[0m\u001b[0;34m.\u001b[0m\u001b[0m_NotOkStatusException\u001b[0m \u001b[0;32mas\u001b[0m \u001b[0me\u001b[0m\u001b[0;34m:\u001b[0m\u001b[0;34m\u001b[0m\u001b[0;34m\u001b[0m\u001b[0m\n",
      "\u001b[0;31mKeyboardInterrupt\u001b[0m: "
     ]
    }
   ],
   "source": [
    "initializer = tf.keras.initializers.lecun_normal()\n",
    "\n",
    "model = keras.models.Sequential()\n",
    "model.add(keras.layers.InputLayer(input_shape=[None, 1]))\n",
    "for rate in (1, 2, 4, 8, 16, 32, 64, 128, 256, 512, 1024, 2048, 4096, 8192, 16384) * 2:\n",
    "    model.add(keras.layers.Conv1D(\n",
    "        filters=20,\n",
    "        kernel_size=2,\n",
    "        padding=\"causal\",\n",
    "        activation=\"relu\",\n",
    "        dilation_rate=rate))\n",
    "model.add(keras.layers.Conv1D(filters=10,\n",
    "                              kernel_size=1,\n",
    "                              activation=\"relu\"))\n",
    "model.add(keras.layers.Dense(1))\n",
    "model.compile(loss='mse',\n",
    "              optimizer=keras.optimizers.Adam(lr=0.001),\n",
    "              metrics=[tf.keras.metrics.RootMeanSquaredError()])\n",
    "history = model.fit(X_train,\n",
    "                    Y_train,\n",
    "                    epochs=5000,\n",
    "                    validation_data=(X_valid, Y_valid))\n",
    "#                    callbacks=[checkpoint_cb, tensorboard_cb])"
   ]
  },
  {
   "cell_type": "code",
   "execution_count": 267,
   "metadata": {},
   "outputs": [],
   "source": [
    "prediction = model.predict(X_test)"
   ]
  },
  {
   "cell_type": "code",
   "execution_count": 92,
   "metadata": {},
   "outputs": [
    {
     "data": {
      "text/plain": [
       "(10, 43824, 1)"
      ]
     },
     "execution_count": 92,
     "metadata": {},
     "output_type": "execute_result"
    }
   ],
   "source": [
    "prediction.shape"
   ]
  },
  {
   "cell_type": "code",
   "execution_count": 272,
   "metadata": {},
   "outputs": [
    {
     "data": {
      "text/plain": [
       "Text(0.5, 1.0, 'Normalized decay vs time (hours)')"
      ]
     },
     "execution_count": 272,
     "metadata": {},
     "output_type": "execute_result"
    },
    {
     "data": {
      "image/png": "[encoded data removed]",
      "text/plain": [
       "<Figure size 432x288 with 1 Axes>"
      ]
     },
     "metadata": {
      "needs_background": "light"
     },
     "output_type": "display_data"
    }
   ],
   "source": [
    "plt.figure()\n",
    "plt.plot([np.log(x+1) for x in prediction[6]])\n",
    "plt.plot([np.log(x+1) for x in Y_test[6]])\n",
    "plt.legend(['CNN prediction','Actual decay'])\n",
    "plt.title(\"Normalized decay vs time (hours)\")"
   ]
  },
  {
   "cell_type": "code",
   "execution_count": 68,
   "metadata": {},
   "outputs": [],
   "source": [
    "y_pred = []\n",
    "for x in prediction:\n",
    "    y_pred.append(np.mean(x))"
   ]
  },
  {
   "cell_type": "code",
   "execution_count": 50,
   "metadata": {},
   "outputs": [],
   "source": [
    "y_pred = np.array(y_pred)"
   ]
  },
  {
   "cell_type": "code",
   "execution_count": 70,
   "metadata": {},
   "outputs": [
    {
     "data": {
      "text/plain": [
       "0.002893060343155977"
      ]
     },
     "execution_count": 70,
     "metadata": {},
     "output_type": "execute_result"
    }
   ],
   "source": [
    "mse = sklearn.metrics.mean_squared_error(y_pred, Y_test)\n",
    "math.sqrt(mse)"
   ]
  },
  {
   "cell_type": "code",
   "execution_count": 75,
   "metadata": {},
   "outputs": [
    {
     "data": {
      "image/png": "[encoded data removed]",
      "text/plain": [
       "<Figure size 432x288 with 1 Axes>"
      ]
     },
     "metadata": {
      "needs_background": "light"
     },
     "output_type": "display_data"
    }
   ],
   "source": [
    "plt.figure()\n",
    "plt.plot(Y_test)\n",
    "plt.plot((y_pred-np.mean(y_pred))*100+y_pred)\n",
    "plt.show()"
   ]
  },
  {
   "cell_type": "code",
   "execution_count": 233,
   "metadata": {},
   "outputs": [
    {
     "data": {
      "text/plain": [
       "[<matplotlib.lines.Line2D at 0x7ff099bec7c0>]"
      ]
     },
     "execution_count": 233,
     "metadata": {},
     "output_type": "execute_result"
    },
    {
     "data": {
      "image/png": "[encoded data removed]",
      "text/plain": [
       "<Figure size 432x288 with 1 Axes>"
      ]
     },
     "metadata": {
      "needs_background": "light"
     },
     "output_type": "display_data"
    }
   ],
   "source": [
    "plt.plot([np.power(1+degradation_rate,i/365.25/24) for i in range(0,len(df))])"
   ]
  },
  {
   "cell_type": "code",
   "execution_count": 225,
   "metadata": {},
   "outputs": [
    {
     "name": "stdout",
     "output_type": "stream",
     "text": [
      "43824\n",
      "43824\n",
      "43824\n",
      "43824\n",
      "43824\n",
      "43824\n",
      "43824\n",
      "43824\n",
      "43824\n",
      "43824\n",
      "43824\n",
      "43824\n",
      "43824\n",
      "43824\n",
      "43824\n",
      "43824\n",
      "43824\n",
      "43824\n",
      "43824\n",
      "43824\n",
      "43824\n",
      "43824\n",
      "43824\n",
      "43824\n",
      "43824\n",
      "43824\n",
      "43824\n",
      "43824\n",
      "43824\n",
      "43824\n"
     ]
    }
   ],
   "source": [
    "for i in range(0, len(Y_train)):\n",
    "    print(len(Y_train[i]))"
   ]
  },
  {
   "cell_type": "code",
   "execution_count": 213,
   "metadata": {},
   "outputs": [
    {
     "data": {
      "text/plain": [
       "[<matplotlib.lines.Line2D at 0x7ff5d9764790>]"
      ]
     },
     "execution_count": 213,
     "metadata": {},
     "output_type": "execute_result"
    },
    {
     "data": {
      "image/png": "[encoded data removed]",
      "text/plain": [
       "<Figure size 432x288 with 1 Axes>"
      ]
     },
     "metadata": {
      "needs_background": "light"
     },
     "output_type": "display_data"
    }
   ],
   "source": [
    "t = [x for x in range(0,2000000)]\n",
    "power = [np.power(1-0.01,i/365.25/24/60) for i in t]\n",
    "\n",
    "plt.plot(t,power)"
   ]
  },
  {
   "cell_type": "code",
   "execution_count": null,
   "metadata": {},
   "outputs": [],
   "source": []
  }
 ],
 "metadata": {
  "kernelspec": {
   "display_name": "Python 3",
   "language": "python",
   "name": "python3"
  },
  "language_info": {
   "codemirror_mode": {
    "name": "ipython",
    "version": 3
   },
   "file_extension": ".py",
   "mimetype": "text/x-python",
   "name": "python",
   "nbconvert_exporter": "python",
   "pygments_lexer": "ipython3",
   "version": "3.8.4"
  }
 },
 "nbformat": 4,
 "nbformat_minor": 4
}
