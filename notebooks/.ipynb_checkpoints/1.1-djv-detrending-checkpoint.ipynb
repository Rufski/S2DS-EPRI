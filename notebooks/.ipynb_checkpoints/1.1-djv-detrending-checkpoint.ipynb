{
 "cells": [
  {
   "cell_type": "code",
   "execution_count": 1,
   "metadata": {},
   "outputs": [],
   "source": [
    "import pandas as pd\n",
    "import matplotlib.pyplot as plt\n",
    "import seaborn as sns\n",
    "sns.set(rc={'figure.figsize':(20, 8)}, font_scale=1.5)"
   ]
  },
  {
   "cell_type": "code",
   "execution_count": null,
   "metadata": {},
   "outputs": [],
   "source": [
    "def load_df_from_datasets(location_prefix, number):\n",
    "    target_file = \"{}_{}.csv\".format(location_prefix, number)\n",
    "    df = pd.read_csv(target_file)\n",
    "    df = df.rename(columns={'Unnamed: 0':'time'})\n",
    "    df['time'] = pd.to_datetime(df['time'])\n",
    "    df['time'] = df['time'].dt.tz_localize(None)\n",
    "    \n",
    "    return df\n",
    "    \n",
    "soil_df  = load_df_from_datasets(\"../data/raw/synthetic_soil/Synthetic_Soil\", 1)\n",
    "soil_weather_df = load_df_from_datasets(\"../data/raw/synthetic_soil_weather/Synthetic_Soil_and_Weather\", 1)"
   ]
  },
  {
   "cell_type": "code",
   "execution_count": null,
   "metadata": {},
   "outputs": [],
   "source": [
    "soil_"
   ]
  }
 ],
 "metadata": {
  "kernelspec": {
   "display_name": "Python 3",
   "language": "python",
   "name": "python3"
  },
  "language_info": {
   "codemirror_mode": {
    "name": "ipython",
    "version": 3
   },
   "file_extension": ".py",
   "mimetype": "text/x-python",
   "name": "python",
   "nbconvert_exporter": "python",
   "pygments_lexer": "ipython3",
   "version": "3.7.8"
  }
 },
 "nbformat": 4,
 "nbformat_minor": 4
}
