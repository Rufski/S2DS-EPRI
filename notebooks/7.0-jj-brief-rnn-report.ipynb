{
 "cells": [
  {
   "cell_type": "markdown",
   "metadata": {},
   "source": [
    "# Recurrent Neural Network\n",
    "\n",
    "Recurrent Neural Network (or RNN) is a neural network architecture which is design to take a sequence (for example a sentence or a time-series) as in put and label it (assign a lable for each element in the sequence), classify it (assign a label for the whole sequence), or generate a new sequence of the same length. Hence, in theory, RNNs could be suited for the project at hand – it could take in a power-signal (and other parameters such as temperature if desired) as an input and return degradation factor or soiling profile with a daily resolution as an output.\n",
    "\n",
    "## (Very) Brief summary of the method\n",
    "\n",
    "The key idea behind RNNs is that each element in the sequence is passed through the neural network separately and in the order they appear in the sequence. The computation is then performed using the value of the element which is currently being passed through the network and the result from the previous step, that is, the result obtained while passing the previous element through the network. This allows the model to essentially have a sort of \"memory\".\n",
    "\n",
    "The downside of the approach is that during backpropagation, that is, when updating the weights in the network, the network needs to be unfolded. Roughly speaking, this means that even if a network only contains a single recurrent layer but is used to process a long sequence, it will effectively become as deep as the input sequence is long for the sake of training. In this case the network suffers from the vanishing gradient problem. Therefore, RNNs are only suitable for relatively short, up to a few hundred elements,  sequences.\n",
    "\n",
    "## Conlusion and outlook\n",
    "\n",
    "Given the discussion above, RNNs have not been investigated as a method to predict degradation or soiling with a daily resolution. However, an RNN approach might be feasible if the power-signal is downsampled even further, for example to weeks. A possible approach here could be to use an LSTM (a type of RNN which can have a longer term memory) with a weekly power-signal together with a score for how cloudy each week was. This approach, hopefully, would allow the network to learn which weeks to select for comparison. \n",
    "\n",
    "Another use case for a RNN could be the detection of cleaning events. It might be possible to use the power signal with a span of a few days (downsampled to hours or days) to detect if any cleaning of the panels happened in the given timespan. Unfortunately, due to time constraints, neither of the ideas have been investigated further."
   ]
  },
  {
   "cell_type": "code",
   "execution_count": null,
   "metadata": {},
   "outputs": [],
   "source": []
  }
 ],
 "metadata": {
  "kernelspec": {
   "display_name": "Python 3",
   "language": "python",
   "name": "python3"
  },
  "language_info": {
   "codemirror_mode": {
    "name": "ipython",
    "version": 3
   },
   "file_extension": ".py",
   "mimetype": "text/x-python",
   "name": "python",
   "nbconvert_exporter": "python",
   "pygments_lexer": "ipython3",
   "version": "3.6.9"
  }
 },
 "nbformat": 4,
 "nbformat_minor": 4
}
