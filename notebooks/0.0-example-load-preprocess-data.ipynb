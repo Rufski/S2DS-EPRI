{
 "cells": [
  {
   "cell_type": "markdown",
   "metadata": {},
   "source": [
    "# Cheat sheet notebook for loading and preprocessing synthetic dataset"
   ]
  },
  {
   "cell_type": "code",
   "execution_count": 1,
   "metadata": {},
   "outputs": [],
   "source": [
    "# In the root of the repo run \"pip install --editable .\"\n",
    "\n",
    "# OPTIONAL: Load the \"autoreload\" extension so that code can change\n",
    "%load_ext autoreload\n",
    "\n",
    "# OPTIONAL: always reload modules so that as you change code in src, it gets loaded\n",
    "%autoreload 2\n",
    "\n",
    "# Replace sample_func_dir by the name of directory in src/ and replace sample_func_file the\n",
    "# file name in src/sample_func_dir\n",
    "from src.data.import_data import import_df_from_zip\n",
    "from src.data.make_dataset import *"
   ]
  },
  {
   "cell_type": "markdown",
   "metadata": {},
   "source": [
    "## Load synthetic dataset"
   ]
  },
  {
   "cell_type": "markdown",
   "metadata": {},
   "source": [
    "The function `import_df_from_dir` can be used to import df from directory"
   ]
  },
  {
   "cell_type": "code",
   "execution_count": 2,
   "metadata": {},
   "outputs": [
    {
     "name": "stdout",
     "output_type": "stream",
     "text": [
      "time for importing dataframe: 67.29 seconds\n"
     ]
    }
   ],
   "source": [
    "csv_index   = 1\n",
    "synth_name  = \"basic\"\n",
    "path_to_zip = \"../data/raw/synthetic_\" + synth_name + \".zip\"\n",
    "df          = import_df_from_zip(path_to_zip, csv_index, verbose=True)"
   ]
  },
  {
   "cell_type": "code",
   "execution_count": 3,
   "metadata": {},
   "outputs": [
    {
     "name": "stdout",
     "output_type": "stream",
     "text": [
      "<class 'pandas.core.frame.DataFrame'>\n",
      "DatetimeIndex: 2629440 entries, 2015-01-01 00:00:00-05:00 to 2019-12-31 23:59:00-05:00\n",
      "Data columns (total 12 columns):\n",
      " #   Column                   Dtype  \n",
      "---  ------                   -----  \n",
      " 0   Power                    float64\n",
      " 1   POA                      float64\n",
      " 2   Tamb                     float64\n",
      " 3   Wind                     float64\n",
      " 4   Degradation_rate_per_yr  float64\n",
      " 5   soiling                  int64  \n",
      " 6   year                     int64  \n",
      " 7   month                    int64  \n",
      " 8   day                      int64  \n",
      " 9   hour                     int64  \n",
      " 10  minute_of_hour           int64  \n",
      " 11  minute_of_day            int64  \n",
      "dtypes: float64(5), int64(7)\n",
      "memory usage: 260.8 MB\n"
     ]
    }
   ],
   "source": [
    "df.info()"
   ]
  },
  {
   "cell_type": "code",
   "execution_count": 4,
   "metadata": {},
   "outputs": [
    {
     "data": {
      "text/html": [
       "<div>\n",
       "<style scoped>\n",
       "    .dataframe tbody tr th:only-of-type {\n",
       "        vertical-align: middle;\n",
       "    }\n",
       "\n",
       "    .dataframe tbody tr th {\n",
       "        vertical-align: top;\n",
       "    }\n",
       "\n",
       "    .dataframe thead th {\n",
       "        text-align: right;\n",
       "    }\n",
       "</style>\n",
       "<table border=\"1\" class=\"dataframe\">\n",
       "  <thead>\n",
       "    <tr style=\"text-align: right;\">\n",
       "      <th></th>\n",
       "      <th>Power</th>\n",
       "      <th>POA</th>\n",
       "      <th>Tamb</th>\n",
       "      <th>Wind</th>\n",
       "      <th>Degradation_rate_per_yr</th>\n",
       "      <th>soiling</th>\n",
       "      <th>year</th>\n",
       "      <th>month</th>\n",
       "      <th>day</th>\n",
       "      <th>hour</th>\n",
       "      <th>minute_of_hour</th>\n",
       "      <th>minute_of_day</th>\n",
       "    </tr>\n",
       "  </thead>\n",
       "  <tbody>\n",
       "    <tr>\n",
       "      <th>2015-01-01 00:00:00-05:00</th>\n",
       "      <td>-1.0</td>\n",
       "      <td>0.0</td>\n",
       "      <td>5.1</td>\n",
       "      <td>0.0</td>\n",
       "      <td>-0.01436</td>\n",
       "      <td>1</td>\n",
       "      <td>2015</td>\n",
       "      <td>1</td>\n",
       "      <td>1</td>\n",
       "      <td>0</td>\n",
       "      <td>0</td>\n",
       "      <td>0</td>\n",
       "    </tr>\n",
       "    <tr>\n",
       "      <th>2015-01-01 00:01:00-05:00</th>\n",
       "      <td>-1.0</td>\n",
       "      <td>0.0</td>\n",
       "      <td>5.1</td>\n",
       "      <td>0.0</td>\n",
       "      <td>-0.01436</td>\n",
       "      <td>1</td>\n",
       "      <td>2015</td>\n",
       "      <td>1</td>\n",
       "      <td>1</td>\n",
       "      <td>0</td>\n",
       "      <td>1</td>\n",
       "      <td>1</td>\n",
       "    </tr>\n",
       "    <tr>\n",
       "      <th>2015-01-01 00:02:00-05:00</th>\n",
       "      <td>-1.0</td>\n",
       "      <td>0.0</td>\n",
       "      <td>5.1</td>\n",
       "      <td>0.0</td>\n",
       "      <td>-0.01436</td>\n",
       "      <td>1</td>\n",
       "      <td>2015</td>\n",
       "      <td>1</td>\n",
       "      <td>1</td>\n",
       "      <td>0</td>\n",
       "      <td>2</td>\n",
       "      <td>2</td>\n",
       "    </tr>\n",
       "    <tr>\n",
       "      <th>2015-01-01 00:03:00-05:00</th>\n",
       "      <td>-1.0</td>\n",
       "      <td>0.0</td>\n",
       "      <td>5.1</td>\n",
       "      <td>0.0</td>\n",
       "      <td>-0.01436</td>\n",
       "      <td>1</td>\n",
       "      <td>2015</td>\n",
       "      <td>1</td>\n",
       "      <td>1</td>\n",
       "      <td>0</td>\n",
       "      <td>3</td>\n",
       "      <td>3</td>\n",
       "    </tr>\n",
       "    <tr>\n",
       "      <th>2015-01-01 00:04:00-05:00</th>\n",
       "      <td>-1.0</td>\n",
       "      <td>0.0</td>\n",
       "      <td>5.1</td>\n",
       "      <td>0.0</td>\n",
       "      <td>-0.01436</td>\n",
       "      <td>1</td>\n",
       "      <td>2015</td>\n",
       "      <td>1</td>\n",
       "      <td>1</td>\n",
       "      <td>0</td>\n",
       "      <td>4</td>\n",
       "      <td>4</td>\n",
       "    </tr>\n",
       "  </tbody>\n",
       "</table>\n",
       "</div>"
      ],
      "text/plain": [
       "                           Power  POA  Tamb  Wind  Degradation_rate_per_yr  \\\n",
       "2015-01-01 00:00:00-05:00   -1.0  0.0   5.1   0.0                 -0.01436   \n",
       "2015-01-01 00:01:00-05:00   -1.0  0.0   5.1   0.0                 -0.01436   \n",
       "2015-01-01 00:02:00-05:00   -1.0  0.0   5.1   0.0                 -0.01436   \n",
       "2015-01-01 00:03:00-05:00   -1.0  0.0   5.1   0.0                 -0.01436   \n",
       "2015-01-01 00:04:00-05:00   -1.0  0.0   5.1   0.0                 -0.01436   \n",
       "\n",
       "                           soiling  year  month  day  hour  minute_of_hour  \\\n",
       "2015-01-01 00:00:00-05:00        1  2015      1    1     0               0   \n",
       "2015-01-01 00:01:00-05:00        1  2015      1    1     0               1   \n",
       "2015-01-01 00:02:00-05:00        1  2015      1    1     0               2   \n",
       "2015-01-01 00:03:00-05:00        1  2015      1    1     0               3   \n",
       "2015-01-01 00:04:00-05:00        1  2015      1    1     0               4   \n",
       "\n",
       "                           minute_of_day  \n",
       "2015-01-01 00:00:00-05:00              0  \n",
       "2015-01-01 00:01:00-05:00              1  \n",
       "2015-01-01 00:02:00-05:00              2  \n",
       "2015-01-01 00:03:00-05:00              3  \n",
       "2015-01-01 00:04:00-05:00              4  "
      ]
     },
     "execution_count": 4,
     "metadata": {},
     "output_type": "execute_result"
    }
   ],
   "source": [
    "df.head()"
   ]
  },
  {
   "cell_type": "markdown",
   "metadata": {},
   "source": [
    "## Preprocess data\n",
    "\n",
    "There are three steps:\n",
    "- Remove night time periods\n",
    "- Remoce clipping time periods\n",
    "- Downgrade from minute to daily frequency"
   ]
  },
  {
   "cell_type": "code",
   "execution_count": 5,
   "metadata": {},
   "outputs": [],
   "source": [
    "# remove night time periods\n",
    "df = remove_night_time_data(df)"
   ]
  },
  {
   "cell_type": "code",
   "execution_count": 6,
   "metadata": {},
   "outputs": [
    {
     "name": "stdout",
     "output_type": "stream",
     "text": [
      "(213267, 12)\n"
     ]
    }
   ],
   "source": [
    "# remove clipping time periods (two possibilited: universal time window or daily time window)\n",
    "df = remove_clipping_with_universal_window(df)"
   ]
  },
  {
   "cell_type": "code",
   "execution_count": 7,
   "metadata": {},
   "outputs": [],
   "source": [
    "# downgrade from minute to daily frequency\n",
    "df = downsample_dataframe(df)"
   ]
  },
  {
   "cell_type": "code",
   "execution_count": 8,
   "metadata": {},
   "outputs": [
    {
     "name": "stdout",
     "output_type": "stream",
     "text": [
      "<class 'pandas.core.frame.DataFrame'>\n",
      "DatetimeIndex: 1826 entries, 2015-01-01 00:00:00-05:00 to 2019-12-31 00:00:00-05:00\n",
      "Freq: D\n",
      "Data columns (total 12 columns):\n",
      " #   Column                   Non-Null Count  Dtype  \n",
      "---  ------                   --------------  -----  \n",
      " 0   Power                    1826 non-null   float64\n",
      " 1   POA                      1826 non-null   float64\n",
      " 2   Tamb                     1826 non-null   float64\n",
      " 3   Wind                     1826 non-null   float64\n",
      " 4   Degradation_rate_per_yr  1826 non-null   float64\n",
      " 5   soiling                  1826 non-null   float64\n",
      " 6   year                     1826 non-null   float64\n",
      " 7   month                    1826 non-null   float64\n",
      " 8   day                      1826 non-null   float64\n",
      " 9   hour                     1826 non-null   float64\n",
      " 10  minute_of_hour           1826 non-null   float64\n",
      " 11  minute_of_day            1826 non-null   float64\n",
      "dtypes: float64(12)\n",
      "memory usage: 185.5 KB\n"
     ]
    }
   ],
   "source": [
    "df.info()"
   ]
  },
  {
   "cell_type": "code",
   "execution_count": 9,
   "metadata": {},
   "outputs": [
    {
     "data": {
      "text/html": [
       "<div>\n",
       "<style scoped>\n",
       "    .dataframe tbody tr th:only-of-type {\n",
       "        vertical-align: middle;\n",
       "    }\n",
       "\n",
       "    .dataframe tbody tr th {\n",
       "        vertical-align: top;\n",
       "    }\n",
       "\n",
       "    .dataframe thead th {\n",
       "        text-align: right;\n",
       "    }\n",
       "</style>\n",
       "<table border=\"1\" class=\"dataframe\">\n",
       "  <thead>\n",
       "    <tr style=\"text-align: right;\">\n",
       "      <th></th>\n",
       "      <th>Power</th>\n",
       "      <th>POA</th>\n",
       "      <th>Tamb</th>\n",
       "      <th>Wind</th>\n",
       "      <th>Degradation_rate_per_yr</th>\n",
       "      <th>soiling</th>\n",
       "      <th>year</th>\n",
       "      <th>month</th>\n",
       "      <th>day</th>\n",
       "      <th>hour</th>\n",
       "      <th>minute_of_hour</th>\n",
       "      <th>minute_of_day</th>\n",
       "    </tr>\n",
       "  </thead>\n",
       "  <tbody>\n",
       "    <tr>\n",
       "      <th>2015-01-01 00:00:00-05:00</th>\n",
       "      <td>376.821429</td>\n",
       "      <td>169.214286</td>\n",
       "      <td>7.361111</td>\n",
       "      <td>0.0</td>\n",
       "      <td>-0.01436</td>\n",
       "      <td>1.0</td>\n",
       "      <td>2015.0</td>\n",
       "      <td>1.0</td>\n",
       "      <td>1.0</td>\n",
       "      <td>12.150794</td>\n",
       "      <td>30.373016</td>\n",
       "      <td>759.420635</td>\n",
       "    </tr>\n",
       "    <tr>\n",
       "      <th>2015-01-02 00:00:00-05:00</th>\n",
       "      <td>381.860558</td>\n",
       "      <td>171.207171</td>\n",
       "      <td>7.328287</td>\n",
       "      <td>0.0</td>\n",
       "      <td>-0.01436</td>\n",
       "      <td>1.0</td>\n",
       "      <td>2015.0</td>\n",
       "      <td>1.0</td>\n",
       "      <td>2.0</td>\n",
       "      <td>12.171315</td>\n",
       "      <td>30.282869</td>\n",
       "      <td>760.561753</td>\n",
       "    </tr>\n",
       "    <tr>\n",
       "      <th>2015-01-03 00:00:00-05:00</th>\n",
       "      <td>384.126984</td>\n",
       "      <td>172.051587</td>\n",
       "      <td>7.291667</td>\n",
       "      <td>0.0</td>\n",
       "      <td>-0.01436</td>\n",
       "      <td>1.0</td>\n",
       "      <td>2015.0</td>\n",
       "      <td>1.0</td>\n",
       "      <td>3.0</td>\n",
       "      <td>12.190476</td>\n",
       "      <td>30.166667</td>\n",
       "      <td>761.595238</td>\n",
       "    </tr>\n",
       "    <tr>\n",
       "      <th>2015-01-04 00:00:00-05:00</th>\n",
       "      <td>386.707510</td>\n",
       "      <td>172.956522</td>\n",
       "      <td>7.251383</td>\n",
       "      <td>0.0</td>\n",
       "      <td>-0.01436</td>\n",
       "      <td>1.0</td>\n",
       "      <td>2015.0</td>\n",
       "      <td>1.0</td>\n",
       "      <td>4.0</td>\n",
       "      <td>12.209486</td>\n",
       "      <td>30.055336</td>\n",
       "      <td>762.624506</td>\n",
       "    </tr>\n",
       "    <tr>\n",
       "      <th>2015-01-05 00:00:00-05:00</th>\n",
       "      <td>389.547244</td>\n",
       "      <td>173.980315</td>\n",
       "      <td>7.217323</td>\n",
       "      <td>0.0</td>\n",
       "      <td>-0.01436</td>\n",
       "      <td>1.0</td>\n",
       "      <td>2015.0</td>\n",
       "      <td>1.0</td>\n",
       "      <td>5.0</td>\n",
       "      <td>12.228346</td>\n",
       "      <td>29.948819</td>\n",
       "      <td>763.649606</td>\n",
       "    </tr>\n",
       "  </tbody>\n",
       "</table>\n",
       "</div>"
      ],
      "text/plain": [
       "                                Power         POA      Tamb  Wind  \\\n",
       "2015-01-01 00:00:00-05:00  376.821429  169.214286  7.361111   0.0   \n",
       "2015-01-02 00:00:00-05:00  381.860558  171.207171  7.328287   0.0   \n",
       "2015-01-03 00:00:00-05:00  384.126984  172.051587  7.291667   0.0   \n",
       "2015-01-04 00:00:00-05:00  386.707510  172.956522  7.251383   0.0   \n",
       "2015-01-05 00:00:00-05:00  389.547244  173.980315  7.217323   0.0   \n",
       "\n",
       "                           Degradation_rate_per_yr  soiling    year  month  \\\n",
       "2015-01-01 00:00:00-05:00                 -0.01436      1.0  2015.0    1.0   \n",
       "2015-01-02 00:00:00-05:00                 -0.01436      1.0  2015.0    1.0   \n",
       "2015-01-03 00:00:00-05:00                 -0.01436      1.0  2015.0    1.0   \n",
       "2015-01-04 00:00:00-05:00                 -0.01436      1.0  2015.0    1.0   \n",
       "2015-01-05 00:00:00-05:00                 -0.01436      1.0  2015.0    1.0   \n",
       "\n",
       "                           day       hour  minute_of_hour  minute_of_day  \n",
       "2015-01-01 00:00:00-05:00  1.0  12.150794       30.373016     759.420635  \n",
       "2015-01-02 00:00:00-05:00  2.0  12.171315       30.282869     760.561753  \n",
       "2015-01-03 00:00:00-05:00  3.0  12.190476       30.166667     761.595238  \n",
       "2015-01-04 00:00:00-05:00  4.0  12.209486       30.055336     762.624506  \n",
       "2015-01-05 00:00:00-05:00  5.0  12.228346       29.948819     763.649606  "
      ]
     },
     "execution_count": 9,
     "metadata": {},
     "output_type": "execute_result"
    }
   ],
   "source": [
    "df.head()"
   ]
  },
  {
   "cell_type": "code",
   "execution_count": null,
   "metadata": {},
   "outputs": [],
   "source": []
  }
 ],
 "metadata": {
  "kernelspec": {
   "display_name": "Python 3",
   "language": "python",
   "name": "python3"
  },
  "language_info": {
   "codemirror_mode": {
    "name": "ipython",
    "version": 3
   },
   "file_extension": ".py",
   "mimetype": "text/x-python",
   "name": "python",
   "nbconvert_exporter": "python",
   "pygments_lexer": "ipython3",
   "version": "3.8.3"
  }
 },
 "nbformat": 4,
 "nbformat_minor": 4
}
