{
 "cells": [
  {
   "cell_type": "markdown",
   "metadata": {},
   "source": [
    "# Cheat sheet notebook for loading and preprocessing synthetic dataset"
   ]
  },
  {
   "cell_type": "code",
   "execution_count": 1,
   "metadata": {},
   "outputs": [],
   "source": [
    "# In the root of the repo run \"pip install --editable .\"\n",
    "\n",
    "# OPTIONAL: Load the \"autoreload\" extension so that code can change\n",
    "%load_ext autoreload\n",
    "\n",
    "# OPTIONAL: always reload modules so that as you change code in src, it gets loaded\n",
    "%autoreload 2\n",
    "\n",
    "# Replace sample_func_dir by the name of directory in src/ and replace sample_func_file the\n",
    "# file name in src/sample_func_dir\n",
    "from src.data.import_data import import_df_from_zip\n",
    "from src.data.make_dataset import *"
   ]
  },
  {
   "cell_type": "markdown",
   "metadata": {},
   "source": [
    "## Load synthetic dataset"
   ]
  },
  {
   "cell_type": "markdown",
   "metadata": {},
   "source": [
    "The function `import_df_from_dir` can be used to import df from directory"
   ]
  },
  {
   "cell_type": "code",
   "execution_count": 2,
   "metadata": {},
   "outputs": [
    {
     "name": "stdout",
     "output_type": "stream",
     "text": [
      "time for importing dataframe: 62.52 seconds\n"
     ]
    }
   ],
   "source": [
    "csv_index   = 1\n",
    "synth_name  = \"basic\"\n",
    "path_to_zip = \"../data/raw/synthetic_\" + synth_name + \".zip\"\n",
    "df          = import_df_from_zip(path_to_zip, csv_index, verbose=True)"
   ]
  },
  {
   "cell_type": "code",
   "execution_count": 3,
   "metadata": {},
   "outputs": [
    {
     "name": "stdout",
     "output_type": "stream",
     "text": [
      "<class 'pandas.core.frame.DataFrame'>\n",
      "DatetimeIndex: 2629440 entries, 2015-01-01 00:00:00-05:00 to 2019-12-31 23:59:00-05:00\n",
      "Data columns (total 12 columns):\n",
      " #   Column                   Dtype  \n",
      "---  ------                   -----  \n",
      " 0   Power                    float64\n",
      " 1   POA                      float64\n",
      " 2   Tamb                     float64\n",
      " 3   Wind                     float64\n",
      " 4   Degradation_rate_per_yr  float64\n",
      " 5   soiling                  int64  \n",
      " 6   year                     int64  \n",
      " 7   month                    int64  \n",
      " 8   day                      int64  \n",
      " 9   hour                     int64  \n",
      " 10  minute_of_hour           int64  \n",
      " 11  minute_of_day            int64  \n",
      "dtypes: float64(5), int64(7)\n",
      "memory usage: 260.8 MB\n"
     ]
    }
   ],
   "source": [
    "df.info()"
   ]
  },
  {
   "cell_type": "code",
   "execution_count": 4,
   "metadata": {},
   "outputs": [
    {
     "data": {
      "text/html": [
       "<div>\n",
       "<style scoped>\n",
       "    .dataframe tbody tr th:only-of-type {\n",
       "        vertical-align: middle;\n",
       "    }\n",
       "\n",
       "    .dataframe tbody tr th {\n",
       "        vertical-align: top;\n",
       "    }\n",
       "\n",
       "    .dataframe thead th {\n",
       "        text-align: right;\n",
       "    }\n",
       "</style>\n",
       "<table border=\"1\" class=\"dataframe\">\n",
       "  <thead>\n",
       "    <tr style=\"text-align: right;\">\n",
       "      <th></th>\n",
       "      <th>Power</th>\n",
       "      <th>POA</th>\n",
       "      <th>Tamb</th>\n",
       "      <th>Wind</th>\n",
       "      <th>Degradation_rate_per_yr</th>\n",
       "      <th>soiling</th>\n",
       "      <th>year</th>\n",
       "      <th>month</th>\n",
       "      <th>day</th>\n",
       "      <th>hour</th>\n",
       "      <th>minute_of_hour</th>\n",
       "      <th>minute_of_day</th>\n",
       "    </tr>\n",
       "  </thead>\n",
       "  <tbody>\n",
       "    <tr>\n",
       "      <th>2015-01-01 00:00:00-05:00</th>\n",
       "      <td>-1.0</td>\n",
       "      <td>0.0</td>\n",
       "      <td>5.1</td>\n",
       "      <td>0.0</td>\n",
       "      <td>-0.01436</td>\n",
       "      <td>1</td>\n",
       "      <td>2015</td>\n",
       "      <td>1</td>\n",
       "      <td>1</td>\n",
       "      <td>0</td>\n",
       "      <td>0</td>\n",
       "      <td>0</td>\n",
       "    </tr>\n",
       "    <tr>\n",
       "      <th>2015-01-01 00:01:00-05:00</th>\n",
       "      <td>-1.0</td>\n",
       "      <td>0.0</td>\n",
       "      <td>5.1</td>\n",
       "      <td>0.0</td>\n",
       "      <td>-0.01436</td>\n",
       "      <td>1</td>\n",
       "      <td>2015</td>\n",
       "      <td>1</td>\n",
       "      <td>1</td>\n",
       "      <td>0</td>\n",
       "      <td>1</td>\n",
       "      <td>1</td>\n",
       "    </tr>\n",
       "    <tr>\n",
       "      <th>2015-01-01 00:02:00-05:00</th>\n",
       "      <td>-1.0</td>\n",
       "      <td>0.0</td>\n",
       "      <td>5.1</td>\n",
       "      <td>0.0</td>\n",
       "      <td>-0.01436</td>\n",
       "      <td>1</td>\n",
       "      <td>2015</td>\n",
       "      <td>1</td>\n",
       "      <td>1</td>\n",
       "      <td>0</td>\n",
       "      <td>2</td>\n",
       "      <td>2</td>\n",
       "    </tr>\n",
       "    <tr>\n",
       "      <th>2015-01-01 00:03:00-05:00</th>\n",
       "      <td>-1.0</td>\n",
       "      <td>0.0</td>\n",
       "      <td>5.1</td>\n",
       "      <td>0.0</td>\n",
       "      <td>-0.01436</td>\n",
       "      <td>1</td>\n",
       "      <td>2015</td>\n",
       "      <td>1</td>\n",
       "      <td>1</td>\n",
       "      <td>0</td>\n",
       "      <td>3</td>\n",
       "      <td>3</td>\n",
       "    </tr>\n",
       "    <tr>\n",
       "      <th>2015-01-01 00:04:00-05:00</th>\n",
       "      <td>-1.0</td>\n",
       "      <td>0.0</td>\n",
       "      <td>5.1</td>\n",
       "      <td>0.0</td>\n",
       "      <td>-0.01436</td>\n",
       "      <td>1</td>\n",
       "      <td>2015</td>\n",
       "      <td>1</td>\n",
       "      <td>1</td>\n",
       "      <td>0</td>\n",
       "      <td>4</td>\n",
       "      <td>4</td>\n",
       "    </tr>\n",
       "  </tbody>\n",
       "</table>\n",
       "</div>"
      ],
      "text/plain": [
       "                           Power  POA  Tamb  Wind  Degradation_rate_per_yr  \\\n",
       "2015-01-01 00:00:00-05:00   -1.0  0.0   5.1   0.0                 -0.01436   \n",
       "2015-01-01 00:01:00-05:00   -1.0  0.0   5.1   0.0                 -0.01436   \n",
       "2015-01-01 00:02:00-05:00   -1.0  0.0   5.1   0.0                 -0.01436   \n",
       "2015-01-01 00:03:00-05:00   -1.0  0.0   5.1   0.0                 -0.01436   \n",
       "2015-01-01 00:04:00-05:00   -1.0  0.0   5.1   0.0                 -0.01436   \n",
       "\n",
       "                           soiling  year  month  day  hour  minute_of_hour  \\\n",
       "2015-01-01 00:00:00-05:00        1  2015      1    1     0               0   \n",
       "2015-01-01 00:01:00-05:00        1  2015      1    1     0               1   \n",
       "2015-01-01 00:02:00-05:00        1  2015      1    1     0               2   \n",
       "2015-01-01 00:03:00-05:00        1  2015      1    1     0               3   \n",
       "2015-01-01 00:04:00-05:00        1  2015      1    1     0               4   \n",
       "\n",
       "                           minute_of_day  \n",
       "2015-01-01 00:00:00-05:00              0  \n",
       "2015-01-01 00:01:00-05:00              1  \n",
       "2015-01-01 00:02:00-05:00              2  \n",
       "2015-01-01 00:03:00-05:00              3  \n",
       "2015-01-01 00:04:00-05:00              4  "
      ]
     },
     "execution_count": 4,
     "metadata": {},
     "output_type": "execute_result"
    }
   ],
   "source": [
    "df.head()"
   ]
  },
  {
   "cell_type": "markdown",
   "metadata": {},
   "source": [
    "## Preprocess data\n",
    "\n",
    "There are three steps:\n",
    "- Remove night time periods\n",
    "- Remoce clipping time periods\n",
    "- Downgrade from minute to daily frequency"
   ]
  },
  {
   "cell_type": "code",
   "execution_count": 5,
   "metadata": {},
   "outputs": [],
   "source": [
    "# remove night time periods\n",
    "df = remove_night_time_data(df)"
   ]
  },
  {
   "cell_type": "code",
   "execution_count": 6,
   "metadata": {},
   "outputs": [
    {
     "name": "stdout",
     "output_type": "stream",
     "text": [
      "(213267, 12)\n"
     ]
    }
   ],
   "source": [
    "# remove clipping time periods (two possibilited: universal time window or daily time window)\n",
    "df = remove_clipping_with_universal_window(df)"
   ]
  },
  {
   "cell_type": "code",
   "execution_count": 7,
   "metadata": {},
   "outputs": [
    {
     "ename": "NameError",
     "evalue": "name 'downsample_dataframe' is not defined",
     "output_type": "error",
     "traceback": [
      "\u001b[0;31m---------------------------------------------------------------------------\u001b[0m",
      "\u001b[0;31mNameError\u001b[0m                                 Traceback (most recent call last)",
      "\u001b[0;32m<ipython-input-7-e576116dad4f>\u001b[0m in \u001b[0;36m<module>\u001b[0;34m\u001b[0m\n\u001b[1;32m      1\u001b[0m \u001b[0;31m# downgrade from minute to daily frequency\u001b[0m\u001b[0;34m\u001b[0m\u001b[0;34m\u001b[0m\u001b[0;34m\u001b[0m\u001b[0m\n\u001b[0;32m----> 2\u001b[0;31m \u001b[0mdf\u001b[0m \u001b[0;34m=\u001b[0m \u001b[0mdownsample_dataframe\u001b[0m\u001b[0;34m(\u001b[0m\u001b[0mdf\u001b[0m\u001b[0;34m)\u001b[0m\u001b[0;34m\u001b[0m\u001b[0;34m\u001b[0m\u001b[0m\n\u001b[0m",
      "\u001b[0;31mNameError\u001b[0m: name 'downsample_dataframe' is not defined"
     ]
    }
   ],
   "source": [
    "# downgrade from minute to daily frequency\n",
    "df = downsample_dataframe(df)"
   ]
  },
  {
   "cell_type": "code",
   "execution_count": null,
   "metadata": {},
   "outputs": [],
   "source": [
    "df.info()"
   ]
  },
  {
   "cell_type": "code",
   "execution_count": null,
   "metadata": {},
   "outputs": [],
   "source": [
    "df.head()"
   ]
  },
  {
   "cell_type": "code",
   "execution_count": null,
   "metadata": {},
   "outputs": [],
   "source": []
  }
 ],
 "metadata": {
  "kernelspec": {
   "display_name": "Python 3",
   "language": "python",
   "name": "python3"
  },
  "language_info": {
   "codemirror_mode": {
    "name": "ipython",
    "version": 3
   },
   "file_extension": ".py",
   "mimetype": "text/x-python",
   "name": "python",
   "nbconvert_exporter": "python",
   "pygments_lexer": "ipython3",
   "version": "3.8.3"
  }
 },
 "nbformat": 4,
 "nbformat_minor": 4
}
