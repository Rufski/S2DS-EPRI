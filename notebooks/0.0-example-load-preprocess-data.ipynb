{
 "cells": [
  {
   "cell_type": "markdown",
   "metadata": {},
   "source": [
    "# Cheat sheet notebook for loading and preprocessing synthetic dataset"
   ]
  },
  {
   "cell_type": "code",
   "execution_count": 1,
   "metadata": {},
   "outputs": [],
   "source": [
    "# In the root of the repo run \"pip install --editable .\"\n",
    "\n",
    "# OPTIONAL: Load the \"autoreload\" extension so that code can change\n",
    "%load_ext autoreload\n",
    "\n",
    "# OPTIONAL: always reload modules so that as you change code in src, it gets loaded\n",
    "%autoreload 2\n",
    "\n",
    "# Replace sample_func_dir by the name of directory in src/ and replace sample_func_file the\n",
    "# file name in src/sample_func_dir\n",
    "from src.data.import_data import *\n",
    "from src.data.make_dataset import *"
   ]
  },
  {
   "cell_type": "markdown",
   "metadata": {},
   "source": [
    "## Load synthetic dataset"
   ]
  },
  {
   "cell_type": "markdown",
   "metadata": {},
   "source": [
    "The function `import_df_from_dir` can be used to import df from directory"
   ]
  },
  {
   "cell_type": "code",
   "execution_count": 2,
   "metadata": {},
   "outputs": [
    {
     "name": "stdout",
     "output_type": "stream",
     "text": [
      "time for importing dataframe: 0.71 seconds\n"
     ]
    }
   ],
   "source": [
    "index   = 1\n",
    "synth_name  = \"basic\"\n",
    "path_to_zip = \"../data/raw/synthetic_\" + synth_name + \".zip\"\n",
    "df          = import_df_from_zip_pkl(path_to_zip, index, verbose=True)"
   ]
  },
  {
   "cell_type": "code",
   "execution_count": 3,
   "metadata": {},
   "outputs": [
    {
     "name": "stdout",
     "output_type": "stream",
     "text": [
      "<class 'pandas.core.frame.DataFrame'>\n",
      "DatetimeIndex: 2629440 entries, 2015-01-01 00:00:00-05:00 to 2019-12-31 23:59:00-05:00\n",
      "Freq: T\n",
      "Data columns (total 8 columns):\n",
      "Power            float64\n",
      "POA              float64\n",
      "Tamb             float64\n",
      "Wind             float64\n",
      "Degradation      float64\n",
      "Soiling          int64\n",
      "Faults           int64\n",
      "minute_of_day    int64\n",
      "dtypes: float64(5), int64(3)\n",
      "memory usage: 180.5 MB\n"
     ]
    }
   ],
   "source": [
    "df.info()"
   ]
  },
  {
   "cell_type": "code",
   "execution_count": 4,
   "metadata": {},
   "outputs": [
    {
     "data": {
      "text/html": [
       "<div>\n",
       "<style scoped>\n",
       "    .dataframe tbody tr th:only-of-type {\n",
       "        vertical-align: middle;\n",
       "    }\n",
       "\n",
       "    .dataframe tbody tr th {\n",
       "        vertical-align: top;\n",
       "    }\n",
       "\n",
       "    .dataframe thead th {\n",
       "        text-align: right;\n",
       "    }\n",
       "</style>\n",
       "<table border=\"1\" class=\"dataframe\">\n",
       "  <thead>\n",
       "    <tr style=\"text-align: right;\">\n",
       "      <th></th>\n",
       "      <th>Power</th>\n",
       "      <th>POA</th>\n",
       "      <th>Tamb</th>\n",
       "      <th>Wind</th>\n",
       "      <th>Degradation</th>\n",
       "      <th>Soiling</th>\n",
       "      <th>Faults</th>\n",
       "      <th>minute_of_day</th>\n",
       "    </tr>\n",
       "    <tr>\n",
       "      <th>datetime</th>\n",
       "      <th></th>\n",
       "      <th></th>\n",
       "      <th></th>\n",
       "      <th></th>\n",
       "      <th></th>\n",
       "      <th></th>\n",
       "      <th></th>\n",
       "      <th></th>\n",
       "    </tr>\n",
       "  </thead>\n",
       "  <tbody>\n",
       "    <tr>\n",
       "      <th>2015-01-01 00:00:00-05:00</th>\n",
       "      <td>-1.0</td>\n",
       "      <td>0.0</td>\n",
       "      <td>5.1</td>\n",
       "      <td>0.0</td>\n",
       "      <td>1.0</td>\n",
       "      <td>1</td>\n",
       "      <td>1</td>\n",
       "      <td>0</td>\n",
       "    </tr>\n",
       "    <tr>\n",
       "      <th>2015-01-01 00:01:00-05:00</th>\n",
       "      <td>-1.0</td>\n",
       "      <td>0.0</td>\n",
       "      <td>5.1</td>\n",
       "      <td>0.0</td>\n",
       "      <td>1.0</td>\n",
       "      <td>1</td>\n",
       "      <td>1</td>\n",
       "      <td>1</td>\n",
       "    </tr>\n",
       "    <tr>\n",
       "      <th>2015-01-01 00:02:00-05:00</th>\n",
       "      <td>-1.0</td>\n",
       "      <td>0.0</td>\n",
       "      <td>5.1</td>\n",
       "      <td>0.0</td>\n",
       "      <td>1.0</td>\n",
       "      <td>1</td>\n",
       "      <td>1</td>\n",
       "      <td>2</td>\n",
       "    </tr>\n",
       "    <tr>\n",
       "      <th>2015-01-01 00:03:00-05:00</th>\n",
       "      <td>-1.0</td>\n",
       "      <td>0.0</td>\n",
       "      <td>5.1</td>\n",
       "      <td>0.0</td>\n",
       "      <td>1.0</td>\n",
       "      <td>1</td>\n",
       "      <td>1</td>\n",
       "      <td>3</td>\n",
       "    </tr>\n",
       "    <tr>\n",
       "      <th>2015-01-01 00:04:00-05:00</th>\n",
       "      <td>-1.0</td>\n",
       "      <td>0.0</td>\n",
       "      <td>5.1</td>\n",
       "      <td>0.0</td>\n",
       "      <td>1.0</td>\n",
       "      <td>1</td>\n",
       "      <td>1</td>\n",
       "      <td>4</td>\n",
       "    </tr>\n",
       "  </tbody>\n",
       "</table>\n",
       "</div>"
      ],
      "text/plain": [
       "                           Power  POA  Tamb  Wind  Degradation  Soiling  \\\n",
       "datetime                                                                  \n",
       "2015-01-01 00:00:00-05:00   -1.0  0.0   5.1   0.0          1.0        1   \n",
       "2015-01-01 00:01:00-05:00   -1.0  0.0   5.1   0.0          1.0        1   \n",
       "2015-01-01 00:02:00-05:00   -1.0  0.0   5.1   0.0          1.0        1   \n",
       "2015-01-01 00:03:00-05:00   -1.0  0.0   5.1   0.0          1.0        1   \n",
       "2015-01-01 00:04:00-05:00   -1.0  0.0   5.1   0.0          1.0        1   \n",
       "\n",
       "                           Faults  minute_of_day  \n",
       "datetime                                          \n",
       "2015-01-01 00:00:00-05:00       1              0  \n",
       "2015-01-01 00:01:00-05:00       1              1  \n",
       "2015-01-01 00:02:00-05:00       1              2  \n",
       "2015-01-01 00:03:00-05:00       1              3  \n",
       "2015-01-01 00:04:00-05:00       1              4  "
      ]
     },
     "execution_count": 4,
     "metadata": {},
     "output_type": "execute_result"
    }
   ],
   "source": [
    "df.head()"
   ]
  },
  {
   "cell_type": "markdown",
   "metadata": {},
   "source": [
    "## Preprocess data\n",
    "\n",
    "There are three steps:\n",
    "- Remove night time periods\n",
    "- Remoce clipping time periods\n",
    "- Downgrade from minute to daily frequency\n",
    "\n",
    "There are two ways of applying these three preprocessing steps:\n",
    "1. Call a function for each of the three steps\n",
    "2. Call the downgrade function with the optional parameters `night_method` & `clip_method`"
   ]
  },
  {
   "cell_type": "markdown",
   "metadata": {},
   "source": [
    "### 1. Call a function for each of the three steps"
   ]
  },
  {
   "cell_type": "code",
   "execution_count": 5,
   "metadata": {},
   "outputs": [],
   "source": [
    "# remove night time periods\n",
    "df = remove_night_time_data(df)"
   ]
  },
  {
   "cell_type": "code",
   "execution_count": 6,
   "metadata": {},
   "outputs": [],
   "source": [
    "# remove clipping time periods (two possibilited: universal time window or flexible time window)\n",
    "df = remove_clipping_with_universal_window(df)"
   ]
  },
  {
   "cell_type": "code",
   "execution_count": 7,
   "metadata": {},
   "outputs": [],
   "source": [
    "# downgrade from minute to daily frequency\n",
    "df= downsample_dataframe(df)"
   ]
  },
  {
   "cell_type": "code",
   "execution_count": 8,
   "metadata": {},
   "outputs": [
    {
     "name": "stdout",
     "output_type": "stream",
     "text": [
      "<class 'pandas.core.frame.DataFrame'>\n",
      "DatetimeIndex: 1826 entries, 2015-01-01 00:00:00-05:00 to 2019-12-31 00:00:00-05:00\n",
      "Freq: D\n",
      "Data columns (total 4 columns):\n",
      "Power          1826 non-null float64\n",
      "Degradation    1826 non-null float64\n",
      "Soiling        1826 non-null int64\n",
      "Faults         1826 non-null int64\n",
      "dtypes: float64(2), int64(2)\n",
      "memory usage: 151.3 KB\n"
     ]
    }
   ],
   "source": [
    "df.info()"
   ]
  },
  {
   "cell_type": "code",
   "execution_count": 9,
   "metadata": {},
   "outputs": [
    {
     "data": {
      "text/html": [
       "<div>\n",
       "<style scoped>\n",
       "    .dataframe tbody tr th:only-of-type {\n",
       "        vertical-align: middle;\n",
       "    }\n",
       "\n",
       "    .dataframe tbody tr th {\n",
       "        vertical-align: top;\n",
       "    }\n",
       "\n",
       "    .dataframe thead th {\n",
       "        text-align: right;\n",
       "    }\n",
       "</style>\n",
       "<table border=\"1\" class=\"dataframe\">\n",
       "  <thead>\n",
       "    <tr style=\"text-align: right;\">\n",
       "      <th></th>\n",
       "      <th>Power</th>\n",
       "      <th>Degradation</th>\n",
       "      <th>Soiling</th>\n",
       "      <th>Faults</th>\n",
       "    </tr>\n",
       "    <tr>\n",
       "      <th>datetime</th>\n",
       "      <th></th>\n",
       "      <th></th>\n",
       "      <th></th>\n",
       "      <th></th>\n",
       "    </tr>\n",
       "  </thead>\n",
       "  <tbody>\n",
       "    <tr>\n",
       "      <th>2015-01-01 00:00:00-05:00</th>\n",
       "      <td>376.825397</td>\n",
       "      <td>0.99997</td>\n",
       "      <td>1</td>\n",
       "      <td>1</td>\n",
       "    </tr>\n",
       "    <tr>\n",
       "      <th>2015-01-02 00:00:00-05:00</th>\n",
       "      <td>381.884462</td>\n",
       "      <td>0.99994</td>\n",
       "      <td>1</td>\n",
       "      <td>1</td>\n",
       "    </tr>\n",
       "    <tr>\n",
       "      <th>2015-01-03 00:00:00-05:00</th>\n",
       "      <td>384.142857</td>\n",
       "      <td>0.99990</td>\n",
       "      <td>1</td>\n",
       "      <td>1</td>\n",
       "    </tr>\n",
       "    <tr>\n",
       "      <th>2015-01-04 00:00:00-05:00</th>\n",
       "      <td>386.715415</td>\n",
       "      <td>0.99986</td>\n",
       "      <td>1</td>\n",
       "      <td>1</td>\n",
       "    </tr>\n",
       "    <tr>\n",
       "      <th>2015-01-05 00:00:00-05:00</th>\n",
       "      <td>389.570866</td>\n",
       "      <td>0.99982</td>\n",
       "      <td>1</td>\n",
       "      <td>1</td>\n",
       "    </tr>\n",
       "  </tbody>\n",
       "</table>\n",
       "</div>"
      ],
      "text/plain": [
       "                                Power  Degradation  Soiling  Faults\n",
       "datetime                                                           \n",
       "2015-01-01 00:00:00-05:00  376.825397      0.99997        1       1\n",
       "2015-01-02 00:00:00-05:00  381.884462      0.99994        1       1\n",
       "2015-01-03 00:00:00-05:00  384.142857      0.99990        1       1\n",
       "2015-01-04 00:00:00-05:00  386.715415      0.99986        1       1\n",
       "2015-01-05 00:00:00-05:00  389.570866      0.99982        1       1"
      ]
     },
     "execution_count": 9,
     "metadata": {},
     "output_type": "execute_result"
    }
   ],
   "source": [
    "df.head()"
   ]
  },
  {
   "cell_type": "markdown",
   "metadata": {},
   "source": [
    "### 2. Call the downgrade function with the optional parameters"
   ]
  },
  {
   "cell_type": "code",
   "execution_count": 10,
   "metadata": {},
   "outputs": [
    {
     "name": "stdout",
     "output_type": "stream",
     "text": [
      "time for importing dataframe: 0.71 seconds\n"
     ]
    }
   ],
   "source": [
    "index       = 2\n",
    "synth_name  = \"basic\"\n",
    "path_to_zip = \"../data/raw/synthetic_\" + synth_name + \".zip\"\n",
    "df          = import_df_from_zip_pkl(path_to_zip, index, verbose=True)"
   ]
  },
  {
   "cell_type": "code",
   "execution_count": 11,
   "metadata": {},
   "outputs": [],
   "source": [
    "df= downsample_dataframe(df, offset='H', night_method=None, clip_method='universal', power_sampling_function=np.max)\n",
    "# set <clip_method> to 'flexible' to remove clipping data with flexible window"
   ]
  },
  {
   "cell_type": "code",
   "execution_count": 12,
   "metadata": {},
   "outputs": [
    {
     "data": {
      "text/html": [
       "<div>\n",
       "<style scoped>\n",
       "    .dataframe tbody tr th:only-of-type {\n",
       "        vertical-align: middle;\n",
       "    }\n",
       "\n",
       "    .dataframe tbody tr th {\n",
       "        vertical-align: top;\n",
       "    }\n",
       "\n",
       "    .dataframe thead th {\n",
       "        text-align: right;\n",
       "    }\n",
       "</style>\n",
       "<table border=\"1\" class=\"dataframe\">\n",
       "  <thead>\n",
       "    <tr style=\"text-align: right;\">\n",
       "      <th></th>\n",
       "      <th>Power</th>\n",
       "      <th>Degradation</th>\n",
       "      <th>Soiling</th>\n",
       "      <th>Faults</th>\n",
       "    </tr>\n",
       "    <tr>\n",
       "      <th>datetime</th>\n",
       "      <th></th>\n",
       "      <th></th>\n",
       "      <th></th>\n",
       "      <th></th>\n",
       "    </tr>\n",
       "  </thead>\n",
       "  <tbody>\n",
       "    <tr>\n",
       "      <th>2015-01-01 06:00:00-05:00</th>\n",
       "      <td>-1.0</td>\n",
       "      <td>0.99999</td>\n",
       "      <td>1.0</td>\n",
       "      <td>1.0</td>\n",
       "    </tr>\n",
       "    <tr>\n",
       "      <th>2015-01-01 07:00:00-05:00</th>\n",
       "      <td>19.0</td>\n",
       "      <td>0.99999</td>\n",
       "      <td>1.0</td>\n",
       "      <td>1.0</td>\n",
       "    </tr>\n",
       "    <tr>\n",
       "      <th>2015-01-01 08:00:00-05:00</th>\n",
       "      <td>384.0</td>\n",
       "      <td>0.99999</td>\n",
       "      <td>1.0</td>\n",
       "      <td>1.0</td>\n",
       "    </tr>\n",
       "    <tr>\n",
       "      <th>2015-01-01 09:00:00-05:00</th>\n",
       "      <td>752.0</td>\n",
       "      <td>0.99999</td>\n",
       "      <td>1.0</td>\n",
       "      <td>1.0</td>\n",
       "    </tr>\n",
       "    <tr>\n",
       "      <th>2015-01-01 10:00:00-05:00</th>\n",
       "      <td>NaN</td>\n",
       "      <td>NaN</td>\n",
       "      <td>NaN</td>\n",
       "      <td>NaN</td>\n",
       "    </tr>\n",
       "    <tr>\n",
       "      <th>2015-01-01 11:00:00-05:00</th>\n",
       "      <td>NaN</td>\n",
       "      <td>NaN</td>\n",
       "      <td>NaN</td>\n",
       "      <td>NaN</td>\n",
       "    </tr>\n",
       "    <tr>\n",
       "      <th>2015-01-01 12:00:00-05:00</th>\n",
       "      <td>NaN</td>\n",
       "      <td>NaN</td>\n",
       "      <td>NaN</td>\n",
       "      <td>NaN</td>\n",
       "    </tr>\n",
       "  </tbody>\n",
       "</table>\n",
       "</div>"
      ],
      "text/plain": [
       "                           Power  Degradation  Soiling  Faults\n",
       "datetime                                                      \n",
       "2015-01-01 06:00:00-05:00   -1.0      0.99999      1.0     1.0\n",
       "2015-01-01 07:00:00-05:00   19.0      0.99999      1.0     1.0\n",
       "2015-01-01 08:00:00-05:00  384.0      0.99999      1.0     1.0\n",
       "2015-01-01 09:00:00-05:00  752.0      0.99999      1.0     1.0\n",
       "2015-01-01 10:00:00-05:00    NaN          NaN      NaN     NaN\n",
       "2015-01-01 11:00:00-05:00    NaN          NaN      NaN     NaN\n",
       "2015-01-01 12:00:00-05:00    NaN          NaN      NaN     NaN"
      ]
     },
     "execution_count": 12,
     "metadata": {},
     "output_type": "execute_result"
    }
   ],
   "source": [
    "df['2015-01-01 06:00': '2015-01-01 12:00']"
   ]
  },
  {
   "cell_type": "code",
   "execution_count": 13,
   "metadata": {},
   "outputs": [
    {
     "name": "stdout",
     "output_type": "stream",
     "text": [
      "<class 'pandas.core.frame.DataFrame'>\n",
      "DatetimeIndex: 43824 entries, 2015-01-01 00:00:00-05:00 to 2019-12-31 23:00:00-05:00\n",
      "Freq: H\n",
      "Data columns (total 4 columns):\n",
      "Power          36520 non-null float64\n",
      "Degradation    36520 non-null float64\n",
      "Soiling        36520 non-null float64\n",
      "Faults         36520 non-null float64\n",
      "dtypes: float64(4)\n",
      "memory usage: 2.9 MB\n"
     ]
    }
   ],
   "source": [
    "df.info()"
   ]
  },
  {
   "cell_type": "code",
   "execution_count": 14,
   "metadata": {},
   "outputs": [
    {
     "name": "stdout",
     "output_type": "stream",
     "text": [
      "time for importing dataframe: 0.74 seconds\n"
     ]
    }
   ],
   "source": [
    "index       = 3\n",
    "synth_name  = \"basic\"\n",
    "path_to_zip = \"../data/raw/synthetic_\" + synth_name + \".zip\"\n",
    "df          = import_df_from_zip_pkl(path_to_zip, index, verbose=True)"
   ]
  },
  {
   "cell_type": "code",
   "execution_count": 15,
   "metadata": {},
   "outputs": [],
   "source": [
    "df= downsample_dataframe(df, offset='D', night_method=None, clip_method='universal', power_sampling_function=np.max)"
   ]
  },
  {
   "cell_type": "code",
   "execution_count": 16,
   "metadata": {},
   "outputs": [
    {
     "data": {
      "text/html": [
       "<div>\n",
       "<style scoped>\n",
       "    .dataframe tbody tr th:only-of-type {\n",
       "        vertical-align: middle;\n",
       "    }\n",
       "\n",
       "    .dataframe tbody tr th {\n",
       "        vertical-align: top;\n",
       "    }\n",
       "\n",
       "    .dataframe thead th {\n",
       "        text-align: right;\n",
       "    }\n",
       "</style>\n",
       "<table border=\"1\" class=\"dataframe\">\n",
       "  <thead>\n",
       "    <tr style=\"text-align: right;\">\n",
       "      <th></th>\n",
       "      <th>Power</th>\n",
       "      <th>Degradation</th>\n",
       "      <th>Soiling</th>\n",
       "      <th>Faults</th>\n",
       "    </tr>\n",
       "    <tr>\n",
       "      <th>datetime</th>\n",
       "      <th></th>\n",
       "      <th></th>\n",
       "      <th></th>\n",
       "      <th></th>\n",
       "    </tr>\n",
       "  </thead>\n",
       "  <tbody>\n",
       "    <tr>\n",
       "      <th>2015-01-01 00:00:00-05:00</th>\n",
       "      <td>900.0</td>\n",
       "      <td>0.99996</td>\n",
       "      <td>1</td>\n",
       "      <td>1</td>\n",
       "    </tr>\n",
       "    <tr>\n",
       "      <th>2015-01-02 00:00:00-05:00</th>\n",
       "      <td>908.0</td>\n",
       "      <td>0.99993</td>\n",
       "      <td>1</td>\n",
       "      <td>1</td>\n",
       "    </tr>\n",
       "    <tr>\n",
       "      <th>2015-01-03 00:00:00-05:00</th>\n",
       "      <td>916.0</td>\n",
       "      <td>0.99989</td>\n",
       "      <td>1</td>\n",
       "      <td>1</td>\n",
       "    </tr>\n",
       "    <tr>\n",
       "      <th>2015-01-04 00:00:00-05:00</th>\n",
       "      <td>924.0</td>\n",
       "      <td>0.99986</td>\n",
       "      <td>1</td>\n",
       "      <td>1</td>\n",
       "    </tr>\n",
       "    <tr>\n",
       "      <th>2015-01-05 00:00:00-05:00</th>\n",
       "      <td>933.0</td>\n",
       "      <td>0.99982</td>\n",
       "      <td>1</td>\n",
       "      <td>1</td>\n",
       "    </tr>\n",
       "  </tbody>\n",
       "</table>\n",
       "</div>"
      ],
      "text/plain": [
       "                           Power  Degradation  Soiling  Faults\n",
       "datetime                                                      \n",
       "2015-01-01 00:00:00-05:00  900.0      0.99996        1       1\n",
       "2015-01-02 00:00:00-05:00  908.0      0.99993        1       1\n",
       "2015-01-03 00:00:00-05:00  916.0      0.99989        1       1\n",
       "2015-01-04 00:00:00-05:00  924.0      0.99986        1       1\n",
       "2015-01-05 00:00:00-05:00  933.0      0.99982        1       1"
      ]
     },
     "execution_count": 16,
     "metadata": {},
     "output_type": "execute_result"
    }
   ],
   "source": [
    "df.head()"
   ]
  }
 ],
 "metadata": {
  "kernelspec": {
   "display_name": "Python 3",
   "language": "python",
   "name": "python3"
  },
  "language_info": {
   "codemirror_mode": {
    "name": "ipython",
    "version": 3
   },
   "file_extension": ".py",
   "mimetype": "text/x-python",
   "name": "python",
   "nbconvert_exporter": "python",
   "pygments_lexer": "ipython3",
   "version": "3.6.9"
  }
 },
 "nbformat": 4,
 "nbformat_minor": 4
}
