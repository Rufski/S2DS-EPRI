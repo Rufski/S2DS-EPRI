{
 "cells": [
  {
   "cell_type": "code",
   "execution_count": 1,
   "metadata": {},
   "outputs": [],
   "source": [
    "# OPTIONAL: Load the \"autoreload\" extension so that code can change\n",
    "%load_ext autoreload\n",
    "\n",
    "# OPTIONAL: always reload modules so that as you change code in src, it gets loaded\n",
    "%autoreload 2\n",
    "\n",
    "from src.data.extract_data import extract_csv_from_zip\n",
    "from src.data.make_dataset import *\n",
    "import numpy as np"
   ]
  },
  {
   "cell_type": "code",
   "execution_count": 2,
   "metadata": {},
   "outputs": [],
   "source": [
    "csv_index = 1\n",
    "path_to_zip = '../data/raw/synthetic_basic.zip'\n",
    "df = extract_csv_from_zip(path_to_zip, csv_index)"
   ]
  },
  {
   "cell_type": "code",
   "execution_count": 3,
   "metadata": {},
   "outputs": [
    {
     "data": {
      "text/html": [
       "<div>\n",
       "<style scoped>\n",
       "    .dataframe tbody tr th:only-of-type {\n",
       "        vertical-align: middle;\n",
       "    }\n",
       "\n",
       "    .dataframe tbody tr th {\n",
       "        vertical-align: top;\n",
       "    }\n",
       "\n",
       "    .dataframe thead th {\n",
       "        text-align: right;\n",
       "    }\n",
       "</style>\n",
       "<table border=\"1\" class=\"dataframe\">\n",
       "  <thead>\n",
       "    <tr style=\"text-align: right;\">\n",
       "      <th></th>\n",
       "      <th>Power</th>\n",
       "      <th>POA</th>\n",
       "      <th>Tamb</th>\n",
       "      <th>Wind</th>\n",
       "      <th>Degradation_rate_per_yr</th>\n",
       "      <th>soiling</th>\n",
       "      <th>year</th>\n",
       "      <th>month</th>\n",
       "      <th>day</th>\n",
       "      <th>hour</th>\n",
       "      <th>minute_of_hour</th>\n",
       "      <th>minute_of_day</th>\n",
       "    </tr>\n",
       "  </thead>\n",
       "  <tbody>\n",
       "    <tr>\n",
       "      <th>2015-01-01 00:00:00-05:00</th>\n",
       "      <td>-1.0</td>\n",
       "      <td>0.0</td>\n",
       "      <td>5.1</td>\n",
       "      <td>0.0</td>\n",
       "      <td>-0.01436</td>\n",
       "      <td>1</td>\n",
       "      <td>2015</td>\n",
       "      <td>1</td>\n",
       "      <td>1</td>\n",
       "      <td>0</td>\n",
       "      <td>0</td>\n",
       "      <td>0</td>\n",
       "    </tr>\n",
       "    <tr>\n",
       "      <th>2015-01-01 00:01:00-05:00</th>\n",
       "      <td>-1.0</td>\n",
       "      <td>0.0</td>\n",
       "      <td>5.1</td>\n",
       "      <td>0.0</td>\n",
       "      <td>-0.01436</td>\n",
       "      <td>1</td>\n",
       "      <td>2015</td>\n",
       "      <td>1</td>\n",
       "      <td>1</td>\n",
       "      <td>0</td>\n",
       "      <td>1</td>\n",
       "      <td>1</td>\n",
       "    </tr>\n",
       "    <tr>\n",
       "      <th>2015-01-01 00:02:00-05:00</th>\n",
       "      <td>-1.0</td>\n",
       "      <td>0.0</td>\n",
       "      <td>5.1</td>\n",
       "      <td>0.0</td>\n",
       "      <td>-0.01436</td>\n",
       "      <td>1</td>\n",
       "      <td>2015</td>\n",
       "      <td>1</td>\n",
       "      <td>1</td>\n",
       "      <td>0</td>\n",
       "      <td>2</td>\n",
       "      <td>2</td>\n",
       "    </tr>\n",
       "    <tr>\n",
       "      <th>2015-01-01 00:03:00-05:00</th>\n",
       "      <td>-1.0</td>\n",
       "      <td>0.0</td>\n",
       "      <td>5.1</td>\n",
       "      <td>0.0</td>\n",
       "      <td>-0.01436</td>\n",
       "      <td>1</td>\n",
       "      <td>2015</td>\n",
       "      <td>1</td>\n",
       "      <td>1</td>\n",
       "      <td>0</td>\n",
       "      <td>3</td>\n",
       "      <td>3</td>\n",
       "    </tr>\n",
       "    <tr>\n",
       "      <th>2015-01-01 00:04:00-05:00</th>\n",
       "      <td>-1.0</td>\n",
       "      <td>0.0</td>\n",
       "      <td>5.1</td>\n",
       "      <td>0.0</td>\n",
       "      <td>-0.01436</td>\n",
       "      <td>1</td>\n",
       "      <td>2015</td>\n",
       "      <td>1</td>\n",
       "      <td>1</td>\n",
       "      <td>0</td>\n",
       "      <td>4</td>\n",
       "      <td>4</td>\n",
       "    </tr>\n",
       "  </tbody>\n",
       "</table>\n",
       "</div>"
      ],
      "text/plain": [
       "                           Power  POA  Tamb  Wind  Degradation_rate_per_yr  \\\n",
       "2015-01-01 00:00:00-05:00   -1.0  0.0   5.1   0.0                 -0.01436   \n",
       "2015-01-01 00:01:00-05:00   -1.0  0.0   5.1   0.0                 -0.01436   \n",
       "2015-01-01 00:02:00-05:00   -1.0  0.0   5.1   0.0                 -0.01436   \n",
       "2015-01-01 00:03:00-05:00   -1.0  0.0   5.1   0.0                 -0.01436   \n",
       "2015-01-01 00:04:00-05:00   -1.0  0.0   5.1   0.0                 -0.01436   \n",
       "\n",
       "                           soiling  year  month  day  hour  minute_of_hour  \\\n",
       "2015-01-01 00:00:00-05:00        1  2015      1    1     0               0   \n",
       "2015-01-01 00:01:00-05:00        1  2015      1    1     0               1   \n",
       "2015-01-01 00:02:00-05:00        1  2015      1    1     0               2   \n",
       "2015-01-01 00:03:00-05:00        1  2015      1    1     0               3   \n",
       "2015-01-01 00:04:00-05:00        1  2015      1    1     0               4   \n",
       "\n",
       "                           minute_of_day  \n",
       "2015-01-01 00:00:00-05:00              0  \n",
       "2015-01-01 00:01:00-05:00              1  \n",
       "2015-01-01 00:02:00-05:00              2  \n",
       "2015-01-01 00:03:00-05:00              3  \n",
       "2015-01-01 00:04:00-05:00              4  "
      ]
     },
     "execution_count": 3,
     "metadata": {},
     "output_type": "execute_result"
    }
   ],
   "source": [
    "df.head()"
   ]
  },
  {
   "cell_type": "code",
   "execution_count": 4,
   "metadata": {},
   "outputs": [
    {
     "name": "stdout",
     "output_type": "stream",
     "text": [
      "Max power set as 1827.0\n",
      "Looking at the 0th minute of the day\n",
      "Looking at the 100th minute of the day\n",
      "Looking at the 200th minute of the day\n",
      "Looking at the 300th minute of the day\n",
      "Looking at the 400th minute of the day\n",
      "Looking at the 500th minute of the day\n",
      "20.55555555555556% of the data has been removed!\n",
      "CPU times: user 4.18 s, sys: 225 ms, total: 4.4 s\n",
      "Wall time: 3.63 s\n"
     ]
    }
   ],
   "source": [
    "%%time\n",
    "df1 = remove_clipping_with_universal_window(df,verbose=True)"
   ]
  },
  {
   "cell_type": "code",
   "execution_count": 5,
   "metadata": {},
   "outputs": [
    {
     "name": "stdout",
     "output_type": "stream",
     "text": [
      "Max power set as 1827.0\n",
      "Looking at the 0th minute of the day\n",
      "Looking at the 100th minute of the day\n",
      "Looking at the 200th minute of the day\n",
      "Looking at the 300th minute of the day\n",
      "Looking at the 400th minute of the day\n",
      "Looking at the 500th minute of the day\n",
      "20.55555555555556% of the data has been removed!\n",
      "CPU times: user 3.86 s, sys: 129 ms, total: 3.99 s\n",
      "Wall time: 2.99 s\n"
     ]
    }
   ],
   "source": [
    "%%time\n",
    "df2 = remove_clipping_with_universal_window_faster(df,verbose=True)"
   ]
  },
  {
   "cell_type": "code",
   "execution_count": 7,
   "metadata": {},
   "outputs": [
    {
     "name": "stdout",
     "output_type": "stream",
     "text": [
      "Max power set as 1827.0\n",
      "(213267, 13)\n",
      "20.55555555555556% of the data has been removed!\n",
      "CPU times: user 579 ms, sys: 84.8 ms, total: 664 ms\n",
      "Wall time: 166 ms\n"
     ]
    }
   ],
   "source": [
    "%%time\n",
    "df2 = remove_clipping_with_universal_window_fastest(df,verbose=True)"
   ]
  },
  {
   "cell_type": "code",
   "execution_count": 6,
   "metadata": {},
   "outputs": [
    {
     "name": "stdout",
     "output_type": "stream",
     "text": [
      "Max power set as 1827.0\n",
      "9.594818668613847% of the data has been removed!\n",
      "CPU times: user 10.2 s, sys: 749 ms, total: 11 s\n",
      "Wall time: 2.81 s\n"
     ]
    }
   ],
   "source": [
    "%%time\n",
    "df3 = remove_clipping_with_flexible_window(df,verbose=True)"
   ]
  },
  {
   "cell_type": "code",
   "execution_count": null,
   "metadata": {},
   "outputs": [],
   "source": []
  }
 ],
 "metadata": {
  "kernelspec": {
   "display_name": "Python 3",
   "language": "python",
   "name": "python3"
  },
  "language_info": {
   "codemirror_mode": {
    "name": "ipython",
    "version": 3
   },
   "file_extension": ".py",
   "mimetype": "text/x-python",
   "name": "python",
   "nbconvert_exporter": "python",
   "pygments_lexer": "ipython3",
   "version": "3.7.7"
  }
 },
 "nbformat": 4,
 "nbformat_minor": 4
}
