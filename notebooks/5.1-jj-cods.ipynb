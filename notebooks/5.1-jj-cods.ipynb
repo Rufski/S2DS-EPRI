{
 "cells": [
  {
   "cell_type": "code",
   "execution_count": 1,
   "metadata": {},
   "outputs": [],
   "source": [
    "# OPTIONAL: Load the \"autoreload\" extension so that code can change\n",
    "%load_ext autoreload\n",
    "\n",
    "# OPTIONAL: always reload modules so that as you change code in src, it gets loaded\n",
    "%autoreload 2"
   ]
  },
  {
   "cell_type": "code",
   "execution_count": 2,
   "metadata": {},
   "outputs": [],
   "source": [
    "# import the function\n",
    "from src.data.import_data import *\n",
    "from src.data.make_dataset import *\n",
    "\n",
    "import matplotlib.pyplot as plt\n",
    "\n",
    "from rdtools.soiling import cods_analysis"
   ]
  },
  {
   "cell_type": "markdown",
   "metadata": {},
   "source": [
    "# CODS degradation rate analysis"
   ]
  },
  {
   "cell_type": "code",
   "execution_count": 27,
   "metadata": {},
   "outputs": [],
   "source": [
    "def test_cods_with_weather(path_to_pkl_dir, path_to_info, nr_files, offset=0, degradation_method='YoY'):\n",
    "    \n",
    "    df_info = import_df_info_from_zip(path_to_info)\n",
    "    residuals = np.array([])\n",
    "    for i in range(nr_files):\n",
    "        file_name = path_to_pkl_dir.split(\"/\")[-2]\n",
    "        df = pd.read_pickle(path_to_pkl_dir + file_name + f\"_{str(i+1).zfill(3)}.pkl\", compression = 'gzip')\n",
    "        df = df.iloc[offset:]\n",
    "        cods = cods_analysis(df.PI)\n",
    "        _, deg, *_ = cods.iterative_signal_decomposition(perfect_cleaning=True, order=['SC', 'SR', 'Rd'], \n",
    "                                                         degradation_method=degradation_method)\n",
    "        deg = deg / 100\n",
    "        residuals = np.append(residuals, (deg - df_info.Degradation_rate_linear.iloc[i]))\n",
    "        #print(f\"The residual of {i+1}th dataset is {deg - df_info.Degradation_rate_linear.iloc[i]}\")\n",
    "    return residuals, np.sqrt(np.sum(residuals**2)/len(residuals))\n",
    "    "
   ]
  },
  {
   "cell_type": "markdown",
   "metadata": {},
   "source": [
    "# YoY for degradation rate"
   ]
  },
  {
   "cell_type": "markdown",
   "metadata": {},
   "source": [
    "## Basic dataset"
   ]
  },
  {
   "cell_type": "code",
   "execution_count": 4,
   "metadata": {},
   "outputs": [
    {
     "name": "stdout",
     "output_type": "stream",
     "text": [
      "CPU times: user 6min 33s, sys: 1min 46s, total: 8min 19s\n",
      "Wall time: 5min 49s\n"
     ]
    }
   ],
   "source": [
    "%%time\n",
    "residuals, rmse = test_cods_with_weather(\"../data/processed/synthetic_basic_pi_daily/\", \"../data/raw/synthetic_basic.zip\", 50)"
   ]
  },
  {
   "cell_type": "code",
   "execution_count": 5,
   "metadata": {},
   "outputs": [
    {
     "data": {
      "text/plain": [
       "Text(0.5, 0, 'Sample')"
      ]
     },
     "execution_count": 5,
     "metadata": {},
     "output_type": "execute_result"
    },
    {
     "data": {
      "image/png": "[encoded data removed]",
      "text/plain": [
       "<Figure size 864x360 with 1 Axes>"
      ]
     },
     "metadata": {
      "needs_background": "light"
     },
     "output_type": "display_data"
    }
   ],
   "source": [
    "fig, ax = plt.subplots(figsize=(12, 5))\n",
    "ax.axhline(color='orange')\n",
    "ax.plot(residuals, 'o')\n",
    "ax.set_ylabel('Residuals')\n",
    "ax.set_xlabel(\"Sample\")"
   ]
  },
  {
   "cell_type": "code",
   "execution_count": 6,
   "metadata": {},
   "outputs": [
    {
     "name": "stdout",
     "output_type": "stream",
     "text": [
      "The RMSE between true and predicted degradation rates for basic dataset is 0.0006\n"
     ]
    }
   ],
   "source": [
    "print(f\"The RMSE between true and predicted degradation rates for basic dataset is {rmse:.4f}\")"
   ]
  },
  {
   "cell_type": "markdown",
   "metadata": {},
   "source": [
    "## Soil dataset"
   ]
  },
  {
   "cell_type": "code",
   "execution_count": 7,
   "metadata": {},
   "outputs": [
    {
     "name": "stdout",
     "output_type": "stream",
     "text": [
      "CPU times: user 5min 40s, sys: 1min 34s, total: 7min 14s\n",
      "Wall time: 5min 1s\n"
     ]
    }
   ],
   "source": [
    "%%time\n",
    "residuals_s, rmse_s = test_cods_with_weather(\"../data/processed/synthetic_soil_pi_daily/\", \"../data/raw/synthetic_soil.zip\", 50)"
   ]
  },
  {
   "cell_type": "code",
   "execution_count": 8,
   "metadata": {},
   "outputs": [
    {
     "data": {
      "text/plain": [
       "Text(0.5, 0, 'Sample')"
      ]
     },
     "execution_count": 8,
     "metadata": {},
     "output_type": "execute_result"
    },
    {
     "data": {
      "image/png": "[encoded data removed]",
      "text/plain": [
       "<Figure size 864x360 with 1 Axes>"
      ]
     },
     "metadata": {
      "needs_background": "light"
     },
     "output_type": "display_data"
    }
   ],
   "source": [
    "fig, ax = plt.subplots(figsize=(12, 5))\n",
    "ax.axhline(color='orange')\n",
    "ax.plot(residuals_s, 'o', color=\"blue\")\n",
    "ax.set_ylabel('Residuals')\n",
    "ax.set_xlabel(\"Sample\")"
   ]
  },
  {
   "cell_type": "code",
   "execution_count": 9,
   "metadata": {},
   "outputs": [
    {
     "name": "stdout",
     "output_type": "stream",
     "text": [
      "The RMSE between true and predicted degradation rates for soil dataset is 0.0024\n"
     ]
    }
   ],
   "source": [
    "print(f\"The RMSE between true and predicted degradation rates for soil dataset is {rmse_s:.4f}\")"
   ]
  },
  {
   "cell_type": "markdown",
   "metadata": {},
   "source": [
    "## Weather dataset"
   ]
  },
  {
   "cell_type": "code",
   "execution_count": 10,
   "metadata": {},
   "outputs": [
    {
     "name": "stdout",
     "output_type": "stream",
     "text": [
      "CPU times: user 5min 13s, sys: 1min 28s, total: 6min 41s\n",
      "Wall time: 4min 36s\n"
     ]
    }
   ],
   "source": [
    "%%time\n",
    "residuals_w, rmse_w = test_cods_with_weather(\"../data/processed/synthetic_weather_pi_daily/\", \"../data/raw/synthetic_weather.zip\", 50)"
   ]
  },
  {
   "cell_type": "code",
   "execution_count": 11,
   "metadata": {},
   "outputs": [
    {
     "data": {
      "text/plain": [
       "Text(0.5, 0, 'Sample')"
      ]
     },
     "execution_count": 11,
     "metadata": {},
     "output_type": "execute_result"
    },
    {
     "data": {
      "image/png": "[encoded data removed]",
      "text/plain": [
       "<Figure size 864x360 with 1 Axes>"
      ]
     },
     "metadata": {
      "needs_background": "light"
     },
     "output_type": "display_data"
    }
   ],
   "source": [
    "fig, ax = plt.subplots(figsize=(12, 5))\n",
    "ax.axhline(color='orange')\n",
    "ax.plot(residuals_w, 'o', color=\"blue\")\n",
    "ax.set_ylabel('Residuals')\n",
    "ax.set_xlabel(\"Sample\")"
   ]
  },
  {
   "cell_type": "code",
   "execution_count": 12,
   "metadata": {},
   "outputs": [
    {
     "name": "stdout",
     "output_type": "stream",
     "text": [
      "The RMSE between true and predicted degradation rates for weather dataset is 0.0048\n"
     ]
    }
   ],
   "source": [
    "print(f\"The RMSE between true and predicted degradation rates for weather dataset is {rmse_w:.4f}\")"
   ]
  },
  {
   "cell_type": "markdown",
   "metadata": {},
   "source": [
    "## Weather and soil dataset"
   ]
  },
  {
   "cell_type": "code",
   "execution_count": 13,
   "metadata": {},
   "outputs": [
    {
     "name": "stdout",
     "output_type": "stream",
     "text": [
      "CPU times: user 5min 13s, sys: 1min 30s, total: 6min 44s\n",
      "Wall time: 4min 36s\n"
     ]
    }
   ],
   "source": [
    "%%time\n",
    "residuals_ws, rmse_ws = test_cods_with_weather(\"../data/processed/synthetic_soil_weather_pi_daily/\", \"../data/raw/synthetic_soil_weather.zip\", 50)"
   ]
  },
  {
   "cell_type": "code",
   "execution_count": 14,
   "metadata": {},
   "outputs": [
    {
     "data": {
      "text/plain": [
       "Text(0.5, 0, 'Sample')"
      ]
     },
     "execution_count": 14,
     "metadata": {},
     "output_type": "execute_result"
    },
    {
     "data": {
      "image/png": "[encoded data removed]",
      "text/plain": [
       "<Figure size 864x360 with 1 Axes>"
      ]
     },
     "metadata": {
      "needs_background": "light"
     },
     "output_type": "display_data"
    }
   ],
   "source": [
    "fig, ax = plt.subplots(figsize=(12, 5))\n",
    "ax.axhline(color='orange')\n",
    "ax.plot(residuals_ws, 'o', color=\"blue\")\n",
    "ax.set_ylabel('Residuals')\n",
    "ax.set_xlabel(\"Sample\")"
   ]
  },
  {
   "cell_type": "code",
   "execution_count": 15,
   "metadata": {},
   "outputs": [
    {
     "name": "stdout",
     "output_type": "stream",
     "text": [
      "The RMSE between true and predicted degradation rates for weather+soil dataset is 0.0054\n"
     ]
    }
   ],
   "source": [
    "print(f\"The RMSE between true and predicted degradation rates for weather+soil dataset is {rmse_ws:.4f}\")"
   ]
  },
  {
   "cell_type": "markdown",
   "metadata": {},
   "source": [
    "# STL for degradation rate"
   ]
  },
  {
   "cell_type": "markdown",
   "metadata": {},
   "source": [
    "## Basic dataset using STL instead of YoY"
   ]
  },
  {
   "cell_type": "code",
   "execution_count": 37,
   "metadata": {},
   "outputs": [
    {
     "name": "stdout",
     "output_type": "stream",
     "text": [
      "CPU times: user 5min 47s, sys: 1min 35s, total: 7min 23s\n",
      "Wall time: 5min 8s\n"
     ]
    }
   ],
   "source": [
    "%%time\n",
    "residuals_b_s, rmse_b_s = test_cods_with_weather(\"../data/processed/synthetic_basic_pi_daily/\", \"../data/raw/synthetic_basic.zip\", 50, degradation_method='STL')\n",
    "\n"
   ]
  },
  {
   "cell_type": "code",
   "execution_count": 38,
   "metadata": {},
   "outputs": [
    {
     "data": {
      "text/plain": [
       "<matplotlib.legend.Legend at 0x7f340b344ac8>"
      ]
     },
     "execution_count": 38,
     "metadata": {},
     "output_type": "execute_result"
    },
    {
     "data": {
      "image/png": "[encoded data removed]",
      "text/plain": [
       "<Figure size 864x360 with 1 Axes>"
      ]
     },
     "metadata": {
      "needs_background": "light"
     },
     "output_type": "display_data"
    }
   ],
   "source": [
    "fig, ax = plt.subplots(figsize=(12, 5))\n",
    "ax.axhline(color='orange')\n",
    "ax.plot(residuals_b_s, 'o', color=\"blue\", label=\"STL\")\n",
    "ax.plot(residuals, 'o', color=\"green\", label=\"YoY\")\n",
    "ax.set_ylabel('Residuals')\n",
    "ax.set_xlabel(\"Sample\")\n",
    "ax.legend()"
   ]
  },
  {
   "cell_type": "code",
   "execution_count": 39,
   "metadata": {},
   "outputs": [
    {
     "name": "stdout",
     "output_type": "stream",
     "text": [
      "The RMSE between true and predicted degradation rates for basic dataset with STL is 0.0041\n"
     ]
    }
   ],
   "source": [
    "print(f\"The RMSE between true and predicted degradation rates for basic dataset with STL is {rmse_b_s:.4f}\")"
   ]
  },
  {
   "cell_type": "markdown",
   "metadata": {},
   "source": [
    "## Soil dataset using STL instead of YoY"
   ]
  },
  {
   "cell_type": "code",
   "execution_count": 31,
   "metadata": {},
   "outputs": [
    {
     "name": "stdout",
     "output_type": "stream",
     "text": [
      "CPU times: user 5min 4s, sys: 1min 23s, total: 6min 27s\n",
      "Wall time: 4min 28s\n"
     ]
    }
   ],
   "source": [
    "%%time\n",
    "residuals_s_s, rmse_s_s = test_cods_with_weather(\"../data/processed/synthetic_soil_pi_daily/\", \"../data/raw/synthetic_soil.zip\", 50, degradation_method='STL')"
   ]
  },
  {
   "cell_type": "code",
   "execution_count": 36,
   "metadata": {},
   "outputs": [
    {
     "data": {
      "text/plain": [
       "<matplotlib.legend.Legend at 0x7f340b37a860>"
      ]
     },
     "execution_count": 36,
     "metadata": {},
     "output_type": "execute_result"
    },
    {
     "data": {
      "image/png": "[encoded data removed]",
      "text/plain": [
       "<Figure size 864x360 with 1 Axes>"
      ]
     },
     "metadata": {
      "needs_background": "light"
     },
     "output_type": "display_data"
    }
   ],
   "source": [
    "fig, ax = plt.subplots(figsize=(12, 5))\n",
    "ax.axhline(color='orange')\n",
    "ax.plot(residuals_s_s, 'o', color=\"blue\", label=\"STL\")\n",
    "ax.plot(residuals_s, 'o', color=\"green\", label=\"YoY\")\n",
    "ax.set_ylabel('Residuals')\n",
    "ax.set_xlabel(\"Sample\")\n",
    "ax.legend()"
   ]
  },
  {
   "cell_type": "code",
   "execution_count": 33,
   "metadata": {},
   "outputs": [
    {
     "name": "stdout",
     "output_type": "stream",
     "text": [
      "The RMSE between true and predicted degradation rates for soil dataset with STL is 0.0041\n"
     ]
    }
   ],
   "source": [
    "print(f\"The RMSE between true and predicted degradation rates for soil dataset with STL is {rmse_s_s:.4f}\")"
   ]
  },
  {
   "cell_type": "markdown",
   "metadata": {},
   "source": [
    "## Weather dataset using STL instead of YoY"
   ]
  },
  {
   "cell_type": "code",
   "execution_count": 42,
   "metadata": {},
   "outputs": [
    {
     "name": "stdout",
     "output_type": "stream",
     "text": [
      "CPU times: user 5min 9s, sys: 1min 23s, total: 6min 32s\n",
      "Wall time: 4min 34s\n"
     ]
    }
   ],
   "source": [
    "%%time\n",
    "residuals_w_s, rmse_w_s = test_cods_with_weather(\"../data/processed/synthetic_weather_pi_daily/\", \"../data/raw/synthetic_weather.zip\", 50, degradation_method='STL')\n"
   ]
  },
  {
   "cell_type": "code",
   "execution_count": 44,
   "metadata": {},
   "outputs": [
    {
     "data": {
      "text/plain": [
       "<matplotlib.legend.Legend at 0x7f340b309c88>"
      ]
     },
     "execution_count": 44,
     "metadata": {},
     "output_type": "execute_result"
    },
    {
     "data": {
      "image/png": "[encoded data removed]",
      "text/plain": [
       "<Figure size 864x360 with 1 Axes>"
      ]
     },
     "metadata": {
      "needs_background": "light"
     },
     "output_type": "display_data"
    }
   ],
   "source": [
    "fig, ax = plt.subplots(figsize=(12, 5))\n",
    "ax.axhline(color='orange')\n",
    "ax.plot(residuals_w_s, 'o', color=\"blue\", label=\"STL\")\n",
    "ax.plot(residuals_w, 'o', color=\"green\", label=\"YoY\")\n",
    "ax.set_ylabel('Residuals')\n",
    "ax.set_xlabel(\"Sample\")\n",
    "ax.legend()"
   ]
  },
  {
   "cell_type": "code",
   "execution_count": 43,
   "metadata": {},
   "outputs": [
    {
     "name": "stdout",
     "output_type": "stream",
     "text": [
      "The RMSE between true and predicted degradation rates for weather dataset with STL is 0.0047\n"
     ]
    }
   ],
   "source": [
    "print(f\"The RMSE between true and predicted degradation rates for weather dataset with STL is {rmse_w_s:.4f}\")"
   ]
  },
  {
   "cell_type": "markdown",
   "metadata": {},
   "source": [
    "## Weather and soil dataset using STL instead of YoY"
   ]
  },
  {
   "cell_type": "code",
   "execution_count": 28,
   "metadata": {},
   "outputs": [
    {
     "name": "stdout",
     "output_type": "stream",
     "text": [
      "CPU times: user 5min 14s, sys: 1min 30s, total: 6min 44s\n",
      "Wall time: 4min 37s\n"
     ]
    }
   ],
   "source": [
    "%%time\n",
    "residuals_ws_s, rmse_ws_s = test_cods_with_weather(\"../data/processed/synthetic_soil_weather_pi_daily/\", \"../data/raw/synthetic_soil_weather.zip\", 50, degradation_method='STL')"
   ]
  },
  {
   "cell_type": "code",
   "execution_count": 35,
   "metadata": {},
   "outputs": [
    {
     "data": {
      "text/plain": [
       "<matplotlib.legend.Legend at 0x7f340b466ef0>"
      ]
     },
     "execution_count": 35,
     "metadata": {},
     "output_type": "execute_result"
    },
    {
     "data": {
      "image/png": "[encoded data removed]",
      "text/plain": [
       "<Figure size 864x360 with 1 Axes>"
      ]
     },
     "metadata": {
      "needs_background": "light"
     },
     "output_type": "display_data"
    }
   ],
   "source": [
    "fig, ax = plt.subplots(figsize=(12, 5))\n",
    "ax.axhline(color='orange')\n",
    "ax.plot(residuals_ws_s, 'o', color=\"blue\", label=\"STL\")\n",
    "ax.plot(residuals_ws, 'o', color=\"green\", label=\"YoY\")\n",
    "ax.set_ylabel('Residuals')\n",
    "ax.set_xlabel(\"Sample\")\n",
    "ax.legend()"
   ]
  },
  {
   "cell_type": "code",
   "execution_count": 29,
   "metadata": {},
   "outputs": [
    {
     "name": "stdout",
     "output_type": "stream",
     "text": [
      "The RMSE between true and predicted degradation rates for weather+soil dataset with STL is 0.0046\n"
     ]
    }
   ],
   "source": [
    "print(f\"The RMSE between true and predicted degradation rates for weather+soil dataset with STL is {rmse_ws_s:.4f}\")"
   ]
  },
  {
   "cell_type": "code",
   "execution_count": null,
   "metadata": {},
   "outputs": [],
   "source": []
  }
 ],
 "metadata": {
  "kernelspec": {
   "display_name": "Python 3",
   "language": "python",
   "name": "python3"
  },
  "language_info": {
   "codemirror_mode": {
    "name": "ipython",
    "version": 3
   },
   "file_extension": ".py",
   "mimetype": "text/x-python",
   "name": "python",
   "nbconvert_exporter": "python",
   "pygments_lexer": "ipython3",
   "version": "3.6.9"
  }
 },
 "nbformat": 4,
 "nbformat_minor": 4
}
