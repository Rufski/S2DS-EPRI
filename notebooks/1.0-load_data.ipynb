{
 "cells": [
  {
   "cell_type": "markdown",
   "metadata": {},
   "source": [
    "# Notebook demonstrating data load from zip file"
   ]
  },
  {
   "cell_type": "code",
   "execution_count": 1,
   "metadata": {},
   "outputs": [],
   "source": [
    "import pandas as pd\n",
    "import zipfile"
   ]
  },
  {
   "cell_type": "code",
   "execution_count": 2,
   "metadata": {},
   "outputs": [],
   "source": [
    "datafile = '../data/raw/synthetic_basic.zip'"
   ]
  },
  {
   "cell_type": "code",
   "execution_count": 3,
   "metadata": {},
   "outputs": [],
   "source": [
    "zf = zipfile.ZipFile(datafile)"
   ]
  },
  {
   "cell_type": "code",
   "execution_count": 4,
   "metadata": {},
   "outputs": [
    {
     "name": "stdout",
     "output_type": "stream",
     "text": [
      "['synthetic_basic/synthetic_basic_6.csv', 'synthetic_basic/synthetic_basic_44.csv', 'synthetic_basic/synthetic_basic_10.csv', 'synthetic_basic/synthetic_basic_29.csv', 'synthetic_basic/synthetic_basic_40.csv', 'synthetic_basic/synthetic_basic_43.csv', 'synthetic_basic/synthetic_basic_49.csv']\n"
     ]
    }
   ],
   "source": [
    "# Get the list of files in the archive: \n",
    "file_list = [ zipinfo.filename for zipinfo in zf.filelist\n",
    "             if zipinfo.filename.endswith('.csv')]\n",
    "print(file_list[:7])"
   ]
  },
  {
   "cell_type": "code",
   "execution_count": 5,
   "metadata": {},
   "outputs": [
    {
     "name": "stdout",
     "output_type": "stream",
     "text": [
      "synthetic_basic/synthetic_basic_6.csv\n",
      "synthetic_basic/synthetic_basic_44.csv\n"
     ]
    }
   ],
   "source": [
    "# Load any number of files into a list of dataframes:\n",
    "dfs = []\n",
    "for f in file_list[0:2]:\n",
    "    print(f)\n",
    "    df = pd.read_csv(zf.open(f))\n",
    "    dfs.append(df)"
   ]
  },
  {
   "cell_type": "code",
   "execution_count": 6,
   "metadata": {},
   "outputs": [
    {
     "data": {
      "text/html": [
       "<div>\n",
       "<style scoped>\n",
       "    .dataframe tbody tr th:only-of-type {\n",
       "        vertical-align: middle;\n",
       "    }\n",
       "\n",
       "    .dataframe tbody tr th {\n",
       "        vertical-align: top;\n",
       "    }\n",
       "\n",
       "    .dataframe thead th {\n",
       "        text-align: right;\n",
       "    }\n",
       "</style>\n",
       "<table border=\"1\" class=\"dataframe\">\n",
       "  <thead>\n",
       "    <tr style=\"text-align: right;\">\n",
       "      <th></th>\n",
       "      <th>Unnamed: 0</th>\n",
       "      <th>Power</th>\n",
       "      <th>POA</th>\n",
       "      <th>Tamb</th>\n",
       "      <th>Wind</th>\n",
       "      <th>Degradation_rate_per_yr</th>\n",
       "      <th>soiling</th>\n",
       "    </tr>\n",
       "  </thead>\n",
       "  <tbody>\n",
       "    <tr>\n",
       "      <th>0</th>\n",
       "      <td>2015-01-01 00:00:00-05:00</td>\n",
       "      <td>-1.0</td>\n",
       "      <td>0.0</td>\n",
       "      <td>5.1</td>\n",
       "      <td>0.0</td>\n",
       "      <td>-0.00999</td>\n",
       "      <td>1</td>\n",
       "    </tr>\n",
       "    <tr>\n",
       "      <th>1</th>\n",
       "      <td>2015-01-01 00:01:00-05:00</td>\n",
       "      <td>-1.0</td>\n",
       "      <td>0.0</td>\n",
       "      <td>5.1</td>\n",
       "      <td>0.0</td>\n",
       "      <td>-0.00999</td>\n",
       "      <td>1</td>\n",
       "    </tr>\n",
       "    <tr>\n",
       "      <th>2</th>\n",
       "      <td>2015-01-01 00:02:00-05:00</td>\n",
       "      <td>-1.0</td>\n",
       "      <td>0.0</td>\n",
       "      <td>5.1</td>\n",
       "      <td>0.0</td>\n",
       "      <td>-0.00999</td>\n",
       "      <td>1</td>\n",
       "    </tr>\n",
       "    <tr>\n",
       "      <th>3</th>\n",
       "      <td>2015-01-01 00:03:00-05:00</td>\n",
       "      <td>-1.0</td>\n",
       "      <td>0.0</td>\n",
       "      <td>5.1</td>\n",
       "      <td>0.0</td>\n",
       "      <td>-0.00999</td>\n",
       "      <td>1</td>\n",
       "    </tr>\n",
       "    <tr>\n",
       "      <th>4</th>\n",
       "      <td>2015-01-01 00:04:00-05:00</td>\n",
       "      <td>-1.0</td>\n",
       "      <td>0.0</td>\n",
       "      <td>5.1</td>\n",
       "      <td>0.0</td>\n",
       "      <td>-0.00999</td>\n",
       "      <td>1</td>\n",
       "    </tr>\n",
       "  </tbody>\n",
       "</table>\n",
       "</div>"
      ],
      "text/plain": [
       "                  Unnamed: 0  Power  POA  Tamb  Wind  Degradation_rate_per_yr  \\\n",
       "0  2015-01-01 00:00:00-05:00   -1.0  0.0   5.1   0.0                 -0.00999   \n",
       "1  2015-01-01 00:01:00-05:00   -1.0  0.0   5.1   0.0                 -0.00999   \n",
       "2  2015-01-01 00:02:00-05:00   -1.0  0.0   5.1   0.0                 -0.00999   \n",
       "3  2015-01-01 00:03:00-05:00   -1.0  0.0   5.1   0.0                 -0.00999   \n",
       "4  2015-01-01 00:04:00-05:00   -1.0  0.0   5.1   0.0                 -0.00999   \n",
       "\n",
       "   soiling  \n",
       "0        1  \n",
       "1        1  \n",
       "2        1  \n",
       "3        1  \n",
       "4        1  "
      ]
     },
     "execution_count": 6,
     "metadata": {},
     "output_type": "execute_result"
    }
   ],
   "source": [
    "dfs[0].head()"
   ]
  },
  {
   "cell_type": "code",
   "execution_count": 7,
   "metadata": {},
   "outputs": [
    {
     "name": "stdout",
     "output_type": "stream",
     "text": [
      "<class 'pandas.core.frame.DataFrame'>\n",
      "RangeIndex: 2629440 entries, 0 to 2629439\n",
      "Data columns (total 7 columns):\n",
      " #   Column                   Dtype  \n",
      "---  ------                   -----  \n",
      " 0   Unnamed: 0               object \n",
      " 1   Power                    float64\n",
      " 2   POA                      float64\n",
      " 3   Tamb                     float64\n",
      " 4   Wind                     float64\n",
      " 5   Degradation_rate_per_yr  float64\n",
      " 6   soiling                  int64  \n",
      "dtypes: float64(5), int64(1), object(1)\n",
      "memory usage: 140.4+ MB\n"
     ]
    }
   ],
   "source": [
    "dfs[0].info()"
   ]
  },
  {
   "cell_type": "code",
   "execution_count": 8,
   "metadata": {},
   "outputs": [
    {
     "name": "stdout",
     "output_type": "stream",
     "text": [
      "<class 'pandas.core.frame.DataFrame'>\n",
      "RangeIndex: 2629440 entries, 0 to 2629439\n",
      "Data columns (total 7 columns):\n",
      " #   Column                   Dtype  \n",
      "---  ------                   -----  \n",
      " 0   Unnamed: 0               object \n",
      " 1   Power                    float64\n",
      " 2   POA                      float64\n",
      " 3   Tamb                     float64\n",
      " 4   Wind                     float64\n",
      " 5   Degradation_rate_per_yr  float64\n",
      " 6   soiling                  int64  \n",
      "dtypes: float64(5), int64(1), object(1)\n",
      "memory usage: 140.4+ MB\n"
     ]
    }
   ],
   "source": [
    "dfs[1].info()"
   ]
  },
  {
   "cell_type": "markdown",
   "metadata": {},
   "source": [
    "## Merging several samples into one dataframe"
   ]
  },
  {
   "cell_type": "code",
   "execution_count": 9,
   "metadata": {},
   "outputs": [
    {
     "data": {
      "text/html": [
       "<div>\n",
       "<style scoped>\n",
       "    .dataframe tbody tr th:only-of-type {\n",
       "        vertical-align: middle;\n",
       "    }\n",
       "\n",
       "    .dataframe tbody tr th {\n",
       "        vertical-align: top;\n",
       "    }\n",
       "\n",
       "    .dataframe thead th {\n",
       "        text-align: right;\n",
       "    }\n",
       "</style>\n",
       "<table border=\"1\" class=\"dataframe\">\n",
       "  <thead>\n",
       "    <tr style=\"text-align: right;\">\n",
       "      <th></th>\n",
       "      <th>Unnamed: 0</th>\n",
       "      <th>Power</th>\n",
       "      <th>POA</th>\n",
       "      <th>Tamb</th>\n",
       "      <th>Wind</th>\n",
       "      <th>Degradation_rate_per_yr</th>\n",
       "      <th>soiling</th>\n",
       "      <th>id</th>\n",
       "    </tr>\n",
       "  </thead>\n",
       "  <tbody>\n",
       "    <tr>\n",
       "      <th>0</th>\n",
       "      <td>2015-01-01 00:00:00-05:00</td>\n",
       "      <td>-1.0</td>\n",
       "      <td>0.0</td>\n",
       "      <td>5.1</td>\n",
       "      <td>0.0</td>\n",
       "      <td>-0.01521</td>\n",
       "      <td>1</td>\n",
       "      <td>1</td>\n",
       "    </tr>\n",
       "    <tr>\n",
       "      <th>1</th>\n",
       "      <td>2015-01-01 00:01:00-05:00</td>\n",
       "      <td>-1.0</td>\n",
       "      <td>0.0</td>\n",
       "      <td>5.1</td>\n",
       "      <td>0.0</td>\n",
       "      <td>-0.01521</td>\n",
       "      <td>1</td>\n",
       "      <td>1</td>\n",
       "    </tr>\n",
       "    <tr>\n",
       "      <th>2</th>\n",
       "      <td>2015-01-01 00:02:00-05:00</td>\n",
       "      <td>-1.0</td>\n",
       "      <td>0.0</td>\n",
       "      <td>5.1</td>\n",
       "      <td>0.0</td>\n",
       "      <td>-0.01521</td>\n",
       "      <td>1</td>\n",
       "      <td>1</td>\n",
       "    </tr>\n",
       "    <tr>\n",
       "      <th>3</th>\n",
       "      <td>2015-01-01 00:03:00-05:00</td>\n",
       "      <td>-1.0</td>\n",
       "      <td>0.0</td>\n",
       "      <td>5.1</td>\n",
       "      <td>0.0</td>\n",
       "      <td>-0.01521</td>\n",
       "      <td>1</td>\n",
       "      <td>1</td>\n",
       "    </tr>\n",
       "    <tr>\n",
       "      <th>4</th>\n",
       "      <td>2015-01-01 00:04:00-05:00</td>\n",
       "      <td>-1.0</td>\n",
       "      <td>0.0</td>\n",
       "      <td>5.1</td>\n",
       "      <td>0.0</td>\n",
       "      <td>-0.01521</td>\n",
       "      <td>1</td>\n",
       "      <td>1</td>\n",
       "    </tr>\n",
       "  </tbody>\n",
       "</table>\n",
       "</div>"
      ],
      "text/plain": [
       "                  Unnamed: 0  Power  POA  Tamb  Wind  Degradation_rate_per_yr  \\\n",
       "0  2015-01-01 00:00:00-05:00   -1.0  0.0   5.1   0.0                 -0.01521   \n",
       "1  2015-01-01 00:01:00-05:00   -1.0  0.0   5.1   0.0                 -0.01521   \n",
       "2  2015-01-01 00:02:00-05:00   -1.0  0.0   5.1   0.0                 -0.01521   \n",
       "3  2015-01-01 00:03:00-05:00   -1.0  0.0   5.1   0.0                 -0.01521   \n",
       "4  2015-01-01 00:04:00-05:00   -1.0  0.0   5.1   0.0                 -0.01521   \n",
       "\n",
       "   soiling  id  \n",
       "0        1   1  \n",
       "1        1   1  \n",
       "2        1   1  \n",
       "3        1   1  \n",
       "4        1   1  "
      ]
     },
     "execution_count": 9,
     "metadata": {},
     "output_type": "execute_result"
    }
   ],
   "source": [
    "for i in range(len(dfs)):\n",
    "    dfs[i][\"id\"] = i\n",
    "    \n",
    "dfs[1].head()"
   ]
  },
  {
   "cell_type": "code",
   "execution_count": 10,
   "metadata": {},
   "outputs": [
    {
     "data": {
      "text/html": [
       "<div>\n",
       "<style scoped>\n",
       "    .dataframe tbody tr th:only-of-type {\n",
       "        vertical-align: middle;\n",
       "    }\n",
       "\n",
       "    .dataframe tbody tr th {\n",
       "        vertical-align: top;\n",
       "    }\n",
       "\n",
       "    .dataframe thead th {\n",
       "        text-align: right;\n",
       "    }\n",
       "</style>\n",
       "<table border=\"1\" class=\"dataframe\">\n",
       "  <thead>\n",
       "    <tr style=\"text-align: right;\">\n",
       "      <th></th>\n",
       "      <th>Unnamed: 0</th>\n",
       "      <th>Power</th>\n",
       "      <th>POA</th>\n",
       "      <th>Tamb</th>\n",
       "      <th>Wind</th>\n",
       "      <th>Degradation_rate_per_yr</th>\n",
       "      <th>soiling</th>\n",
       "      <th>id</th>\n",
       "    </tr>\n",
       "  </thead>\n",
       "  <tbody>\n",
       "    <tr>\n",
       "      <th>0</th>\n",
       "      <td>2015-01-01 00:00:00-05:00</td>\n",
       "      <td>-1.0</td>\n",
       "      <td>0.0</td>\n",
       "      <td>5.1</td>\n",
       "      <td>0.0</td>\n",
       "      <td>-0.00999</td>\n",
       "      <td>1</td>\n",
       "      <td>0</td>\n",
       "    </tr>\n",
       "    <tr>\n",
       "      <th>1</th>\n",
       "      <td>2015-01-01 00:01:00-05:00</td>\n",
       "      <td>-1.0</td>\n",
       "      <td>0.0</td>\n",
       "      <td>5.1</td>\n",
       "      <td>0.0</td>\n",
       "      <td>-0.00999</td>\n",
       "      <td>1</td>\n",
       "      <td>0</td>\n",
       "    </tr>\n",
       "    <tr>\n",
       "      <th>2</th>\n",
       "      <td>2015-01-01 00:02:00-05:00</td>\n",
       "      <td>-1.0</td>\n",
       "      <td>0.0</td>\n",
       "      <td>5.1</td>\n",
       "      <td>0.0</td>\n",
       "      <td>-0.00999</td>\n",
       "      <td>1</td>\n",
       "      <td>0</td>\n",
       "    </tr>\n",
       "    <tr>\n",
       "      <th>3</th>\n",
       "      <td>2015-01-01 00:03:00-05:00</td>\n",
       "      <td>-1.0</td>\n",
       "      <td>0.0</td>\n",
       "      <td>5.1</td>\n",
       "      <td>0.0</td>\n",
       "      <td>-0.00999</td>\n",
       "      <td>1</td>\n",
       "      <td>0</td>\n",
       "    </tr>\n",
       "    <tr>\n",
       "      <th>4</th>\n",
       "      <td>2015-01-01 00:04:00-05:00</td>\n",
       "      <td>-1.0</td>\n",
       "      <td>0.0</td>\n",
       "      <td>5.1</td>\n",
       "      <td>0.0</td>\n",
       "      <td>-0.00999</td>\n",
       "      <td>1</td>\n",
       "      <td>0</td>\n",
       "    </tr>\n",
       "  </tbody>\n",
       "</table>\n",
       "</div>"
      ],
      "text/plain": [
       "                  Unnamed: 0  Power  POA  Tamb  Wind  Degradation_rate_per_yr  \\\n",
       "0  2015-01-01 00:00:00-05:00   -1.0  0.0   5.1   0.0                 -0.00999   \n",
       "1  2015-01-01 00:01:00-05:00   -1.0  0.0   5.1   0.0                 -0.00999   \n",
       "2  2015-01-01 00:02:00-05:00   -1.0  0.0   5.1   0.0                 -0.00999   \n",
       "3  2015-01-01 00:03:00-05:00   -1.0  0.0   5.1   0.0                 -0.00999   \n",
       "4  2015-01-01 00:04:00-05:00   -1.0  0.0   5.1   0.0                 -0.00999   \n",
       "\n",
       "   soiling  id  \n",
       "0        1   0  \n",
       "1        1   0  \n",
       "2        1   0  \n",
       "3        1   0  \n",
       "4        1   0  "
      ]
     },
     "execution_count": 10,
     "metadata": {},
     "output_type": "execute_result"
    }
   ],
   "source": [
    "df_all = pd.concat(dfs)\n",
    "df_all.head()"
   ]
  },
  {
   "cell_type": "code",
   "execution_count": 11,
   "metadata": {},
   "outputs": [
    {
     "name": "stdout",
     "output_type": "stream",
     "text": [
      "<class 'pandas.core.frame.DataFrame'>\n",
      "Int64Index: 5258880 entries, 0 to 2629439\n",
      "Data columns (total 8 columns):\n",
      " #   Column                   Dtype  \n",
      "---  ------                   -----  \n",
      " 0   Unnamed: 0               object \n",
      " 1   Power                    float64\n",
      " 2   POA                      float64\n",
      " 3   Tamb                     float64\n",
      " 4   Wind                     float64\n",
      " 5   Degradation_rate_per_yr  float64\n",
      " 6   soiling                  int64  \n",
      " 7   id                       int64  \n",
      "dtypes: float64(5), int64(2), object(1)\n",
      "memory usage: 361.1+ MB\n"
     ]
    }
   ],
   "source": [
    "df_all.info()"
   ]
  },
  {
   "cell_type": "code",
   "execution_count": null,
   "metadata": {},
   "outputs": [],
   "source": []
  }
 ],
 "metadata": {
  "kernelspec": {
   "display_name": "Python 3",
   "language": "python",
   "name": "python3"
  },
  "language_info": {
   "codemirror_mode": {
    "name": "ipython",
    "version": 3
   },
   "file_extension": ".py",
   "mimetype": "text/x-python",
   "name": "python",
   "nbconvert_exporter": "python",
   "pygments_lexer": "ipython3",
   "version": "3.8.5"
  }
 },
 "nbformat": 4,
 "nbformat_minor": 4
}
