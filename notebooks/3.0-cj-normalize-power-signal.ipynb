{
 "cells": [
  {
   "cell_type": "code",
   "execution_count": 96,
   "metadata": {},
   "outputs": [
    {
     "name": "stdout",
     "output_type": "stream",
     "text": [
      "The autoreload extension is already loaded. To reload it, use:\n",
      "  %reload_ext autoreload\n"
     ]
    }
   ],
   "source": [
    "# load the \"autoreload\" extension so that code can change\n",
    "%load_ext autoreload\n",
    "# always reload modules so that as you change code in src, it gets loaded\n",
    "%autoreload 2"
   ]
  },
  {
   "cell_type": "code",
   "execution_count": 97,
   "metadata": {},
   "outputs": [],
   "source": [
    "from warnings import filterwarnings\n",
    "filterwarnings('ignore')"
   ]
  },
  {
   "cell_type": "markdown",
   "metadata": {},
   "source": [
    "# Normalization of the Power Signal\n",
    "\n",
    "Author: Clemens Jochum"
   ]
  },
  {
   "cell_type": "markdown",
   "metadata": {},
   "source": [
    "Normalize the power signal in order to obtain the performance index (PI). The resulting performance index is aggregated daily in order to obtain a daily time-series. The normalization code presented here mirrors the normalization method by Daniel Fregosi that he uses for the input to `rdtools`."
   ]
  },
  {
   "cell_type": "code",
   "execution_count": 98,
   "metadata": {},
   "outputs": [],
   "source": [
    "import pandas as pd\n",
    "import matplotlib.pyplot as plt\n",
    "import numpy as np\n",
    "from src.data.import_data import import_df_from_zip_pkl, import_df_info_from_zip\n",
    "from src.features.performance_index import normalize_power_signal\n",
    "from src.data.make_dataset import downsample_dataframe"
   ]
  },
  {
   "cell_type": "code",
   "execution_count": 4,
   "metadata": {},
   "outputs": [],
   "source": [
    "\n",
    "\n",
    "#plt.rcParams[\"figure.figsize\"] = [10, 5]\n",
    "#plt.rcParams['figure.dpi'] = 250\n",
    "#'font.size': 10, 'savefig.dpi': 72, 'figure.subplot.bottom': 0.125"
   ]
  },
  {
   "cell_type": "markdown",
   "metadata": {},
   "source": [
    "### Obtain the reference clearsky irradiance\n",
    "\n",
    "Obtain the reference clearsky irradiance (POA) for `synthetic_weather` and `synthetic_soil_weather` datasets from external data."
   ]
  },
  {
   "cell_type": "code",
   "execution_count": 99,
   "metadata": {},
   "outputs": [],
   "source": [
    "# load reference poa\n",
    "path_to_poa_reference = '../data/raw/clearsky_poa_reference/clear_sky_CO.pkl'\n",
    "poa_reference_02 = pd.read_pickle(path_to_poa_reference, compression='gzip')\n",
    "\n",
    "# pad missing values w/ zeros\n",
    "t_begin = pd.Timestamp('2015-01-01 00:00:00').tz_localize('Etc/GMT+7')\n",
    "t_final = pd.Timestamp('2019-12-31 23:59:00').tz_localize('Etc/GMT+7')\n",
    "datetime_01 = pd.date_range(t_begin, poa_reference_02.index[0], freq='min')[:-1]\n",
    "datetime_03 = pd.date_range(poa_reference_02.index[-1], t_final, freq='min')[1:]\n",
    "poa_reference_01 = pd.Series(data=0., index=datetime_01, name='POAcs')\n",
    "poa_reference_03 = pd.Series(data=0., index=datetime_03, name='POAcs')\n",
    "poa_reference = pd.concat((poa_reference_01, poa_reference_02, poa_reference_03))"
   ]
  },
  {
   "cell_type": "markdown",
   "metadata": {},
   "source": [
    "### Normalize a Dataset\n",
    "\n",
    "Normalize the dataset of `data_key`. Example given here is for `data_key = soil_weather`, i.e., the `synthetic_soil_weather` dataset."
   ]
  },
  {
   "cell_type": "code",
   "execution_count": 101,
   "metadata": {},
   "outputs": [],
   "source": [
    "# set parameters\n",
    "data_key = 'soil_weather'\n",
    "n_samples = 50\n",
    "path_to_dataset = '../data/raw/synthetic_soil_weather.zip'"
   ]
  },
  {
   "cell_type": "code",
   "execution_count": 105,
   "metadata": {},
   "outputs": [
    {
     "name": "stdout",
     "output_type": "stream",
     "text": [
      "                         Plant  Degradation_rate_linear Location\n",
      "0   synthetic_soil_weather_001                -0.015679       CO\n",
      "1   synthetic_soil_weather_002                -0.007176       CO\n",
      "2   synthetic_soil_weather_003                -0.008677       CO\n",
      "3   synthetic_soil_weather_004                -0.014495       CO\n",
      "4   synthetic_soil_weather_005                -0.012073       CO\n",
      "5   synthetic_soil_weather_006                -0.011151       CO\n",
      "6   synthetic_soil_weather_007                -0.014111       CO\n",
      "7   synthetic_soil_weather_008                -0.009140       CO\n",
      "8   synthetic_soil_weather_009                -0.011115       CO\n",
      "9   synthetic_soil_weather_010                -0.009889       CO\n",
      "10  synthetic_soil_weather_011                -0.010433       CO\n",
      "11  synthetic_soil_weather_012                -0.010876       CO\n",
      "12  synthetic_soil_weather_013                -0.002871       CO\n",
      "13  synthetic_soil_weather_014                -0.014503       CO\n",
      "14  synthetic_soil_weather_015                -0.010111       CO\n",
      "15  synthetic_soil_weather_016                -0.013967       CO\n",
      "16  synthetic_soil_weather_017                -0.005872       CO\n",
      "17  synthetic_soil_weather_018                -0.012830       CO\n",
      "18  synthetic_soil_weather_019                -0.007804       CO\n",
      "19  synthetic_soil_weather_020                -0.007442       CO\n",
      "20  synthetic_soil_weather_021                -0.014001       CO\n",
      "21  synthetic_soil_weather_022                -0.006808       CO\n",
      "22  synthetic_soil_weather_023                -0.017658       CO\n",
      "23  synthetic_soil_weather_024                -0.012073       CO\n",
      "24  synthetic_soil_weather_025                -0.010067       CO\n",
      "25  synthetic_soil_weather_026                -0.009291       CO\n",
      "26  synthetic_soil_weather_027                -0.010105       CO\n",
      "27  synthetic_soil_weather_028                -0.004012       CO\n",
      "28  synthetic_soil_weather_029                -0.009112       CO\n",
      "29  synthetic_soil_weather_030                -0.010615       CO\n",
      "30  synthetic_soil_weather_031                -0.011067       CO\n",
      "31  synthetic_soil_weather_032                -0.007082       CO\n",
      "32  synthetic_soil_weather_033                -0.004730       CO\n",
      "33  synthetic_soil_weather_034                -0.010691       CO\n",
      "34  synthetic_soil_weather_035                -0.009142       CO\n",
      "35  synthetic_soil_weather_036                -0.009825       CO\n",
      "36  synthetic_soil_weather_037                -0.009562       CO\n",
      "37  synthetic_soil_weather_038                -0.011272       CO\n",
      "38  synthetic_soil_weather_039                -0.007068       CO\n",
      "39  synthetic_soil_weather_040                -0.007665       CO\n",
      "40  synthetic_soil_weather_041                -0.007261       CO\n",
      "41  synthetic_soil_weather_042                -0.009818       CO\n",
      "42  synthetic_soil_weather_043                -0.010341       CO\n",
      "43  synthetic_soil_weather_044                -0.007106       CO\n",
      "44  synthetic_soil_weather_045                -0.011261       CO\n",
      "45  synthetic_soil_weather_046                -0.011135       CO\n",
      "46  synthetic_soil_weather_047                -0.006825       CO\n",
      "47  synthetic_soil_weather_048                -0.013049       CO\n",
      "48  synthetic_soil_weather_049                -0.009393       CO\n"
     ]
    }
   ],
   "source": [
    "# test the data import\n",
    "df_test = import_df_from_zip_pkl(path_to_dataset, index=n_samples-1)\n",
    "df_info = import_df_info_from_zip(path_to_dataset)\n",
    "print(df_info.tail(-1))"
   ]
  },
  {
   "cell_type": "code",
   "execution_count": 124,
   "metadata": {},
   "outputs": [],
   "source": [
    "\n",
    "\n",
    "poa_reference_02 = pd.read_pickle('../data/raw/clear_sky_CO.pkl', compression='gzip')\n",
    "\n",
    "t_begin = pd.Timestamp('2015-01-01 00:00:00').tz_localize('Etc/GMT+7')\n",
    "t_final = pd.Timestamp('2019-12-31 23:59:00').tz_localize('Etc/GMT+7')\n",
    "datetime_01 = pd.date_range(t_begin, poa_reference_02.index[0], freq='min')[:-1]\n",
    "datetime_03 = pd.date_range(poa_reference_02.index[-1], t_final, freq='min')[1:]\n",
    "\n",
    "poa_reference_01 = pd.Series(data=0., index=datetime_01, name='POAcs')\n",
    "poa_reference_03 = pd.Series(data=0., index=datetime_03, name='POAcs')\n",
    "\n",
    "poa_reference_co = pd.concat((poa_reference_01, poa_reference_02, poa_reference_03))\n",
    "\n",
    "#print(pd.Timedelta(poa_reference_02.index[0] - t_begin).seconds / 60)\n",
    "#print(pd.Timedelta(t_final - poa_reference_02.index[-1]).seconds / 60)\n",
    "#print(pd.date_range(t_begin, poa_reference_02.index[0], freq='min')[:-1].size)\n",
    "#print(pd.date_range(poa_reference_02.index[-1], t_final, freq='min')[1:].size)\n",
    "\n",
    "#poa_reference[:7*1440].plot()\n",
    "#print(df.POA.size - poa_reference.size)\n"
   ]
  },
  {
   "cell_type": "code",
   "execution_count": 125,
   "metadata": {},
   "outputs": [
    {
     "name": "stdout",
     "output_type": "stream",
     "text": [
      "0.10 % of data remaining after clearsky-detection, nighttime-removal, and clipping-removal\n"
     ]
    }
   ],
   "source": [
    "for index in range(1):\n",
    "    df = import_df_from_zip_pkl(path_to_dataset, index)\n",
    "    \n",
    "    outlier_threshold = 0.0\n",
    "    \n",
    "    if data_key in ['basic', 'soil']:\n",
    "        clearsky = False\n",
    "    else:\n",
    "        clearsky = True\n",
    "    \n",
    "    if data_key in ['basic', 'soil']:\n",
    "        poa_reference = None\n",
    "    elif data_key in ['soil_weather', 'weather']:\n",
    "        poa_reference = poa_reference_co\n",
    "    \n",
    "    p_norm_daily_clipping_basic = normalize_power_signal(df, poa_reference, clearsky=clearsky, clipping='basic', verbose=True, outlier_threshold = outlier_threshold)\n",
    "    #p_norm_daily_clipping_flexible = normalize_power_signal(df, poa_reference, clearsky=clearsky, nighttime=True, clipping='flexible', verbose=True, outlier_threshold = outlier_threshold)\n",
    "    #p_norm_daily_clipping_universal = normalize_power_signal(df, poa_reference, clearsky=clearsky, nighttime=True, clipping='universal', verbose=True, outlier_threshold = outlier_threshold)\n",
    "       \n",
    "    #df_pkl = downsample_dataframe(df)\n",
    "    #df_pkl['PI_clipping_basic'] = p_norm_daily_clipping_basic\n",
    "    #df_pkl['PI_clipping_flexible'] = p_norm_daily_clipping_flexible\n",
    "    #df_pkl['PI_clipping_universal'] = p_norm_daily_clipping_universal\n",
    "    #df_pkl.to_pickle('../data/raw/synthetic_{:s}_pi_daily_{:s}.pkl'.format(data_key, str(index+1).zfill(3)), compression = 'gzip', protocol = 3)"
   ]
  },
  {
   "cell_type": "code",
   "execution_count": 126,
   "metadata": {},
   "outputs": [
    {
     "data": {
      "text/plain": [
       "<AxesSubplot:xlabel='datetime'>"
      ]
     },
     "execution_count": 126,
     "metadata": {},
     "output_type": "execute_result"
    },
    {
     "data": {
      "image/png": "[encoded data removed]",
      "text/plain": [
       "<Figure size 432x288 with 1 Axes>"
      ]
     },
     "metadata": {
      "needs_background": "light"
     },
     "output_type": "display_data"
    }
   ],
   "source": [
    "p_norm_daily_clipping_basic.plot()\n",
    "#df_pkl[df_pkl.PI_clipping_flexible.notna()].PI_clipping_flexible.plot()\n",
    "#df_pkl[df_pkl.PI_clipping_universal.notna()].PI_clipping_universal.plot()\n",
    "#print(p_norm_daily_clipping_basic[:20])\n",
    "#night_mask = df.Power != -1.\n",
    "#print(df.POA[df.Power != -1.])"
   ]
  },
  {
   "cell_type": "code",
   "execution_count": 90,
   "metadata": {},
   "outputs": [],
   "source": [
    "def detect_outliers(pi_signal, threshold_min = 0.70, threshold_max = 1.00, verbose=False):\n",
    "    \n",
    "    signal_size = df_pi.PI_clipping_basic.size\n",
    "    signal_notna_size = df_pi.PI_clipping_basic.notna().sum()\n",
    "    n_nans_before = df_pi.PI_clipping_basic.isna().sum()\n",
    "    \n",
    "    if verbose is True:\n",
    "        print(f'\\nPI signal contains {n_nans_before / signal_size * 100.:.2f} % NaNs\\n')\n",
    "    \n",
    "    mask_outliers_above = df_pi.PI_clipping_basic > threshold_max\n",
    "    mask_outliers_below = df_pi.PI_clipping_basic < threshold_min\n",
    "    mask_outliers = np.logical_or(mask_outliers_above, mask_outliers_below)\n",
    "    n_outliers = mask_outliers.sum()\n",
    "    ratio_outliers = n_outliers / signal_notna_size\n",
    "    percent_outliers = ratio_outliers * 100.\n",
    "    \n",
    "    if verbose is True:\n",
    "        print(f'detected {n_outliers:d} outliers (corresponging to {percent_outliers:.2f} % of non-NaN PI signal)\\n')\n",
    "    \n",
    "    return mask_outliers, n_outliers, ratio_outliers\n",
    "    \n",
    "    \n",
    "    \n",
    "    "
   ]
  },
  {
   "cell_type": "code",
   "execution_count": 95,
   "metadata": {},
   "outputs": [
    {
     "name": "stdout",
     "output_type": "stream",
     "text": [
      "0.025889967637540454 32\n"
     ]
    }
   ],
   "source": [
    "path = '../data/raw/new/synthetic_soil_weather_pi_daily_uniform.zip'\n",
    "\n",
    "perc_max = 0\n",
    "num_max = 0\n",
    "for i in range(50):\n",
    "    df_pi = import_df_from_zip_pkl(path, index=i, minofday=False)\n",
    "    mask, num, perc = detect_outliers(df_pi.PI_clipping_basic)\n",
    "    if perc > perc_max: perc_max = perc\n",
    "    if num > num_max: num_max = num\n",
    "\n",
    "print(perc, num)"
   ]
  },
  {
   "cell_type": "code",
   "execution_count": 59,
   "metadata": {},
   "outputs": [
    {
     "name": "stdout",
     "output_type": "stream",
     "text": [
      "\n",
      "performance index contains 29.74 % NaNs\n",
      "\n",
      "detected 51 outliers\n",
      "\n",
      "51\n"
     ]
    }
   ],
   "source": [
    "path = '../data/raw/new/synthetic_soil_weather_pi_daily_uniform.zip'\n",
    "df_pi = import_df_from_zip_pkl(path, index=0, minofday=False)\n",
    "\n",
    "detect_outliers(df_pi.PI_clipping_basic, 0.6, 1.0)"
   ]
  },
  {
   "cell_type": "code",
   "execution_count": 35,
   "metadata": {},
   "outputs": [
    {
     "name": "stdout",
     "output_type": "stream",
     "text": [
      "0.0015334063526834612\n",
      "0.0017524644030668128\n",
      "0.0023001095290251915\n",
      "0.003943044906900329\n",
      "0.0025191675794085434\n",
      "0.0035049288061336256\n",
      "0.0013143483023001095\n",
      "0.0016429353778751369\n",
      "0.0009857612267250822\n",
      "0.0009857612267250822\n",
      "0.0012048192771084338\n",
      "0.0014238773274917853\n",
      "0.00208105147864184\n",
      "0.0014238773274917853\n",
      "0.0016429353778751369\n",
      "0.0018619934282584885\n",
      "0.0014238773274917853\n",
      "0.0019715224534501644\n",
      "0.0038335158817086527\n",
      "0.001095290251916758\n",
      "0.0008762322015334064\n",
      "0.0009857612267250822\n",
      "0.0009857612267250822\n",
      "0.00208105147864184\n",
      "0.0019715224534501644\n",
      "0.0040525739320920046\n",
      "0.004271631982475356\n",
      "0.0006571741511500548\n",
      "0.0007667031763417306\n",
      "0.0024096385542168677\n",
      "0.0009857612267250822\n",
      "0.0012048192771084338\n",
      "0.00208105147864184\n",
      "0.0008762322015334064\n",
      "0.0017524644030668128\n",
      "0.0032858707557502738\n",
      "0.0017524644030668128\n",
      "0.0016429353778751369\n",
      "0.002628696604600219\n",
      "0.003723986856516977\n",
      "0.0013143483023001095\n",
      "0.0025191675794085434\n",
      "0.001095290251916758\n",
      "0.0019715224534501644\n",
      "0.0007667031763417306\n",
      "0.002190580503833516\n",
      "0.0024096385542168677\n",
      "0.0019715224534501644\n",
      "0.0015334063526834612\n",
      "0.0030668127053669223\n",
      "0.00208105147864184\n",
      "0.0007667031763417306\n",
      "0.0019715224534501644\n",
      "0.0018619934282584885\n",
      "0.0012048192771084338\n",
      "0.0009857612267250822\n",
      "0.0007667031763417306\n",
      "0.0024096385542168677\n",
      "0.0040525739320920046\n",
      "0.0012048192771084338\n",
      "0.002190580503833516\n",
      "0.0018619934282584885\n",
      "0.0006571741511500548\n",
      "0.0009857612267250822\n",
      "0.0014238773274917853\n",
      "0.001095290251916758\n",
      "0.0018619934282584885\n",
      "0.001095290251916758\n",
      "0.0009857612267250822\n",
      "0.0012048192771084338\n",
      "0.0014238773274917853\n",
      "0.0007667031763417306\n",
      "0.0017524644030668128\n",
      "0.0016429353778751369\n",
      "0.002738225629791895\n",
      "0.0030668127053669223\n",
      "0.001095290251916758\n",
      "0.0025191675794085434\n",
      "0.0018619934282584885\n",
      "0.0038335158817086527\n",
      "0.0015334063526834612\n",
      "0.000547645125958379\n",
      "0.0017524644030668128\n",
      "0.0019715224534501644\n",
      "0.0019715224534501644\n",
      "0.0017524644030668128\n",
      "0.00208105147864184\n",
      "0.0018619934282584885\n",
      "0.003943044906900329\n",
      "0.0033953997809419495\n",
      "0.0016429353778751369\n",
      "0.0035049288061336256\n",
      "0.0007667031763417306\n",
      "0.0013143483023001095\n",
      "0.002738225629791895\n",
      "0.0025191675794085434\n",
      "0.0017524644030668128\n",
      "0.0009857612267250822\n",
      "0.0006571741511500548\n",
      "0.0015334063526834612\n",
      "0.0009857612267250822\n",
      "0.0012048192771084338\n",
      "0.0015334063526834612\n",
      "0.0012048192771084338\n",
      "0.0008762322015334064\n",
      "0.0014238773274917853\n",
      "0.0014238773274917853\n",
      "0.001095290251916758\n",
      "0.0012048192771084338\n",
      "0.002190580503833516\n",
      "0.0019715224534501644\n",
      "0.002628696604600219\n",
      "0.0024096385542168677\n",
      "0.0024096385542168677\n",
      "0.0016429353778751369\n",
      "0.0002190580503833516\n",
      "0.002738225629791895\n",
      "0.0013143483023001095\n",
      "0.0012048192771084338\n",
      "0.0014238773274917853\n",
      "0.0007667031763417306\n",
      "0.0013143483023001095\n",
      "0.0015334063526834612\n",
      "0.0012048192771084338\n",
      "0.0019715224534501644\n",
      "0.00208105147864184\n",
      "0.0025191675794085434\n",
      "0.0015334063526834612\n",
      "0.0030668127053669223\n",
      "0.003176341730558598\n",
      "0.00208105147864184\n",
      "0.0036144578313253013\n",
      "0.0012048192771084338\n",
      "0.0013143483023001095\n",
      "0.0018619934282584885\n",
      "0.0030668127053669223\n",
      "0.0009857612267250822\n",
      "0.0029572836801752466\n",
      "0.0009857612267250822\n",
      "0.00208105147864184\n",
      "0.0008762322015334064\n",
      "0.0018619934282584885\n",
      "0.0019715224534501644\n",
      "0.002738225629791895\n",
      "0.0012048192771084338\n",
      "0.0017524644030668128\n",
      "0.0012048192771084338\n",
      "0.002190580503833516\n",
      "0.0030668127053669223\n",
      "0.004819277108433735\n"
     ]
    },
    {
     "data": {
      "text/plain": [
       "0"
      ]
     },
     "execution_count": 35,
     "metadata": {},
     "output_type": "execute_result"
    }
   ],
   "source": [
    "\n",
    "\n",
    "\n",
    "\n",
    "\n",
    "# test\n",
    "#path = '../synthetic_soil_weather_pi_daily_001.pkl'\n",
    "path = '../data/raw/new/synthetic_soil_weather_pi_daily_uniform.zip'\n",
    "#df_pi = pd.read_pickle(path, compression='gzip')\n",
    "global_min = 1.0\n",
    "global_max = 1.0\n",
    "for i in range(150):\n",
    "    df_pi = import_df_from_zip_pkl(path, index=i,minofday=False)\n",
    "    local_min = df_pi.PI_clipping_basic.min()\n",
    "    local_max = df_pi.PI_clipping_basic.max()\n",
    "    if local_max > global_max: global_max = local_max\n",
    "    #df_pi.PI_clipping_basic.plot()\n",
    "    #plt.show()\n",
    "    #df_pi = df_pi[df_pi.PI_clipping_basic.notna()]\n",
    "    print((df_pi.PI_clipping_basic > 1.0).sum() / df_pi.size)\n",
    "    \n",
    "    \n",
    "0\n",
    "#print(df_pi.PI_clipping_basic.isna().sum())\n",
    "#print(local_min, local_max)\n",
    "#df_pi[df_pi.PI_clipping_basic.notna()].PI_clipping_basic.plot()\n",
    "#df_pi[df_pi.PI_clipping_flexible.notna()].PI_clipping_flexible.plot()\n",
    "#df_pi[df_pi.PI_clipping_universal.notna()].PI_clipping_universal.plot()\n"
   ]
  },
  {
   "cell_type": "code",
   "execution_count": 40,
   "metadata": {},
   "outputs": [
    {
     "data": {
      "text/plain": [
       "datetime\n",
       "2015-01-02 00:00:00-07:00    False\n",
       "2015-01-09 00:00:00-07:00    False\n",
       "2015-01-16 00:00:00-07:00    False\n",
       "2015-01-25 00:00:00-07:00    False\n",
       "2015-01-30 00:00:00-07:00    False\n",
       "                             ...  \n",
       "2019-12-18 00:00:00-07:00    False\n",
       "2019-12-21 00:00:00-07:00    False\n",
       "2019-12-26 00:00:00-07:00    False\n",
       "2019-12-29 00:00:00-07:00    False\n",
       "2019-12-31 00:00:00-07:00    False\n",
       "Name: PI_clipping_basic, Length: 584, dtype: bool"
      ]
     },
     "execution_count": 40,
     "metadata": {},
     "output_type": "execute_result"
    }
   ],
   "source": [
    "df_pi = df_pi[df_pi.PI_clipping_basic.isna()]\n",
    "df_pi.PI_clipping_basic > 1."
   ]
  },
  {
   "cell_type": "code",
   "execution_count": null,
   "metadata": {},
   "outputs": [],
   "source": [
    "help(import_df_from_zip_pkl)"
   ]
  },
  {
   "cell_type": "code",
   "execution_count": null,
   "metadata": {},
   "outputs": [],
   "source": []
  }
 ],
 "metadata": {
  "kernelspec": {
   "display_name": "Python 3",
   "language": "python",
   "name": "python3"
  },
  "language_info": {
   "codemirror_mode": {
    "name": "ipython",
    "version": 3
   },
   "file_extension": ".py",
   "mimetype": "text/x-python",
   "name": "python",
   "nbconvert_exporter": "python",
   "pygments_lexer": "ipython3",
   "version": "3.8.2"
  }
 },
 "nbformat": 4,
 "nbformat_minor": 4
}
