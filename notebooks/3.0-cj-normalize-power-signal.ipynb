{
 "cells": [
  {
   "cell_type": "code",
   "execution_count": 9,
   "metadata": {},
   "outputs": [
    {
     "name": "stdout",
     "output_type": "stream",
     "text": [
      "The autoreload extension is already loaded. To reload it, use:\n",
      "  %reload_ext autoreload\n"
     ]
    }
   ],
   "source": [
    "# In the root of the repo run \"pip install --editable .\"\n",
    "\n",
    "# OPTIONAL: Load the \"autoreload\" extension so that code can change\n",
    "%load_ext autoreload\n",
    "\n",
    "# OPTIONAL: always reload modules so that as you change code in src, it gets loaded\n",
    "%autoreload 2"
   ]
  },
  {
   "cell_type": "markdown",
   "metadata": {},
   "source": [
    "# Normalization of Power Signal\n",
    "\n",
    "Author: Clemens Jochum"
   ]
  },
  {
   "cell_type": "code",
   "execution_count": 10,
   "metadata": {},
   "outputs": [],
   "source": [
    "import pandas as pd\n",
    "import matplotlib.pyplot as plt\n",
    "import numpy as np\n",
    "from src.data.import_data import import_df_from_zip_pkl, import_df_info_from_zip\n",
    "from src.features.performance_index import normalize_power_signal\n",
    "from src.data.make_dataset import downsample_dataframe"
   ]
  },
  {
   "cell_type": "code",
   "execution_count": 11,
   "metadata": {},
   "outputs": [],
   "source": [
    "from warnings import filterwarnings\n",
    "filterwarnings('ignore')\n",
    "\n",
    "#plt.rcParams[\"figure.figsize\"] = [10, 5]\n",
    "#plt.rcParams['figure.dpi'] = 250\n",
    "#'font.size': 10, 'savefig.dpi': 72, 'figure.subplot.bottom': 0.125"
   ]
  },
  {
   "cell_type": "markdown",
   "metadata": {},
   "source": [
    "### Import Datasets\n",
    "\n",
    "Import a range of datasets for each type of synthetic data."
   ]
  },
  {
   "cell_type": "code",
   "execution_count": 122,
   "metadata": {},
   "outputs": [],
   "source": [
    "data_key = 'weather'\n",
    "\n",
    "n_samples = 50\n",
    "path_to_data_raw = '../data/raw/'\n",
    "path_to_dataset = '{0:s}/synthetic_{1:s}.zip'.format(path_to_data_raw, data_key)"
   ]
  },
  {
   "cell_type": "code",
   "execution_count": 123,
   "metadata": {},
   "outputs": [
    {
     "name": "stdout",
     "output_type": "stream",
     "text": [
      "                   Plant  Degradation_rate_linear Location\n",
      "0  synthetic_weather_001                -0.012921       CO\n",
      "1  synthetic_weather_002                -0.001933       CO\n",
      "2  synthetic_weather_003                -0.009091       CO\n",
      "3  synthetic_weather_004                -0.007268       CO\n",
      "4  synthetic_weather_005                -0.005479       CO\n",
      "                    Plant  Degradation_rate_linear Location\n",
      "45  synthetic_weather_046                -0.015841       CO\n",
      "46  synthetic_weather_047                -0.008255       CO\n",
      "47  synthetic_weather_048                -0.008136       CO\n",
      "48  synthetic_weather_049                -0.010673       CO\n",
      "49  synthetic_weather_050                -0.014785       CO\n"
     ]
    }
   ],
   "source": [
    "#df = import_df_from_zip_pkl(path_to_dataset, index)\n",
    "df_info = import_df_info_from_zip(path_to_dataset)\n",
    "print(df_info.head())\n",
    "print(df_info.tail())"
   ]
  },
  {
   "cell_type": "code",
   "execution_count": 124,
   "metadata": {},
   "outputs": [],
   "source": [
    "poa_reference_02 = pd.read_pickle('../data/raw/clear_sky_CO.pkl', compression='gzip')\n",
    "\n",
    "t_begin = pd.Timestamp('2015-01-01 00:00:00').tz_localize('Etc/GMT+7')\n",
    "t_final = pd.Timestamp('2019-12-31 23:59:00').tz_localize('Etc/GMT+7')\n",
    "datetime_01 = pd.date_range(t_begin, poa_reference_02.index[0], freq='min')[:-1]\n",
    "datetime_03 = pd.date_range(poa_reference_02.index[-1], t_final, freq='min')[1:]\n",
    "\n",
    "poa_reference_01 = pd.Series(data=0., index=datetime_01, name='POAcs')\n",
    "poa_reference_03 = pd.Series(data=0., index=datetime_03, name='POAcs')\n",
    "\n",
    "poa_reference_co = pd.concat((poa_reference_01, poa_reference_02, poa_reference_03))\n",
    "\n",
    "#print(pd.Timedelta(poa_reference_02.index[0] - t_begin).seconds / 60)\n",
    "#print(pd.Timedelta(t_final - poa_reference_02.index[-1]).seconds / 60)\n",
    "#print(pd.date_range(t_begin, poa_reference_02.index[0], freq='min')[:-1].size)\n",
    "#print(pd.date_range(poa_reference_02.index[-1], t_final, freq='min')[1:].size)\n",
    "\n",
    "#poa_reference[:7*1440].plot()\n",
    "#print(df.POA.size - poa_reference.size)\n"
   ]
  },
  {
   "cell_type": "code",
   "execution_count": 125,
   "metadata": {},
   "outputs": [
    {
     "name": "stdout",
     "output_type": "stream",
     "text": [
      "0.10 % of data remaining after clearsky-detection, nighttime-removal, and clipping-removal\n"
     ]
    }
   ],
   "source": [
    "for index in range(1):\n",
    "    df = import_df_from_zip_pkl(path_to_dataset, index)\n",
    "    \n",
    "    outlier_threshold = 0.0\n",
    "    \n",
    "    if data_key in ['basic', 'soil']:\n",
    "        clearsky = False\n",
    "    else:\n",
    "        clearsky = True\n",
    "    \n",
    "    if data_key in ['basic', 'soil']:\n",
    "        poa_reference = None\n",
    "    elif data_key in ['soil_weather', 'weather']:\n",
    "        poa_reference = poa_reference_co\n",
    "    \n",
    "    p_norm_daily_clipping_basic = normalize_power_signal(df, poa_reference, clearsky=clearsky, clipping='basic', verbose=True, outlier_threshold = outlier_threshold)\n",
    "    #p_norm_daily_clipping_flexible = normalize_power_signal(df, poa_reference, clearsky=clearsky, nighttime=True, clipping='flexible', verbose=True, outlier_threshold = outlier_threshold)\n",
    "    #p_norm_daily_clipping_universal = normalize_power_signal(df, poa_reference, clearsky=clearsky, nighttime=True, clipping='universal', verbose=True, outlier_threshold = outlier_threshold)\n",
    "       \n",
    "    #df_pkl = downsample_dataframe(df)\n",
    "    #df_pkl['PI_clipping_basic'] = p_norm_daily_clipping_basic\n",
    "    #df_pkl['PI_clipping_flexible'] = p_norm_daily_clipping_flexible\n",
    "    #df_pkl['PI_clipping_universal'] = p_norm_daily_clipping_universal\n",
    "    #df_pkl.to_pickle('../data/raw/synthetic_{:s}_pi_daily_{:s}.pkl'.format(data_key, str(index+1).zfill(3)), compression = 'gzip', protocol = 3)"
   ]
  },
  {
   "cell_type": "code",
   "execution_count": 126,
   "metadata": {},
   "outputs": [
    {
     "data": {
      "text/plain": [
       "<AxesSubplot:xlabel='datetime'>"
      ]
     },
     "execution_count": 126,
     "metadata": {},
     "output_type": "execute_result"
    },
    {
     "data": {
      "image/png": "[encoded data removed]",
      "text/plain": [
       "<Figure size 432x288 with 1 Axes>"
      ]
     },
     "metadata": {
      "needs_background": "light"
     },
     "output_type": "display_data"
    }
   ],
   "source": [
    "p_norm_daily_clipping_basic.plot()\n",
    "#df_pkl[df_pkl.PI_clipping_flexible.notna()].PI_clipping_flexible.plot()\n",
    "#df_pkl[df_pkl.PI_clipping_universal.notna()].PI_clipping_universal.plot()\n",
    "#print(p_norm_daily_clipping_basic[:20])\n",
    "#night_mask = df.Power != -1.\n",
    "#print(df.POA[df.Power != -1.])"
   ]
  },
  {
   "cell_type": "code",
   "execution_count": null,
   "metadata": {},
   "outputs": [],
   "source": [
    "import_df_from_zip_pkl"
   ]
  },
  {
   "cell_type": "code",
   "execution_count": 137,
   "metadata": {},
   "outputs": [
    {
     "data": {
      "text/plain": [
       "<AxesSubplot:xlabel='datetime'>"
      ]
     },
     "execution_count": 137,
     "metadata": {},
     "output_type": "execute_result"
    },
    {
     "data": {
      "image/png": "[encoded data removed]",
      "text/plain": [
       "<Figure size 432x288 with 1 Axes>"
      ]
     },
     "metadata": {
      "needs_background": "light"
     },
     "output_type": "display_data"
    }
   ],
   "source": [
    "# test\n",
    "#path = '../synthetic_soil_weather_pi_daily_001.pkl'\n",
    "path = '../data/raw/new/synthetic_soil_weather_pi_daily_uniform.zip'\n",
    "#df_pi = pd.read_pickle(path, compression='gzip')\n",
    "df_pi = import_df_from_zip_pkl(path, index=50,minofday=False)\n",
    "#print(df_pi.PI_clipping_basic.isna().sum())\n",
    "\n",
    "df_pi[df_pi.PI_clipping_basic.notna()].PI_clipping_basic.plot()\n",
    "#df_pi[df_pi.PI_clipping_flexible.notna()].PI_clipping_flexible.plot()\n",
    "#df_pi[df_pi.PI_clipping_universal.notna()].PI_clipping_universal.plot()\n"
   ]
  },
  {
   "cell_type": "code",
   "execution_count": null,
   "metadata": {},
   "outputs": [],
   "source": [
    "help(import_df_from_zip_pkl)"
   ]
  },
  {
   "cell_type": "code",
   "execution_count": null,
   "metadata": {},
   "outputs": [],
   "source": []
  }
 ],
 "metadata": {
  "kernelspec": {
   "display_name": "Python 3",
   "language": "python",
   "name": "python3"
  },
  "language_info": {
   "codemirror_mode": {
    "name": "ipython",
    "version": 3
   },
   "file_extension": ".py",
   "mimetype": "text/x-python",
   "name": "python",
   "nbconvert_exporter": "python",
   "pygments_lexer": "ipython3",
   "version": "3.8.2"
  }
 },
 "nbformat": 4,
 "nbformat_minor": 4
}
