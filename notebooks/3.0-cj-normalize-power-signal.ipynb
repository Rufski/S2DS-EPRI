{
 "cells": [
  {
   "cell_type": "code",
   "execution_count": 1,
   "metadata": {},
   "outputs": [],
   "source": [
    "# In the root of the repo run \"pip install --editable .\"\n",
    "\n",
    "# OPTIONAL: Load the \"autoreload\" extension so that code can change\n",
    "%load_ext autoreload\n",
    "\n",
    "# OPTIONAL: always reload modules so that as you change code in src, it gets loaded\n",
    "%autoreload 2"
   ]
  },
  {
   "cell_type": "markdown",
   "metadata": {},
   "source": [
    "# Normalization of Power Signal\n",
    "\n",
    "Author: Clemens Jochum"
   ]
  },
  {
   "cell_type": "code",
   "execution_count": 2,
   "metadata": {},
   "outputs": [],
   "source": [
    "import pandas as pd\n",
    "import matplotlib.pyplot as plt\n",
    "import numpy as np\n",
    "from src.data.import_data import import_df_from_zip_pkl, import_df_info_from_zip\n",
    "from src.features.normalize_power_get_pi import normalize_power_signal\n",
    "from src.data.make_dataset import downsample_dataframe"
   ]
  },
  {
   "cell_type": "code",
   "execution_count": 45,
   "metadata": {},
   "outputs": [],
   "source": [
    "from warnings import filterwarnings\n",
    "filterwarnings('ignore')\n",
    "\n",
    "#plt.rcParams[\"figure.figsize\"] = [10, 5]\n",
    "#plt.rcParams['figure.dpi'] = 250\n",
    "#'font.size': 10, 'savefig.dpi': 72, 'figure.subplot.bottom': 0.125"
   ]
  },
  {
   "cell_type": "markdown",
   "metadata": {},
   "source": [
    "### Import Datasets\n",
    "\n",
    "Import a range of datasets for each type of synthetic data."
   ]
  },
  {
   "cell_type": "code",
   "execution_count": 46,
   "metadata": {},
   "outputs": [],
   "source": [
    "n_samples = 50\n",
    "data_key = 'weather'\n",
    "data_reference_key = 'soil'\n",
    "\n",
    "path_to_data_raw = '../data/raw/'\n",
    "path_to_dataset = '{0:s}/synthetic_{1:s}.zip'.format(path_to_data_raw, data_key)\n",
    "path_to_dataset_reference = '{0:s}/synthetic_{1:s}.zip'.format(path_to_data_raw, data_reference_key)"
   ]
  },
  {
   "cell_type": "code",
   "execution_count": 47,
   "metadata": {},
   "outputs": [
    {
     "data": {
      "text/html": [
       "<div>\n",
       "<style scoped>\n",
       "    .dataframe tbody tr th:only-of-type {\n",
       "        vertical-align: middle;\n",
       "    }\n",
       "\n",
       "    .dataframe tbody tr th {\n",
       "        vertical-align: top;\n",
       "    }\n",
       "\n",
       "    .dataframe thead th {\n",
       "        text-align: right;\n",
       "    }\n",
       "</style>\n",
       "<table border=\"1\" class=\"dataframe\">\n",
       "  <thead>\n",
       "    <tr style=\"text-align: right;\">\n",
       "      <th></th>\n",
       "      <th>Plant</th>\n",
       "      <th>Degradation_rate_linear</th>\n",
       "      <th>Location</th>\n",
       "    </tr>\n",
       "  </thead>\n",
       "  <tbody>\n",
       "    <tr>\n",
       "      <th>0</th>\n",
       "      <td>synthetic_weather_001</td>\n",
       "      <td>-0.012921</td>\n",
       "      <td>CO</td>\n",
       "    </tr>\n",
       "    <tr>\n",
       "      <th>1</th>\n",
       "      <td>synthetic_weather_002</td>\n",
       "      <td>-0.001933</td>\n",
       "      <td>CO</td>\n",
       "    </tr>\n",
       "    <tr>\n",
       "      <th>2</th>\n",
       "      <td>synthetic_weather_003</td>\n",
       "      <td>-0.009091</td>\n",
       "      <td>CO</td>\n",
       "    </tr>\n",
       "    <tr>\n",
       "      <th>3</th>\n",
       "      <td>synthetic_weather_004</td>\n",
       "      <td>-0.007268</td>\n",
       "      <td>CO</td>\n",
       "    </tr>\n",
       "    <tr>\n",
       "      <th>4</th>\n",
       "      <td>synthetic_weather_005</td>\n",
       "      <td>-0.005479</td>\n",
       "      <td>CO</td>\n",
       "    </tr>\n",
       "  </tbody>\n",
       "</table>\n",
       "</div>"
      ],
      "text/plain": [
       "                   Plant  Degradation_rate_linear Location\n",
       "0  synthetic_weather_001                -0.012921       CO\n",
       "1  synthetic_weather_002                -0.001933       CO\n",
       "2  synthetic_weather_003                -0.009091       CO\n",
       "3  synthetic_weather_004                -0.007268       CO\n",
       "4  synthetic_weather_005                -0.005479       CO"
      ]
     },
     "execution_count": 47,
     "metadata": {},
     "output_type": "execute_result"
    }
   ],
   "source": [
    "import_df_info_from_zip(path_to_dataset).head()"
   ]
  },
  {
   "cell_type": "code",
   "execution_count": 48,
   "metadata": {},
   "outputs": [
    {
     "name": "stdout",
     "output_type": "stream",
     "text": [
      "0.18 % of data remaining after clearsky detection.\n",
      "0.17 % of data remaining after night-time removal.\n",
      "0.13 % of data remaining after clipping removal.\n",
      "0.18 % of data remaining after clearsky detection.\n",
      "0.17 % of data remaining after night-time removal.\n",
      "0.12 % of data remaining after clipping removal.\n",
      "0.18 % of data remaining after clearsky detection.\n",
      "0.17 % of data remaining after night-time removal.\n",
      "0.13 % of data remaining after clipping removal.\n",
      "0.17 % of data remaining after clearsky detection.\n",
      "0.16 % of data remaining after night-time removal.\n",
      "0.12 % of data remaining after clipping removal.\n",
      "0.17 % of data remaining after clearsky detection.\n",
      "0.16 % of data remaining after night-time removal.\n",
      "0.11 % of data remaining after clipping removal.\n",
      "0.18 % of data remaining after clearsky detection.\n",
      "0.17 % of data remaining after night-time removal.\n",
      "0.13 % of data remaining after clipping removal.\n",
      "0.17 % of data remaining after clearsky detection.\n",
      "0.16 % of data remaining after night-time removal.\n",
      "0.12 % of data remaining after clipping removal.\n",
      "0.18 % of data remaining after clearsky detection.\n",
      "0.17 % of data remaining after night-time removal.\n",
      "0.13 % of data remaining after clipping removal.\n",
      "0.17 % of data remaining after clearsky detection.\n",
      "0.16 % of data remaining after night-time removal.\n",
      "0.12 % of data remaining after clipping removal.\n",
      "0.17 % of data remaining after clearsky detection.\n",
      "0.16 % of data remaining after night-time removal.\n",
      "0.12 % of data remaining after clipping removal.\n",
      "0.17 % of data remaining after clearsky detection.\n",
      "0.17 % of data remaining after night-time removal.\n",
      "0.12 % of data remaining after clipping removal.\n",
      "0.18 % of data remaining after clearsky detection.\n",
      "0.16 % of data remaining after night-time removal.\n",
      "0.12 % of data remaining after clipping removal.\n",
      "0.18 % of data remaining after clearsky detection.\n",
      "0.17 % of data remaining after night-time removal.\n",
      "0.12 % of data remaining after clipping removal.\n",
      "0.17 % of data remaining after clearsky detection.\n",
      "0.16 % of data remaining after night-time removal.\n",
      "0.12 % of data remaining after clipping removal.\n",
      "0.18 % of data remaining after clearsky detection.\n",
      "0.17 % of data remaining after night-time removal.\n",
      "0.13 % of data remaining after clipping removal.\n",
      "0.17 % of data remaining after clearsky detection.\n",
      "0.16 % of data remaining after night-time removal.\n",
      "0.12 % of data remaining after clipping removal.\n",
      "0.17 % of data remaining after clearsky detection.\n",
      "0.16 % of data remaining after night-time removal.\n",
      "0.12 % of data remaining after clipping removal.\n",
      "0.17 % of data remaining after clearsky detection.\n",
      "0.16 % of data remaining after night-time removal.\n",
      "0.12 % of data remaining after clipping removal.\n",
      "0.18 % of data remaining after clearsky detection.\n",
      "0.17 % of data remaining after night-time removal.\n",
      "0.13 % of data remaining after clipping removal.\n",
      "0.17 % of data remaining after clearsky detection.\n",
      "0.16 % of data remaining after night-time removal.\n",
      "0.12 % of data remaining after clipping removal.\n",
      "0.18 % of data remaining after clearsky detection.\n",
      "0.16 % of data remaining after night-time removal.\n",
      "0.12 % of data remaining after clipping removal.\n",
      "0.18 % of data remaining after clearsky detection.\n",
      "0.17 % of data remaining after night-time removal.\n",
      "0.12 % of data remaining after clipping removal.\n",
      "0.18 % of data remaining after clearsky detection.\n",
      "0.17 % of data remaining after night-time removal.\n",
      "0.12 % of data remaining after clipping removal.\n",
      "0.18 % of data remaining after clearsky detection.\n",
      "0.17 % of data remaining after night-time removal.\n",
      "0.13 % of data remaining after clipping removal.\n",
      "0.17 % of data remaining after clearsky detection.\n",
      "0.16 % of data remaining after night-time removal.\n",
      "0.12 % of data remaining after clipping removal.\n",
      "0.17 % of data remaining after clearsky detection.\n",
      "0.17 % of data remaining after night-time removal.\n",
      "0.12 % of data remaining after clipping removal.\n",
      "0.18 % of data remaining after clearsky detection.\n",
      "0.17 % of data remaining after night-time removal.\n",
      "0.12 % of data remaining after clipping removal.\n",
      "0.17 % of data remaining after clearsky detection.\n",
      "0.16 % of data remaining after night-time removal.\n",
      "0.12 % of data remaining after clipping removal.\n",
      "0.17 % of data remaining after clearsky detection.\n",
      "0.17 % of data remaining after night-time removal.\n",
      "0.12 % of data remaining after clipping removal.\n",
      "0.17 % of data remaining after clearsky detection.\n",
      "0.17 % of data remaining after night-time removal.\n",
      "0.12 % of data remaining after clipping removal.\n",
      "0.18 % of data remaining after clearsky detection.\n",
      "0.17 % of data remaining after night-time removal.\n",
      "0.13 % of data remaining after clipping removal.\n",
      "0.18 % of data remaining after clearsky detection.\n",
      "0.17 % of data remaining after night-time removal.\n",
      "0.13 % of data remaining after clipping removal.\n",
      "0.17 % of data remaining after clearsky detection.\n",
      "0.16 % of data remaining after night-time removal.\n",
      "0.12 % of data remaining after clipping removal.\n",
      "0.17 % of data remaining after clearsky detection.\n",
      "0.16 % of data remaining after night-time removal.\n",
      "0.12 % of data remaining after clipping removal.\n",
      "0.17 % of data remaining after clearsky detection.\n",
      "0.16 % of data remaining after night-time removal.\n",
      "0.12 % of data remaining after clipping removal.\n",
      "0.18 % of data remaining after clearsky detection.\n",
      "0.17 % of data remaining after night-time removal.\n",
      "0.13 % of data remaining after clipping removal.\n",
      "0.18 % of data remaining after clearsky detection.\n",
      "0.17 % of data remaining after night-time removal.\n",
      "0.12 % of data remaining after clipping removal.\n",
      "0.17 % of data remaining after clearsky detection.\n",
      "0.16 % of data remaining after night-time removal.\n",
      "0.12 % of data remaining after clipping removal.\n",
      "0.17 % of data remaining after clearsky detection.\n",
      "0.16 % of data remaining after night-time removal.\n",
      "0.12 % of data remaining after clipping removal.\n",
      "0.16 % of data remaining after clearsky detection.\n",
      "0.16 % of data remaining after night-time removal.\n",
      "0.12 % of data remaining after clipping removal.\n",
      "0.17 % of data remaining after clearsky detection.\n",
      "0.16 % of data remaining after night-time removal.\n",
      "0.12 % of data remaining after clipping removal.\n",
      "0.18 % of data remaining after clearsky detection.\n",
      "0.17 % of data remaining after night-time removal.\n",
      "0.13 % of data remaining after clipping removal.\n",
      "0.17 % of data remaining after clearsky detection.\n",
      "0.16 % of data remaining after night-time removal.\n",
      "0.12 % of data remaining after clipping removal.\n",
      "0.17 % of data remaining after clearsky detection.\n",
      "0.16 % of data remaining after night-time removal.\n",
      "0.12 % of data remaining after clipping removal.\n",
      "0.18 % of data remaining after clearsky detection.\n",
      "0.17 % of data remaining after night-time removal.\n",
      "0.12 % of data remaining after clipping removal.\n",
      "0.18 % of data remaining after clearsky detection.\n",
      "0.16 % of data remaining after night-time removal.\n",
      "0.12 % of data remaining after clipping removal.\n",
      "0.18 % of data remaining after clearsky detection.\n",
      "0.17 % of data remaining after night-time removal.\n",
      "0.13 % of data remaining after clipping removal.\n",
      "0.18 % of data remaining after clearsky detection.\n",
      "0.16 % of data remaining after night-time removal.\n",
      "0.12 % of data remaining after clipping removal.\n",
      "0.19 % of data remaining after clearsky detection.\n",
      "0.16 % of data remaining after night-time removal.\n",
      "0.12 % of data remaining after clipping removal.\n",
      "0.18 % of data remaining after clearsky detection.\n",
      "0.16 % of data remaining after night-time removal.\n",
      "0.12 % of data remaining after clipping removal.\n"
     ]
    }
   ],
   "source": [
    "for index in range(n_samples):\n",
    "    df = import_df_from_zip_pkl(path_to_dataset, index)\n",
    "    df_reference = df\n",
    "        \n",
    "    p_norm_daily = normalize_power_signal(df, df_reference.POA, clearsky=True, nighttime=True, clipping='basic', verbose=True, outlier_threshold = 0.70)\n",
    "       \n",
    "    df_pkl = downsample_dataframe(df)\n",
    "    df_pkl['PI'] = p_norm_daily\n",
    "    df_pkl.to_pickle('../data/raw/synthetic_{:s}_pi_daily_{:s}.pkl'.format(data_key, str(index+1).zfill(3)), compression = 'gzip', protocol = 3)"
   ]
  },
  {
   "cell_type": "code",
   "execution_count": null,
   "metadata": {},
   "outputs": [],
   "source": []
  },
  {
   "cell_type": "code",
   "execution_count": null,
   "metadata": {},
   "outputs": [],
   "source": []
  },
  {
   "cell_type": "code",
   "execution_count": 55,
   "metadata": {},
   "outputs": [
    {
     "data": {
      "text/plain": [
       "<AxesSubplot:xlabel='datetime'>"
      ]
     },
     "execution_count": 55,
     "metadata": {},
     "output_type": "execute_result"
    },
    {
     "data": {
      "image/png": "[encoded data removed]",
      "text/plain": [
       "<Figure size 432x288 with 1 Axes>"
      ]
     },
     "metadata": {
      "needs_background": "light"
     },
     "output_type": "display_data"
    }
   ],
   "source": [
    "# test\n",
    "df_pi = pd.read_pickle('../data/raw/synthetic_weather_pi_daily/synthetic_weather_pi_daily_001.pkl', compression = 'gzip')\n",
    "df_pi.PI.plot()"
   ]
  },
  {
   "cell_type": "code",
   "execution_count": null,
   "metadata": {},
   "outputs": [],
   "source": []
  }
 ],
 "metadata": {
  "kernelspec": {
   "display_name": "Python 3",
   "language": "python",
   "name": "python3"
  },
  "language_info": {
   "codemirror_mode": {
    "name": "ipython",
    "version": 3
   },
   "file_extension": ".py",
   "mimetype": "text/x-python",
   "name": "python",
   "nbconvert_exporter": "python",
   "pygments_lexer": "ipython3",
   "version": "3.8.2"
  }
 },
 "nbformat": 4,
 "nbformat_minor": 4
}
