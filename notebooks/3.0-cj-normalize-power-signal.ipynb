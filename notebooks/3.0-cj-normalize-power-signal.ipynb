{
 "cells": [
  {
   "cell_type": "code",
   "execution_count": 1,
   "metadata": {},
   "outputs": [],
   "source": [
    "# In the root of the repo run \"pip install --editable .\"\n",
    "\n",
    "# OPTIONAL: Load the \"autoreload\" extension so that code can change\n",
    "%load_ext autoreload\n",
    "\n",
    "# OPTIONAL: always reload modules so that as you change code in src, it gets loaded\n",
    "%autoreload 2"
   ]
  },
  {
   "cell_type": "markdown",
   "metadata": {},
   "source": [
    "# Normalization of Power Signal\n",
    "\n",
    "Author: Clemens Jochum"
   ]
  },
  {
   "cell_type": "code",
   "execution_count": 2,
   "metadata": {},
   "outputs": [],
   "source": [
    "import pandas as pd\n",
    "import matplotlib.pyplot as plt\n",
    "import numpy as np\n",
    "from src.data.import_data import import_df_from_zip_pkl, import_df_info_from_zip\n",
    "from src.features.performance_index import normalize_power_signal\n",
    "from src.data.make_dataset import downsample_dataframe"
   ]
  },
  {
   "cell_type": "code",
   "execution_count": 3,
   "metadata": {},
   "outputs": [],
   "source": [
    "from warnings import filterwarnings\n",
    "filterwarnings('ignore')\n",
    "\n",
    "#plt.rcParams[\"figure.figsize\"] = [10, 5]\n",
    "#plt.rcParams['figure.dpi'] = 250\n",
    "#'font.size': 10, 'savefig.dpi': 72, 'figure.subplot.bottom': 0.125"
   ]
  },
  {
   "cell_type": "markdown",
   "metadata": {},
   "source": [
    "### Import Datasets\n",
    "\n",
    "Import a range of datasets for each type of synthetic data."
   ]
  },
  {
   "cell_type": "code",
   "execution_count": 4,
   "metadata": {},
   "outputs": [],
   "source": [
    "n_samples = 50\n",
    "data_key = 'soil_weather'\n",
    "data_reference_key = 'soil'\n",
    "\n",
    "path_to_data_raw = '../data/raw/'\n",
    "path_to_dataset = '{0:s}/synthetic_{1:s}.zip'.format(path_to_data_raw, data_key)\n",
    "path_to_dataset_reference = '{0:s}/synthetic_{1:s}.zip'.format(path_to_data_raw, data_reference_key)"
   ]
  },
  {
   "cell_type": "code",
   "execution_count": 5,
   "metadata": {},
   "outputs": [
    {
     "data": {
      "text/html": [
       "<div>\n",
       "<style scoped>\n",
       "    .dataframe tbody tr th:only-of-type {\n",
       "        vertical-align: middle;\n",
       "    }\n",
       "\n",
       "    .dataframe tbody tr th {\n",
       "        vertical-align: top;\n",
       "    }\n",
       "\n",
       "    .dataframe thead th {\n",
       "        text-align: right;\n",
       "    }\n",
       "</style>\n",
       "<table border=\"1\" class=\"dataframe\">\n",
       "  <thead>\n",
       "    <tr style=\"text-align: right;\">\n",
       "      <th></th>\n",
       "      <th>Plant</th>\n",
       "      <th>Degradation_rate_linear</th>\n",
       "      <th>Location</th>\n",
       "    </tr>\n",
       "  </thead>\n",
       "  <tbody>\n",
       "    <tr>\n",
       "      <th>0</th>\n",
       "      <td>synthetic_soil_weather_001</td>\n",
       "      <td>-0.015679</td>\n",
       "      <td>CO</td>\n",
       "    </tr>\n",
       "    <tr>\n",
       "      <th>1</th>\n",
       "      <td>synthetic_soil_weather_002</td>\n",
       "      <td>-0.007176</td>\n",
       "      <td>CO</td>\n",
       "    </tr>\n",
       "    <tr>\n",
       "      <th>2</th>\n",
       "      <td>synthetic_soil_weather_003</td>\n",
       "      <td>-0.008677</td>\n",
       "      <td>CO</td>\n",
       "    </tr>\n",
       "    <tr>\n",
       "      <th>3</th>\n",
       "      <td>synthetic_soil_weather_004</td>\n",
       "      <td>-0.014495</td>\n",
       "      <td>CO</td>\n",
       "    </tr>\n",
       "    <tr>\n",
       "      <th>4</th>\n",
       "      <td>synthetic_soil_weather_005</td>\n",
       "      <td>-0.012073</td>\n",
       "      <td>CO</td>\n",
       "    </tr>\n",
       "  </tbody>\n",
       "</table>\n",
       "</div>"
      ],
      "text/plain": [
       "                        Plant  Degradation_rate_linear Location\n",
       "0  synthetic_soil_weather_001                -0.015679       CO\n",
       "1  synthetic_soil_weather_002                -0.007176       CO\n",
       "2  synthetic_soil_weather_003                -0.008677       CO\n",
       "3  synthetic_soil_weather_004                -0.014495       CO\n",
       "4  synthetic_soil_weather_005                -0.012073       CO"
      ]
     },
     "execution_count": 5,
     "metadata": {},
     "output_type": "execute_result"
    }
   ],
   "source": [
    "import_df_info_from_zip(path_to_dataset).head()"
   ]
  },
  {
   "cell_type": "code",
   "execution_count": 9,
   "metadata": {},
   "outputs": [
    {
     "name": "stdout",
     "output_type": "stream",
     "text": [
      "0.18 % of data remaining after clearsky detection.\n",
      "0.17 % of data remaining after night-time removal.\n",
      "0.13 % of data remaining after clipping removal.\n",
      "0.18 % of data remaining after clearsky detection.\n",
      "0.17 % of data remaining after night-time removal.\n",
      "0.04 % of data remaining after clipping removal.\n",
      "0.05 % of data remaining after clearsky detection.\n",
      "0.05 % of data remaining after night-time removal.\n",
      "0.04 % of data remaining after clipping removal.\n"
     ]
    },
    {
     "ename": "KeyboardInterrupt",
     "evalue": "",
     "output_type": "error",
     "traceback": [
      "\u001b[0;31m---------------------------------------------------------------------------\u001b[0m",
      "\u001b[0;31mKeyboardInterrupt\u001b[0m                         Traceback (most recent call last)",
      "\u001b[0;32m<ipython-input-9-edd5fe8d58cf>\u001b[0m in \u001b[0;36m<module>\u001b[0;34m\u001b[0m\n\u001b[1;32m      4\u001b[0m     \u001b[0mp_norm_daily_basic\u001b[0m \u001b[0;34m=\u001b[0m \u001b[0mnormalize_power_signal\u001b[0m\u001b[0;34m(\u001b[0m\u001b[0mdf\u001b[0m\u001b[0;34m,\u001b[0m \u001b[0mdf_reference\u001b[0m\u001b[0;34m.\u001b[0m\u001b[0mPOA\u001b[0m\u001b[0;34m,\u001b[0m \u001b[0mclearsky\u001b[0m\u001b[0;34m=\u001b[0m\u001b[0;32mTrue\u001b[0m\u001b[0;34m,\u001b[0m \u001b[0mnighttime\u001b[0m\u001b[0;34m=\u001b[0m\u001b[0;32mTrue\u001b[0m\u001b[0;34m,\u001b[0m \u001b[0mclipping\u001b[0m\u001b[0;34m=\u001b[0m\u001b[0;34m'basic'\u001b[0m\u001b[0;34m,\u001b[0m \u001b[0mverbose\u001b[0m\u001b[0;34m=\u001b[0m\u001b[0;32mTrue\u001b[0m\u001b[0;34m,\u001b[0m \u001b[0moutlier_threshold\u001b[0m \u001b[0;34m=\u001b[0m \u001b[0;36m0.70\u001b[0m\u001b[0;34m)\u001b[0m\u001b[0;34m\u001b[0m\u001b[0;34m\u001b[0m\u001b[0m\n\u001b[1;32m      5\u001b[0m     \u001b[0;31m#p_norm_daily_flexible = normalize_power_signal(df, df_reference.POA, clearsky=True, nighttime=True, clipping='flexible', verbose=True, outlier_threshold = 0.70)\u001b[0m\u001b[0;34m\u001b[0m\u001b[0;34m\u001b[0m\u001b[0;34m\u001b[0m\u001b[0m\n\u001b[0;32m----> 6\u001b[0;31m     \u001b[0mp_norm_daily_universal\u001b[0m \u001b[0;34m=\u001b[0m \u001b[0mnormalize_power_signal\u001b[0m\u001b[0;34m(\u001b[0m\u001b[0mdf\u001b[0m\u001b[0;34m,\u001b[0m \u001b[0mdf_reference\u001b[0m\u001b[0;34m.\u001b[0m\u001b[0mPOA\u001b[0m\u001b[0;34m,\u001b[0m \u001b[0mclearsky\u001b[0m\u001b[0;34m=\u001b[0m\u001b[0;32mTrue\u001b[0m\u001b[0;34m,\u001b[0m \u001b[0mnighttime\u001b[0m\u001b[0;34m=\u001b[0m\u001b[0;32mTrue\u001b[0m\u001b[0;34m,\u001b[0m \u001b[0mclipping\u001b[0m\u001b[0;34m=\u001b[0m\u001b[0;34m'universal'\u001b[0m\u001b[0;34m,\u001b[0m \u001b[0mverbose\u001b[0m\u001b[0;34m=\u001b[0m\u001b[0;32mTrue\u001b[0m\u001b[0;34m,\u001b[0m \u001b[0moutlier_threshold\u001b[0m \u001b[0;34m=\u001b[0m \u001b[0;36m0.70\u001b[0m\u001b[0;34m)\u001b[0m\u001b[0;34m\u001b[0m\u001b[0;34m\u001b[0m\u001b[0m\n\u001b[0m\u001b[1;32m      7\u001b[0m \u001b[0;34m\u001b[0m\u001b[0m\n\u001b[1;32m      8\u001b[0m     \u001b[0mdf_pkl\u001b[0m \u001b[0;34m=\u001b[0m \u001b[0mdownsample_dataframe\u001b[0m\u001b[0;34m(\u001b[0m\u001b[0mdf\u001b[0m\u001b[0;34m)\u001b[0m\u001b[0;34m\u001b[0m\u001b[0;34m\u001b[0m\u001b[0m\n",
      "\u001b[0;32m~/s2ds/code/Aug20_Epri/src/features/performance_index.py\u001b[0m in \u001b[0;36mnormalize_power_signal\u001b[0;34m(data_frame, poa_reference, clearsky, nighttime, clipping, outlier_threshold, verbose)\u001b[0m\n\u001b[1;32m     46\u001b[0m             \u001b[0mpoa_reference\u001b[0m \u001b[0;34m=\u001b[0m \u001b[0mdata_frame\u001b[0m\u001b[0;34m.\u001b[0m\u001b[0mPOA\u001b[0m\u001b[0;34m\u001b[0m\u001b[0;34m\u001b[0m\u001b[0m\n\u001b[1;32m     47\u001b[0m         clearsky_mask = detect_clearsky(data_frame.POA, poa_reference,\n\u001b[0;32m---> 48\u001b[0;31m                                         data_frame.index, clearsky_window_size)\n\u001b[0m\u001b[1;32m     49\u001b[0m         \u001b[0mdata_frame\u001b[0m \u001b[0;34m=\u001b[0m \u001b[0mdata_frame\u001b[0m\u001b[0;34m[\u001b[0m\u001b[0mclearsky_mask\u001b[0m\u001b[0;34m]\u001b[0m\u001b[0;34m\u001b[0m\u001b[0;34m\u001b[0m\u001b[0m\n\u001b[1;32m     50\u001b[0m         \u001b[0;32mif\u001b[0m \u001b[0mverbose\u001b[0m \u001b[0;32mis\u001b[0m \u001b[0;32mTrue\u001b[0m\u001b[0;34m:\u001b[0m\u001b[0;34m\u001b[0m\u001b[0;34m\u001b[0m\u001b[0m\n",
      "\u001b[0;31mKeyboardInterrupt\u001b[0m: "
     ]
    }
   ],
   "source": [
    "for index in range(n_samples):\n",
    "    df = import_df_from_zip_pkl(path_to_dataset, index)\n",
    "        \n",
    "    p_norm_daily_basic = normalize_power_signal(df, df_reference.POA, clearsky=True, nighttime=True, clipping='basic', verbose=True, outlier_threshold = 0.70)\n",
    "    #p_norm_daily_flexible = normalize_power_signal(df, df_reference.POA, clearsky=True, nighttime=True, clipping='flexible', verbose=True, outlier_threshold = 0.70)\n",
    "    p_norm_daily_universal = normalize_power_signal(df, df_reference.POA, clearsky=True, nighttime=True, clipping='universal', verbose=True, outlier_threshold = 0.70)\n",
    "       \n",
    "    df_pkl = downsample_dataframe(df)\n",
    "    df_pkl['PI_clipping_basic'] = p_norm_daily_basic\n",
    "    #df_pkl['PI_clipping_flexible'] = p_norm_daily_flexible\n",
    "    df_pkl['PI_clipping_universal'] = p_norm_daily_universal\n",
    "    df_pkl.to_pickle('../data/raw/synthetic_{:s}_pi_daily_{:s}.pkl'.format(data_key, str(index+1).zfill(3)), compression = 'gzip', protocol = 3)"
   ]
  },
  {
   "cell_type": "code",
   "execution_count": null,
   "metadata": {},
   "outputs": [],
   "source": []
  },
  {
   "cell_type": "code",
   "execution_count": null,
   "metadata": {},
   "outputs": [],
   "source": []
  },
  {
   "cell_type": "code",
   "execution_count": null,
   "metadata": {},
   "outputs": [],
   "source": [
    "# test\n",
    "df_pi = pd.read_pickle('../data/raw/synthetic_weather_pi_daily/synthetic_weather_pi_daily_001.pkl', compression = 'gzip')\n",
    "df_pi.PI.plot()"
   ]
  },
  {
   "cell_type": "code",
   "execution_count": null,
   "metadata": {},
   "outputs": [],
   "source": []
  }
 ],
 "metadata": {
  "kernelspec": {
   "display_name": "Python 3",
   "language": "python",
   "name": "python3"
  },
  "language_info": {
   "codemirror_mode": {
    "name": "ipython",
    "version": 3
   },
   "file_extension": ".py",
   "mimetype": "text/x-python",
   "name": "python",
   "nbconvert_exporter": "python",
   "pygments_lexer": "ipython3",
   "version": "3.6.9"
  }
 },
 "nbformat": 4,
 "nbformat_minor": 4
}
