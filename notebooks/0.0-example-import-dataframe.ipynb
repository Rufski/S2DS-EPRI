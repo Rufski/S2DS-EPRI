{
 "cells": [
  {
   "cell_type": "code",
   "execution_count": 1,
   "metadata": {},
   "outputs": [],
   "source": [
    "# In the root of the repo run \"pip install --editable .\"\n",
    "\n",
    "# OPTIONAL: Load the \"autoreload\" extension so that code can change\n",
    "%load_ext autoreload\n",
    "\n",
    "# OPTIONAL: always reload modules so that as you change code in src, it gets loaded\n",
    "%autoreload 2\n",
    "\n",
    "# Replace sample_func_dir by the name of directory in src/ and replace sample_func_file the\n",
    "# file name in src/sample_func_dir"
   ]
  },
  {
   "cell_type": "markdown",
   "metadata": {},
   "source": [
    "# How to import dataframes\n",
    "\n",
    "This notebook will give you an overview of the implemented methods for import dataframes from external files."
   ]
  },
  {
   "cell_type": "markdown",
   "metadata": {},
   "source": [
    "### Import a dataframe from a zip-archive containing pickled dataframe objects\n",
    "\n",
    "This method imports a dataframe from a pickled dataframe object (`.pkl`) located within a zip-archive without unpacking the zip-archive. The function `src.data.import_data.import_df_from_zip_pkl` returns a dataframe and needs a path to the zip archive and optionally an index for which dataframe you want (defaults to 0, ie, the first dataframe in the timeseries)."
   ]
  },
  {
   "cell_type": "code",
   "execution_count": 2,
   "metadata": {},
   "outputs": [],
   "source": [
    "# import the function\n",
    "from src.data.import_data import import_df_from_zip_pkl"
   ]
  },
  {
   "cell_type": "code",
   "execution_count": 3,
   "metadata": {},
   "outputs": [],
   "source": [
    "# path to the zip-archive\n",
    "path_to_zip_pkl = '../data/raw/synthetic_soil.zip' "
   ]
  },
  {
   "cell_type": "code",
   "execution_count": 4,
   "metadata": {},
   "outputs": [
    {
     "name": "stdout",
     "output_type": "stream",
     "text": [
      "time for importing dataframe: 0.77 seconds\n"
     ]
    }
   ],
   "source": [
    "# get dataframe (~0.5 seconds)\n",
    "df = import_df_from_zip_pkl(path_to_zip_pkl, index=15, verbose=True)"
   ]
  },
  {
   "cell_type": "code",
   "execution_count": 5,
   "metadata": {},
   "outputs": [
    {
     "name": "stdout",
     "output_type": "stream",
     "text": [
      "datetime\n",
      "2019-12-31 23:50:00-05:00    1430\n",
      "2019-12-31 23:51:00-05:00    1431\n",
      "2019-12-31 23:52:00-05:00    1432\n",
      "2019-12-31 23:53:00-05:00    1433\n",
      "2019-12-31 23:54:00-05:00    1434\n",
      "2019-12-31 23:55:00-05:00    1435\n",
      "2019-12-31 23:56:00-05:00    1436\n",
      "2019-12-31 23:57:00-05:00    1437\n",
      "2019-12-31 23:58:00-05:00    1438\n",
      "2019-12-31 23:59:00-05:00    1439\n",
      "Freq: T, Name: minute_of_day, dtype: int64\n"
     ]
    }
   ],
   "source": [
    "# show the last 10 minutes of the day\n",
    "print(df['minute_of_day'][-10:])"
   ]
  },
  {
   "cell_type": "code",
   "execution_count": 6,
   "metadata": {},
   "outputs": [
    {
     "name": "stdout",
     "output_type": "stream",
     "text": [
      "Help on function import_df_from_zip_pkl in module src.data.import_data:\n",
      "\n",
      "import_df_from_zip_pkl(path_to_zip, index=0, verbose=False)\n",
      "    Import a timeseries from a zipped pickled dataframe\n",
      "    \n",
      "    Extracts a dataframe file from the pickle (compressed using gzip)\n",
      "    which is saved within a zipped folder\n",
      "    \n",
      "        Args:\n",
      "            path_to_zip (str): path to the zip-file containing the pickled\n",
      "                dataframes\n",
      "            index (int, optional): index (0-49) of the desired timeseries,\n",
      "                defaults to 0, ie, the first timeseries in the dataset\n",
      "            verbose (bool, optional): print output if true, defaults to False\n",
      "    \n",
      "        Returns:\n",
      "            data_frame (Pandas DataFrame): unpickled dataframe\n",
      "\n"
     ]
    }
   ],
   "source": [
    "# show help\n",
    "help(import_df_from_zip_pkl)"
   ]
  },
  {
   "cell_type": "markdown",
   "metadata": {},
   "source": [
    "### Import a dataframe from a zip-archive containing csv-files\n",
    "\n",
    "This method imports a dataframe from a csv-file (`.csv`) located within a zip-archive without unpacking the zip-archive. The function `src.data.import_data.import_df_from_zip_csv` returns a dataframe and needs a path to the zip archive and optionally an index for which dataframe you want (defaults to 0, ie, the first dataframe in the timeseries). Parsing the datetime takes a lot of time (30-60 seconds per csv-file)!\n",
    "\n",
    "This function will probably not be needed anymore since we have a better method (`src.data.import_data.import_df_from_zip_pkl`)."
   ]
  },
  {
   "cell_type": "code",
   "execution_count": 7,
   "metadata": {},
   "outputs": [],
   "source": [
    "# import the function\n",
    "from src.data.import_data import import_df_from_zip_csv"
   ]
  },
  {
   "cell_type": "code",
   "execution_count": 8,
   "metadata": {},
   "outputs": [],
   "source": [
    "# path to the zip-archive\n",
    "path_to_zip_csv = '../data/raw/old/synthetic_soil.zip' "
   ]
  },
  {
   "cell_type": "code",
   "execution_count": 9,
   "metadata": {},
   "outputs": [
    {
     "name": "stdout",
     "output_type": "stream",
     "text": [
      "time for importing dataframe: 4.28 seconds\n"
     ]
    }
   ],
   "source": [
    "# get dataframe without parsing datetime (~2-3 seconds)\n",
    "df = import_df_from_zip_csv(path_to_zip_csv, index=15, datetime=False, verbose=True)"
   ]
  },
  {
   "cell_type": "code",
   "execution_count": 10,
   "metadata": {},
   "outputs": [
    {
     "name": "stdout",
     "output_type": "stream",
     "text": [
      "time for importing dataframe: 60.18 seconds\n"
     ]
    }
   ],
   "source": [
    "# get dataframe and parse the datetime (~30-60 seconds)\n",
    "df = import_df_from_zip_csv(path_to_zip_csv, index=15, datetime=True, verbose=True)"
   ]
  },
  {
   "cell_type": "code",
   "execution_count": 11,
   "metadata": {},
   "outputs": [
    {
     "name": "stdout",
     "output_type": "stream",
     "text": [
      "Help on function import_df_from_zip_csv in module src.data.import_data:\n",
      "\n",
      "import_df_from_zip_csv(path_to_zip, index=0, datetime=True, verbose=False)\n",
      "    Import a timeseries from a zipped datafile\n",
      "    \n",
      "    Extracts a csv file from the zip-archive and transforms it to a formatted\n",
      "    dataframe.\n",
      "    \n",
      "        Args:\n",
      "            path_to_zip (str): path to the zip-file containing the dataset\n",
      "            index (int, optional): index (0-49) of the desired timeseries,\n",
      "                defaults to 0, ie, the first timeseries in the dataset\n",
      "            datetime (bool, optional): parse time-string to datetime, defaults\n",
      "                to True\n",
      "            verbose (bool, optional): print output if true, defaults to False\n",
      "    \n",
      "        Returns:\n",
      "            data_frame (Pandas DataFrame): dataframe converted from csv\n",
      "\n"
     ]
    }
   ],
   "source": [
    "# show help\n",
    "help(import_df_from_zip_csv)"
   ]
  },
  {
   "cell_type": "markdown",
   "metadata": {},
   "source": [
    "### Import a dataframe from a directory containing csv-files\n",
    "\n",
    "This method imports a dataframe from a csv-file (`.csv`) located within a directory. The function `src.data.import_data.import_df_from_dir_csv` returns a dataframe and needs a path to the directory and optionally an index for which dataframe you want (defaults to 0, ie, the first dataframe in the timeseries). Parsing the datetime takes a lot of time (30-60 seconds per csv-file)!\n",
    "\n",
    "This function will probably not be needed anymore since we have a better method (`src.data.import_data.import_df_from_zip_pkl`)."
   ]
  },
  {
   "cell_type": "code",
   "execution_count": 12,
   "metadata": {},
   "outputs": [],
   "source": [
    "# import the function\n",
    "from src.data.import_data import import_df_from_dir_csv"
   ]
  },
  {
   "cell_type": "code",
   "execution_count": 13,
   "metadata": {},
   "outputs": [],
   "source": [
    "# path to the directory\n",
    "path_to_dir_csv = '../data/raw/old/synthetic_soil' "
   ]
  },
  {
   "cell_type": "code",
   "execution_count": 14,
   "metadata": {},
   "outputs": [
    {
     "name": "stdout",
     "output_type": "stream",
     "text": [
      "time for importing dataframe: 3.99 seconds\n"
     ]
    }
   ],
   "source": [
    "# get dataframe without parsing datetime (~2-3 seconds)\n",
    "df = import_df_from_dir_csv(path_to_dir_csv, index=15, datetime=False, verbose=True)"
   ]
  },
  {
   "cell_type": "code",
   "execution_count": 15,
   "metadata": {},
   "outputs": [
    {
     "name": "stdout",
     "output_type": "stream",
     "text": [
      "time for importing dataframe: 59.25 seconds\n"
     ]
    }
   ],
   "source": [
    "# get dataframe and parse the datetime (~30-60 seconds)\n",
    "df = import_df_from_dir_csv(path_to_dir_csv, index=15, datetime=True, verbose=True)"
   ]
  },
  {
   "cell_type": "code",
   "execution_count": 16,
   "metadata": {},
   "outputs": [
    {
     "name": "stdout",
     "output_type": "stream",
     "text": [
      "Help on function import_df_from_dir_csv in module src.data.import_data:\n",
      "\n",
      "import_df_from_dir_csv(path_to_dir, index=0, datetime=True, verbose=False)\n",
      "    Import a timeseries from a data directory\n",
      "    \n",
      "    Takes csv file from the destination directory and returns a formatted\n",
      "    dataframe.\n",
      "    \n",
      "        Args:\n",
      "            path_to_dir (str): path to the directory containing the csv-files\n",
      "            index (int, optional): index (0-49) of the desired timeseries,\n",
      "                defaults to 0, ie, the first timeseries in the dataset\n",
      "            datetime (bool, optional): parse time-string to datetime, defaults\n",
      "                to True\n",
      "            verbose (bool, optional): print output if true, defaults to False\n",
      "    \n",
      "        Returns:\n",
      "            data_frame (Pandas DataFrame): dataframe converted from csv\n",
      "\n"
     ]
    }
   ],
   "source": [
    "# show help\n",
    "help(import_df_from_dir_csv)"
   ]
  },
  {
   "cell_type": "code",
   "execution_count": null,
   "metadata": {},
   "outputs": [],
   "source": []
  }
 ],
 "metadata": {
  "kernelspec": {
   "display_name": "Python 3",
   "language": "python",
   "name": "python3"
  },
  "language_info": {
   "codemirror_mode": {
    "name": "ipython",
    "version": 3
   },
   "file_extension": ".py",
   "mimetype": "text/x-python",
   "name": "python",
   "nbconvert_exporter": "python",
   "pygments_lexer": "ipython3",
   "version": "3.8.2"
  }
 },
 "nbformat": 4,
 "nbformat_minor": 4
}
