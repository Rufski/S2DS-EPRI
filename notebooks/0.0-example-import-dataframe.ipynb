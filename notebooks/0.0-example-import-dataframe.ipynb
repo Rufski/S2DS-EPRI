{
 "cells": [
  {
   "cell_type": "code",
   "execution_count": null,
   "metadata": {},
   "outputs": [],
   "source": [
    "# In the root of the repo run \"pip install --editable .\"\n",
    "\n",
    "# OPTIONAL: Load the \"autoreload\" extension so that code can change\n",
    "%load_ext autoreload\n",
    "\n",
    "# OPTIONAL: always reload modules so that as you change code in src, it gets loaded\n",
    "%autoreload 2\n",
    "\n",
    "# Replace sample_func_dir by the name of directory in src/ and replace sample_func_file the\n",
    "# file name in src/sample_func_dir"
   ]
  },
  {
   "cell_type": "markdown",
   "metadata": {},
   "source": [
    "# How to import dataframes\n",
    "\n",
    "This notebook will give you an overview of the implemented methods for import dataframes from external files."
   ]
  },
  {
   "cell_type": "markdown",
   "metadata": {},
   "source": [
    "### Import a dataframe from a zip-archive containing pickled dataframe objects\n",
    "\n",
    "This method imports a dataframe from a pickled dataframe object (`.pkl`) located within a zip-archive without unpacking the zip-archive. The function `src.data.import_data.import_df_from_zip_pkl` returns a dataframe and needs a path to the zip archive and optionally an index for which dataframe you want (defaults to 0, ie, the first dataframe in the timeseries)."
   ]
  },
  {
   "cell_type": "code",
   "execution_count": null,
   "metadata": {},
   "outputs": [],
   "source": [
    "# import the function\n",
    "from src.data.import_data import import_df_from_zip_pkl"
   ]
  },
  {
   "cell_type": "code",
   "execution_count": null,
   "metadata": {},
   "outputs": [],
   "source": [
    "# path to the zip-archive\n",
    "path_to_zip_pkl = '../data/raw/synthetic_weather.zip' "
   ]
  },
  {
   "cell_type": "code",
   "execution_count": null,
   "metadata": {},
   "outputs": [],
   "source": [
    "# get dataframe (~0.5 seconds)\n",
    "df = import_df_from_zip_pkl(path_to_zip_pkl, index=10, verbose=True)"
   ]
  },
  {
   "cell_type": "code",
   "execution_count": null,
   "metadata": {},
   "outputs": [],
   "source": [
    "# show the last 10 minutes of the day\n",
    "print(df['minute_of_day'][-10:])"
   ]
  },
  {
   "cell_type": "code",
   "execution_count": null,
   "metadata": {},
   "outputs": [],
   "source": [
    "# show help\n",
    "help(import_df_from_zip_pkl)"
   ]
  },
  {
   "cell_type": "markdown",
   "metadata": {},
   "source": [
    "### Normalized Data (PI)"
   ]
  },
  {
   "cell_type": "markdown",
   "metadata": {},
   "source": [
    "To import the normalized data: set `minofday` to `False`!"
   ]
  },
  {
   "cell_type": "code",
   "execution_count": null,
   "metadata": {},
   "outputs": [],
   "source": [
    "path_to_zip_pkl_pi = '../data/raw/synthetic_soil_weather_pi_daily.zip'\n",
    "df = import_df_from_zip_pkl(path_to_zip_pkl_pi, index=0, verbose=True, minofday=False)"
   ]
  },
  {
   "cell_type": "code",
   "execution_count": null,
   "metadata": {},
   "outputs": [],
   "source": [
    "df.head()"
   ]
  },
  {
   "cell_type": "markdown",
   "metadata": {},
   "source": [
    "### Import a dataframe from a zip-archive containing csv-files\n",
    "\n",
    "This method imports a dataframe from a csv-file (`.csv`) located within a zip-archive without unpacking the zip-archive. The function `src.data.import_data.import_df_from_zip_csv` returns a dataframe and needs a path to the zip archive and optionally an index for which dataframe you want (defaults to 0, ie, the first dataframe in the timeseries). Parsing the datetime takes a lot of time (30-60 seconds per csv-file)!\n",
    "\n",
    "This function will probably not be needed anymore since we have a better method (`src.data.import_data.import_df_from_zip_pkl`)."
   ]
  },
  {
   "cell_type": "code",
   "execution_count": null,
   "metadata": {},
   "outputs": [],
   "source": [
    "# import the function\n",
    "from src.data.import_data import import_df_from_zip_csv"
   ]
  },
  {
   "cell_type": "code",
   "execution_count": null,
   "metadata": {},
   "outputs": [],
   "source": [
    "# path to the zip-archive\n",
    "path_to_zip_csv = '../data/raw/old/synthetic_soil.zip' "
   ]
  },
  {
   "cell_type": "code",
   "execution_count": null,
   "metadata": {},
   "outputs": [],
   "source": [
    "# get dataframe without parsing datetime (~2-3 seconds)\n",
    "df = import_df_from_zip_csv(path_to_zip_csv, index=15, datetime=False, verbose=True)"
   ]
  },
  {
   "cell_type": "code",
   "execution_count": null,
   "metadata": {},
   "outputs": [],
   "source": [
    "# get dataframe and parse the datetime (~30-60 seconds)\n",
    "df = import_df_from_zip_csv(path_to_zip_csv, index=15, datetime=True, verbose=True)"
   ]
  },
  {
   "cell_type": "code",
   "execution_count": null,
   "metadata": {},
   "outputs": [],
   "source": [
    "# show help\n",
    "help(import_df_from_zip_csv)"
   ]
  },
  {
   "cell_type": "markdown",
   "metadata": {},
   "source": [
    "### Import a dataframe from a directory containing csv-files\n",
    "\n",
    "This method imports a dataframe from a csv-file (`.csv`) located within a directory. The function `src.data.import_data.import_df_from_dir_csv` returns a dataframe and needs a path to the directory and optionally an index for which dataframe you want (defaults to 0, ie, the first dataframe in the timeseries). Parsing the datetime takes a lot of time (30-60 seconds per csv-file)!\n",
    "\n",
    "This function will probably not be needed anymore since we have a better method (`src.data.import_data.import_df_from_zip_pkl`)."
   ]
  },
  {
   "cell_type": "code",
   "execution_count": null,
   "metadata": {},
   "outputs": [],
   "source": [
    "# import the function\n",
    "from src.data.import_data import import_df_from_dir_csv"
   ]
  },
  {
   "cell_type": "code",
   "execution_count": null,
   "metadata": {},
   "outputs": [],
   "source": [
    "# path to the directory\n",
    "path_to_dir_csv = '../data/raw/old/synthetic_soil' "
   ]
  },
  {
   "cell_type": "code",
   "execution_count": null,
   "metadata": {},
   "outputs": [],
   "source": [
    "# get dataframe without parsing datetime (~2-3 seconds)\n",
    "df = import_df_from_dir_csv(path_to_dir_csv, index=15, datetime=False, verbose=True)"
   ]
  },
  {
   "cell_type": "code",
   "execution_count": null,
   "metadata": {},
   "outputs": [],
   "source": [
    "# get dataframe and parse the datetime (~30-60 seconds)\n",
    "df = import_df_from_dir_csv(path_to_dir_csv, index=15, datetime=True, verbose=True)"
   ]
  },
  {
   "cell_type": "code",
   "execution_count": null,
   "metadata": {},
   "outputs": [],
   "source": [
    "# show help\n",
    "help(import_df_from_dir_csv)"
   ]
  },
  {
   "cell_type": "markdown",
   "metadata": {},
   "source": [
    "### Import the dataset info \n",
    "\n",
    "Import the dataset info from the csv-file (\"synthetic_xxx_info.csv\") from within a zip-archive without unzipping."
   ]
  },
  {
   "cell_type": "code",
   "execution_count": null,
   "metadata": {},
   "outputs": [],
   "source": [
    "# import the function\n",
    "from src.data.import_data import import_df_info_from_zip"
   ]
  },
  {
   "cell_type": "code",
   "execution_count": null,
   "metadata": {},
   "outputs": [],
   "source": [
    "path_to_zip = '../data/raw/synthetic_basic.zip' \n",
    "df_info = import_df_info_from_zip(path_to_zip, verbose=True)"
   ]
  },
  {
   "cell_type": "code",
   "execution_count": null,
   "metadata": {},
   "outputs": [],
   "source": [
    "df_info.head(10)"
   ]
  }
 ],
 "metadata": {
  "kernelspec": {
   "display_name": "Python 3",
   "language": "python",
   "name": "python3"
  },
  "language_info": {
   "codemirror_mode": {
    "name": "ipython",
    "version": 3
   },
   "file_extension": ".py",
   "mimetype": "text/x-python",
   "name": "python",
   "nbconvert_exporter": "python",
   "pygments_lexer": "ipython3",
   "version": "3.8.2"
  }
 },
 "nbformat": 4,
 "nbformat_minor": 4
}
