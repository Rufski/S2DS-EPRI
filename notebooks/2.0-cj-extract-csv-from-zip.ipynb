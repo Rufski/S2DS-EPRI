{
 "cells": [
  {
   "cell_type": "code",
   "execution_count": 1,
   "metadata": {},
   "outputs": [
    {
     "ename": "ModuleNotFoundError",
     "evalue": "No module named 'src'",
     "output_type": "error",
     "traceback": [
      "\u001b[0;31m---------------------------------------------------------------------------\u001b[0m",
      "\u001b[0;31mModuleNotFoundError\u001b[0m                       Traceback (most recent call last)",
      "\u001b[0;32m<ipython-input-1-92a1fa285a73>\u001b[0m in \u001b[0;36m<module>\u001b[0;34m\u001b[0m\n\u001b[1;32m      9\u001b[0m \u001b[0;31m# Replace sample_func_dir by the name of directory in src/ and replace sample_func_file the\u001b[0m\u001b[0;34m\u001b[0m\u001b[0;34m\u001b[0m\u001b[0;34m\u001b[0m\u001b[0m\n\u001b[1;32m     10\u001b[0m \u001b[0;31m# file name in src/sample_func_dir\u001b[0m\u001b[0;34m\u001b[0m\u001b[0;34m\u001b[0m\u001b[0;34m\u001b[0m\u001b[0m\n\u001b[0;32m---> 11\u001b[0;31m \u001b[0;32mfrom\u001b[0m \u001b[0msrc\u001b[0m\u001b[0;34m.\u001b[0m\u001b[0mdata\u001b[0m \u001b[0;32mimport\u001b[0m \u001b[0msample_func_file\u001b[0m\u001b[0;34m\u001b[0m\u001b[0;34m\u001b[0m\u001b[0m\n\u001b[0m",
      "\u001b[0;31mModuleNotFoundError\u001b[0m: No module named 'src'"
     ]
    }
   ],
   "source": [
    "# In the root of the repo run \"pip install --editable .\"\n",
    "\n",
    "# OPTIONAL: Load the \"autoreload\" extension so that code can change\n",
    "%load_ext autoreload\n",
    "\n",
    "# OPTIONAL: always reload modules so that as you change code in src, it gets loaded\n",
    "%autoreload 2\n",
    "\n",
    "# Replace sample_func_dir by the name of directory in src/ and replace sample_func_file the\n",
    "# file name in src/sample_func_dir\n",
    "from src.data import sample_func_file"
   ]
  },
  {
   "cell_type": "code",
   "execution_count": 11,
   "metadata": {},
   "outputs": [],
   "source": []
  },
  {
   "cell_type": "code",
   "execution_count": 40,
   "metadata": {},
   "outputs": [],
   "source": [
    "def extract_csv_from_zip(path_to_zip, csv_index):\n",
    "    \n",
    "    \"\"\"\n",
    "    function to extract csv data from zip and return dataframe\n",
    "    \"\"\"\n",
    "    \n",
    "    # read df from csv within zip, parse timestamp as datetime and use as index\n",
    "    filename_prefix = os.path.basename(os.path.splitext(path_to_zip)[0])\n",
    "    zip_file = zipfile.ZipFile(path_to_zip) \n",
    "    df = pd.read_csv(zip_file.open('{0:s}/{0:s}_{1:d}.csv'.format(filename_prefix, csv_index)), index_col='Unnamed: 0', parse_dates=True)\n",
    "    \n",
    "    # add new columns with year, month, day, hour of timestamp\n",
    "    df['year'] = pd.DatetimeIndex(df.index).year\n",
    "    df['month'] = pd.DatetimeIndex(df.index).month\n",
    "    df['day'] = pd.DatetimeIndex(df.index).day\n",
    "    df['hour'] = pd.DatetimeIndex(df.index).hour\n",
    "    df['minute_of_hour'] = pd.DatetimeIndex(df.index).minute\n",
    "    df['minute_of_day'] = pd.DatetimeIndex(df.index).minute + pd.DatetimeIndex(df.index).hour * 60\n",
    "  \n",
    "    # return dataframe\n",
    "    return df"
   ]
  },
  {
   "cell_type": "code",
   "execution_count": 41,
   "metadata": {},
   "outputs": [
    {
     "name": "stdout",
     "output_type": "stream",
     "text": [
      "                           Power  POA  Tamb  Wind  Degradation_rate_per_yr  \\\n",
      "2015-01-01 00:00:00-05:00   -1.0  0.0   5.1   0.0                 -0.01436   \n",
      "2015-01-01 00:01:00-05:00   -1.0  0.0   5.1   0.0                 -0.01436   \n",
      "2015-01-01 00:02:00-05:00   -1.0  0.0   5.1   0.0                 -0.01436   \n",
      "2015-01-01 00:03:00-05:00   -1.0  0.0   5.1   0.0                 -0.01436   \n",
      "2015-01-01 00:04:00-05:00   -1.0  0.0   5.1   0.0                 -0.01436   \n",
      "...                          ...  ...   ...   ...                      ...   \n",
      "2019-12-31 23:55:00-05:00   -1.0  0.0   5.2   0.0                 -0.01436   \n",
      "2019-12-31 23:56:00-05:00   -1.0  0.0   5.2   0.0                 -0.01436   \n",
      "2019-12-31 23:57:00-05:00   -1.0  0.0   5.2   0.0                 -0.01436   \n",
      "2019-12-31 23:58:00-05:00   -1.0  0.0   5.2   0.0                 -0.01436   \n",
      "2019-12-31 23:59:00-05:00   -1.0  0.0   5.2   0.0                 -0.01436   \n",
      "\n",
      "                           soiling  year  month  day  hour  minute_of_hour  \\\n",
      "2015-01-01 00:00:00-05:00        1  2015      1    1     0               0   \n",
      "2015-01-01 00:01:00-05:00        1  2015      1    1     0               1   \n",
      "2015-01-01 00:02:00-05:00        1  2015      1    1     0               2   \n",
      "2015-01-01 00:03:00-05:00        1  2015      1    1     0               3   \n",
      "2015-01-01 00:04:00-05:00        1  2015      1    1     0               4   \n",
      "...                            ...   ...    ...  ...   ...             ...   \n",
      "2019-12-31 23:55:00-05:00        1  2019     12   31    23              55   \n",
      "2019-12-31 23:56:00-05:00        1  2019     12   31    23              56   \n",
      "2019-12-31 23:57:00-05:00        1  2019     12   31    23              57   \n",
      "2019-12-31 23:58:00-05:00        1  2019     12   31    23              58   \n",
      "2019-12-31 23:59:00-05:00        1  2019     12   31    23              59   \n",
      "\n",
      "                           minute_of_day  \n",
      "2015-01-01 00:00:00-05:00              0  \n",
      "2015-01-01 00:01:00-05:00              1  \n",
      "2015-01-01 00:02:00-05:00              2  \n",
      "2015-01-01 00:03:00-05:00              3  \n",
      "2015-01-01 00:04:00-05:00              4  \n",
      "...                                  ...  \n",
      "2019-12-31 23:55:00-05:00           1435  \n",
      "2019-12-31 23:56:00-05:00           1436  \n",
      "2019-12-31 23:57:00-05:00           1437  \n",
      "2019-12-31 23:58:00-05:00           1438  \n",
      "2019-12-31 23:59:00-05:00           1439  \n",
      "\n",
      "[2629440 rows x 12 columns]\n"
     ]
    }
   ],
   "source": [
    "csv_index = 1\n",
    "path_to_zip = '/home/clemi/data/raw/synthetic_basic.zip'\n",
    "df = extract_csv_from_zip(path_to_zip, csv_index)\n",
    "print(df)"
   ]
  },
  {
   "cell_type": "code",
   "execution_count": 37,
   "metadata": {},
   "outputs": [
    {
     "name": "stdout",
     "output_type": "stream",
     "text": [
      "<class 'pandas._libs.tslibs.timestamps.Timestamp'>\n"
     ]
    }
   ],
   "source": [
    "print(type(df.index[0]))"
   ]
  },
  {
   "cell_type": "code",
   "execution_count": null,
   "metadata": {},
   "outputs": [],
   "source": []
  },
  {
   "cell_type": "code",
   "execution_count": null,
   "metadata": {},
   "outputs": [],
   "source": []
  },
  {
   "cell_type": "code",
   "execution_count": null,
   "metadata": {},
   "outputs": [],
   "source": []
  }
 ],
 "metadata": {
  "kernelspec": {
   "display_name": "Python 3",
   "language": "python",
   "name": "python3"
  },
  "language_info": {
   "codemirror_mode": {
    "name": "ipython",
    "version": 3
   },
   "file_extension": ".py",
   "mimetype": "text/x-python",
   "name": "python",
   "nbconvert_exporter": "python",
   "pygments_lexer": "ipython3",
   "version": "3.8.2"
  }
 },
 "nbformat": 4,
 "nbformat_minor": 4
}
