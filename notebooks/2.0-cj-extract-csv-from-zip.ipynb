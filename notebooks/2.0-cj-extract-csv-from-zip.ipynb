{
 "cells": [
  {
   "cell_type": "code",
   "execution_count": 11,
   "metadata": {},
   "outputs": [],
   "source": [
    "import pandas as pd\n",
    "import zipfile\n",
    "import os"
   ]
  },
  {
   "cell_type": "code",
   "execution_count": 40,
   "metadata": {},
   "outputs": [],
   "source": [
    "def extract_csv_from_zip(path_to_zip, csv_index):\n",
    "    \n",
    "    \"\"\"\n",
    "    function to extract csv data from zip and return dataframe\n",
    "    \"\"\"\n",
    "    \n",
    "    # read df from csv within zip, parse timestamp as datetime and use as index\n",
    "    filename_prefix = os.path.basename(os.path.splitext(path_to_zip)[0])\n",
    "    zip_file = zipfile.ZipFile(path_to_zip) \n",
    "    df = pd.read_csv(zip_file.open('{0:s}/{0:s}_{1:d}.csv'.format(filename_prefix, csv_index)), index_col='Unnamed: 0', parse_dates=True)\n",
    "    \n",
    "    # add new columns with year, month, day, hour of timestamp\n",
    "    df['year'] = pd.DatetimeIndex(df.index).year\n",
    "    df['month'] = pd.DatetimeIndex(df.index).month\n",
    "    df['day'] = pd.DatetimeIndex(df.index).day\n",
    "    df['hour'] = pd.DatetimeIndex(df.index).hour\n",
    "    df['minute_of_hour'] = pd.DatetimeIndex(df.index).minute\n",
    "    df['minute_of_day'] = pd.DatetimeIndex(df.index).minute + pd.DatetimeIndex(df.index).hour * 60\n",
    "  \n",
    "    # return dataframe\n",
    "    return df"
   ]
  },
  {
   "cell_type": "code",
   "execution_count": 41,
   "metadata": {},
   "outputs": [
    {
     "name": "stdout",
     "output_type": "stream",
     "text": [
      "                           Power  POA  Tamb  Wind  Degradation_rate_per_yr  \\\n",
      "2015-01-01 00:00:00-05:00   -1.0  0.0   5.1   0.0                 -0.01436   \n",
      "2015-01-01 00:01:00-05:00   -1.0  0.0   5.1   0.0                 -0.01436   \n",
      "2015-01-01 00:02:00-05:00   -1.0  0.0   5.1   0.0                 -0.01436   \n",
      "2015-01-01 00:03:00-05:00   -1.0  0.0   5.1   0.0                 -0.01436   \n",
      "2015-01-01 00:04:00-05:00   -1.0  0.0   5.1   0.0                 -0.01436   \n",
      "...                          ...  ...   ...   ...                      ...   \n",
      "2019-12-31 23:55:00-05:00   -1.0  0.0   5.2   0.0                 -0.01436   \n",
      "2019-12-31 23:56:00-05:00   -1.0  0.0   5.2   0.0                 -0.01436   \n",
      "2019-12-31 23:57:00-05:00   -1.0  0.0   5.2   0.0                 -0.01436   \n",
      "2019-12-31 23:58:00-05:00   -1.0  0.0   5.2   0.0                 -0.01436   \n",
      "2019-12-31 23:59:00-05:00   -1.0  0.0   5.2   0.0                 -0.01436   \n",
      "\n",
      "                           soiling  year  month  day  hour  minute_of_hour  \\\n",
      "2015-01-01 00:00:00-05:00        1  2015      1    1     0               0   \n",
      "2015-01-01 00:01:00-05:00        1  2015      1    1     0               1   \n",
      "2015-01-01 00:02:00-05:00        1  2015      1    1     0               2   \n",
      "2015-01-01 00:03:00-05:00        1  2015      1    1     0               3   \n",
      "2015-01-01 00:04:00-05:00        1  2015      1    1     0               4   \n",
      "...                            ...   ...    ...  ...   ...             ...   \n",
      "2019-12-31 23:55:00-05:00        1  2019     12   31    23              55   \n",
      "2019-12-31 23:56:00-05:00        1  2019     12   31    23              56   \n",
      "2019-12-31 23:57:00-05:00        1  2019     12   31    23              57   \n",
      "2019-12-31 23:58:00-05:00        1  2019     12   31    23              58   \n",
      "2019-12-31 23:59:00-05:00        1  2019     12   31    23              59   \n",
      "\n",
      "                           minute_of_day  \n",
      "2015-01-01 00:00:00-05:00              0  \n",
      "2015-01-01 00:01:00-05:00              1  \n",
      "2015-01-01 00:02:00-05:00              2  \n",
      "2015-01-01 00:03:00-05:00              3  \n",
      "2015-01-01 00:04:00-05:00              4  \n",
      "...                                  ...  \n",
      "2019-12-31 23:55:00-05:00           1435  \n",
      "2019-12-31 23:56:00-05:00           1436  \n",
      "2019-12-31 23:57:00-05:00           1437  \n",
      "2019-12-31 23:58:00-05:00           1438  \n",
      "2019-12-31 23:59:00-05:00           1439  \n",
      "\n",
      "[2629440 rows x 12 columns]\n"
     ]
    }
   ],
   "source": [
    "csv_index = 1\n",
    "path_to_zip = '/home/clemi/data/raw/synthetic_basic.zip'\n",
    "df = extract_csv_from_zip(path_to_zip, csv_index)\n",
    "print(df)"
   ]
  },
  {
   "cell_type": "code",
   "execution_count": 37,
   "metadata": {},
   "outputs": [
    {
     "name": "stdout",
     "output_type": "stream",
     "text": [
      "<class 'pandas._libs.tslibs.timestamps.Timestamp'>\n"
     ]
    }
   ],
   "source": [
    "print(type(df.index[0]))"
   ]
  },
  {
   "cell_type": "code",
   "execution_count": null,
   "metadata": {},
   "outputs": [],
   "source": []
  },
  {
   "cell_type": "code",
   "execution_count": null,
   "metadata": {},
   "outputs": [],
   "source": []
  },
  {
   "cell_type": "code",
   "execution_count": null,
   "metadata": {},
   "outputs": [],
   "source": []
  }
 ],
 "metadata": {
  "kernelspec": {
   "display_name": "Python 3",
   "language": "python",
   "name": "python3"
  },
  "language_info": {
   "codemirror_mode": {
    "name": "ipython",
    "version": 3
   },
   "file_extension": ".py",
   "mimetype": "text/x-python",
   "name": "python",
   "nbconvert_exporter": "python",
   "pygments_lexer": "ipython3",
   "version": "3.8.2"
  }
 },
 "nbformat": 4,
 "nbformat_minor": 4
}
