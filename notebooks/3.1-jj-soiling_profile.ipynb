{
 "cells": [
  {
   "cell_type": "code",
   "execution_count": 1,
   "metadata": {},
   "outputs": [],
   "source": [
    "# In the root of the repo run \"pip install --editable .\"\n",
    "\n",
    "# OPTIONAL: Load the \"autoreload\" extension so that code can change\n",
    "%load_ext autoreload\n",
    "\n",
    "# OPTIONAL: always reload modules so that as you change code in src, it gets loaded\n",
    "%autoreload 2\n",
    "\n",
    "from src.data.import_data import import_df_from_zip_pkl\n",
    "from src.data.make_dataset import *\n",
    "\n",
    "import matplotlib.pyplot as plt\n",
    "\n",
    "from rdtools.soiling import soiling_srr\n",
    "from src.features.build_features import *"
   ]
  },
  {
   "cell_type": "code",
   "execution_count": 2,
   "metadata": {},
   "outputs": [
    {
     "name": "stdout",
     "output_type": "stream",
     "text": [
      "time for importing dataframe: 0.70 seconds\n"
     ]
    }
   ],
   "source": [
    "# Load the data\n",
    "path_to_zip_pkl = '../data/raw/synthetic_soil.zip' \n",
    "df = import_df_from_zip_pkl(path_to_zip_pkl, index=15, verbose=True)\n",
    "df_down = downsample_dataframe(df)"
   ]
  },
  {
   "cell_type": "markdown",
   "metadata": {},
   "source": [
    "Add the actual cleaning event information to the dataframe"
   ]
  },
  {
   "cell_type": "code",
   "execution_count": 9,
   "metadata": {},
   "outputs": [
    {
     "data": {
      "text/html": [
       "<div>\n",
       "<style scoped>\n",
       "    .dataframe tbody tr th:only-of-type {\n",
       "        vertical-align: middle;\n",
       "    }\n",
       "\n",
       "    .dataframe tbody tr th {\n",
       "        vertical-align: top;\n",
       "    }\n",
       "\n",
       "    .dataframe thead th {\n",
       "        text-align: right;\n",
       "    }\n",
       "</style>\n",
       "<table border=\"1\" class=\"dataframe\">\n",
       "  <thead>\n",
       "    <tr style=\"text-align: right;\">\n",
       "      <th></th>\n",
       "      <th>Power</th>\n",
       "      <th>Degradation</th>\n",
       "      <th>Soiling</th>\n",
       "      <th>Faults</th>\n",
       "      <th>soiling_loss</th>\n",
       "      <th>cleaning_event</th>\n",
       "    </tr>\n",
       "    <tr>\n",
       "      <th>datetime</th>\n",
       "      <th></th>\n",
       "      <th></th>\n",
       "      <th></th>\n",
       "      <th></th>\n",
       "      <th></th>\n",
       "      <th></th>\n",
       "    </tr>\n",
       "  </thead>\n",
       "  <tbody>\n",
       "    <tr>\n",
       "      <th>2015-01-01 00:00:00-05:00</th>\n",
       "      <td>306.363889</td>\n",
       "      <td>0.99997</td>\n",
       "      <td>0.9989</td>\n",
       "      <td>1</td>\n",
       "      <td>-0.0011</td>\n",
       "      <td>0</td>\n",
       "    </tr>\n",
       "    <tr>\n",
       "      <th>2015-01-02 00:00:00-05:00</th>\n",
       "      <td>307.875000</td>\n",
       "      <td>0.99994</td>\n",
       "      <td>0.9978</td>\n",
       "      <td>1</td>\n",
       "      <td>-0.0011</td>\n",
       "      <td>0</td>\n",
       "    </tr>\n",
       "    <tr>\n",
       "      <th>2015-01-03 00:00:00-05:00</th>\n",
       "      <td>309.203472</td>\n",
       "      <td>0.99990</td>\n",
       "      <td>0.9967</td>\n",
       "      <td>1</td>\n",
       "      <td>-0.0011</td>\n",
       "      <td>0</td>\n",
       "    </tr>\n",
       "    <tr>\n",
       "      <th>2015-01-04 00:00:00-05:00</th>\n",
       "      <td>310.650694</td>\n",
       "      <td>0.99987</td>\n",
       "      <td>0.9956</td>\n",
       "      <td>1</td>\n",
       "      <td>-0.0011</td>\n",
       "      <td>0</td>\n",
       "    </tr>\n",
       "    <tr>\n",
       "      <th>2015-01-05 00:00:00-05:00</th>\n",
       "      <td>312.223611</td>\n",
       "      <td>0.99984</td>\n",
       "      <td>0.9945</td>\n",
       "      <td>1</td>\n",
       "      <td>-0.0011</td>\n",
       "      <td>0</td>\n",
       "    </tr>\n",
       "  </tbody>\n",
       "</table>\n",
       "</div>"
      ],
      "text/plain": [
       "                                Power  Degradation  Soiling  Faults  \\\n",
       "datetime                                                              \n",
       "2015-01-01 00:00:00-05:00  306.363889      0.99997   0.9989       1   \n",
       "2015-01-02 00:00:00-05:00  307.875000      0.99994   0.9978       1   \n",
       "2015-01-03 00:00:00-05:00  309.203472      0.99990   0.9967       1   \n",
       "2015-01-04 00:00:00-05:00  310.650694      0.99987   0.9956       1   \n",
       "2015-01-05 00:00:00-05:00  312.223611      0.99984   0.9945       1   \n",
       "\n",
       "                           soiling_loss  cleaning_event  \n",
       "datetime                                                 \n",
       "2015-01-01 00:00:00-05:00       -0.0011               0  \n",
       "2015-01-02 00:00:00-05:00       -0.0011               0  \n",
       "2015-01-03 00:00:00-05:00       -0.0011               0  \n",
       "2015-01-04 00:00:00-05:00       -0.0011               0  \n",
       "2015-01-05 00:00:00-05:00       -0.0011               0  "
      ]
     },
     "execution_count": 9,
     "metadata": {},
     "output_type": "execute_result"
    }
   ],
   "source": [
    "find_true_cleaning_events(df_down, inplace=True)\n",
    "df_down.head()"
   ]
  },
  {
   "cell_type": "code",
   "execution_count": 10,
   "metadata": {},
   "outputs": [
    {
     "name": "stderr",
     "output_type": "stream",
     "text": [
      "/home/julius/Aug20_Epri/.env/lib/python3.6/site-packages/pandas/core/arrays/datetimes.py:1269: UserWarning: Converting to PeriodArray/Index representation will drop timezone information.\n",
      "  UserWarning,\n"
     ]
    },
    {
     "data": {
      "text/plain": [
       "<AxesSubplot:xlabel='datetime'>"
      ]
     },
     "execution_count": 10,
     "metadata": {},
     "output_type": "execute_result"
    },
    {
     "data": {
      "image/png": "[encoded data removed]",
      "text/plain": [
       "<Figure size 432x288 with 1 Axes>"
      ]
     },
     "metadata": {
      "needs_background": "light"
     },
     "output_type": "display_data"
    }
   ],
   "source": [
    "df_down.cleaning_event.plot()"
   ]
  },
  {
   "cell_type": "code",
   "execution_count": null,
   "metadata": {},
   "outputs": [],
   "source": []
  }
 ],
 "metadata": {
  "kernelspec": {
   "display_name": "Python 3",
   "language": "python",
   "name": "python3"
  },
  "language_info": {
   "codemirror_mode": {
    "name": "ipython",
    "version": 3
   },
   "file_extension": ".py",
   "mimetype": "text/x-python",
   "name": "python",
   "nbconvert_exporter": "python",
   "pygments_lexer": "ipython3",
   "version": "3.6.9"
  }
 },
 "nbformat": 4,
 "nbformat_minor": 4
}
